{
 "cells": [
  {
   "cell_type": "markdown",
   "metadata": {},
   "source": [
    "**Imports**"
   ]
  },
  {
   "cell_type": "code",
   "execution_count": 5,
   "metadata": {},
   "outputs": [],
   "source": [
    "# Install a widget that will allow you to build up interactive plots\n",
    "# !conda install -c conda-forge ipympl -y\n",
    "\n",
    "# If using JupyterLab\n",
    "# !conda install -c conda-forge nodejs -y\n",
    "# !jupyter labextension install @jupyter-widgets/jupyterlab-manager jupyter-matplotlib\n",
    "\n",
    "# After run this lines, close the jupyter session and restore it"
   ]
  },
  {
   "cell_type": "code",
   "execution_count": 1,
   "metadata": {},
   "outputs": [],
   "source": [
    "import pickle as pickle\n",
    "from tensorflow.keras.models import load_model\n",
    "from sklearn.decomposition import PCA\n",
    "import matplotlib.pyplot as plt\n",
    "from mpl_toolkits.mplot3d import axes3d, Axes3D\n",
    "import pandas as pd\n",
    "%matplotlib widget"
   ]
  },
  {
   "cell_type": "markdown",
   "metadata": {},
   "source": [
    "**Load the model and training data**"
   ]
  },
  {
   "cell_type": "code",
   "execution_count": 2,
   "metadata": {},
   "outputs": [],
   "source": [
    "model = load_model(\"model.h5\")\n",
    "labels = pickle.load(open(\"training_data.dat\", \"rb\")).get(\"labels\")\n",
    "data = pickle.load(open(\"training_data.dat\", \"rb\")).get(\"data\")"
   ]
  },
  {
   "cell_type": "markdown",
   "metadata": {},
   "source": [
    "**Performs PCA over the word embedding model layer in order to get 3D**"
   ]
  },
  {
   "cell_type": "code",
   "execution_count": 3,
   "metadata": {},
   "outputs": [
    {
     "data": {
      "text/html": [
       "<div>\n",
       "<style scoped>\n",
       "    .dataframe tbody tr th:only-of-type {\n",
       "        vertical-align: middle;\n",
       "    }\n",
       "\n",
       "    .dataframe tbody tr th {\n",
       "        vertical-align: top;\n",
       "    }\n",
       "\n",
       "    .dataframe thead th {\n",
       "        text-align: right;\n",
       "    }\n",
       "</style>\n",
       "<table border=\"1\" class=\"dataframe\">\n",
       "  <thead>\n",
       "    <tr style=\"text-align: right;\">\n",
       "      <th></th>\n",
       "      <th>PC1</th>\n",
       "      <th>PC2</th>\n",
       "      <th>PC3</th>\n",
       "    </tr>\n",
       "  </thead>\n",
       "  <tbody>\n",
       "    <tr>\n",
       "      <th>0</th>\n",
       "      <td>0.024804</td>\n",
       "      <td>-0.135827</td>\n",
       "      <td>0.137367</td>\n",
       "    </tr>\n",
       "    <tr>\n",
       "      <th>1</th>\n",
       "      <td>0.352741</td>\n",
       "      <td>0.211429</td>\n",
       "      <td>0.036154</td>\n",
       "    </tr>\n",
       "    <tr>\n",
       "      <th>2</th>\n",
       "      <td>-0.004227</td>\n",
       "      <td>0.112113</td>\n",
       "      <td>-0.104535</td>\n",
       "    </tr>\n",
       "    <tr>\n",
       "      <th>3</th>\n",
       "      <td>-0.019700</td>\n",
       "      <td>0.050421</td>\n",
       "      <td>-0.016598</td>\n",
       "    </tr>\n",
       "    <tr>\n",
       "      <th>4</th>\n",
       "      <td>-0.063853</td>\n",
       "      <td>-0.225383</td>\n",
       "      <td>-0.074789</td>\n",
       "    </tr>\n",
       "  </tbody>\n",
       "</table>\n",
       "</div>"
      ],
      "text/plain": [
       "        PC1       PC2       PC3\n",
       "0  0.024804 -0.135827  0.137367\n",
       "1  0.352741  0.211429  0.036154\n",
       "2 -0.004227  0.112113 -0.104535\n",
       "3 -0.019700  0.050421 -0.016598\n",
       "4 -0.063853 -0.225383 -0.074789"
      ]
     },
     "execution_count": 3,
     "metadata": {},
     "output_type": "execute_result"
    }
   ],
   "source": [
    "# Define the PCA\n",
    "pca = PCA(n_components=3)\n",
    "\n",
    "# Fit and transform the PCA model\n",
    "embedding_weights_pca = pca.fit_transform(pd.DataFrame(model.get_layer(\"Embedding\").get_weights()[0]))\n",
    "embedding_weights = pd.DataFrame(data = embedding_weights_pca, columns = ['PC1', 'PC2', 'PC3'])\n",
    "embedding_weights.head()"
   ]
  },
  {
   "cell_type": "markdown",
   "metadata": {},
   "source": [
    "**Plot the word embedding model layer 3D representation**"
   ]
  },
  {
   "cell_type": "code",
   "execution_count": 4,
   "metadata": {},
   "outputs": [
    {
     "data": {
      "application/vnd.jupyter.widget-view+json": {
       "model_id": "e296541ba27141a29de7d6bf5e27c26e",
       "version_major": 2,
       "version_minor": 0
      },
      "text/plain": [
       "Canvas(toolbar=Toolbar(toolitems=[('Home', 'Reset original view', 'home', 'home'), ('Back', 'Back to previous …"
      ]
     },
     "metadata": {},
     "output_type": "display_data"
    }
   ],
   "source": [
    "# Create the figure\n",
    "fig = plt.figure(num=None, figsize=(14, 12), dpi=80, \n",
    "                 facecolor='w', edgecolor='k')\n",
    "ax = plt.axes(projection='3d')\n",
    "\n",
    "for index, (x, y, z) in enumerate(zip(embedding_weights['PC1'], \n",
    "                                      embedding_weights['PC2'], \n",
    "                                      embedding_weights['PC3'])):\n",
    "    # Get the label\n",
    "    label = labels[index]\n",
    "    \n",
    "    # Plot the weight in 3D\n",
    "    if label == \"good\":\n",
    "        color = \"g\"\n",
    "    elif label == \"bad\":\n",
    "        color = \"r\"\n",
    "    else:\n",
    "        color = \"b\"\n",
    "    ax.scatter(x, y, z, color=color, s=12)\n",
    "    \n",
    "    # Set the text for the point\n",
    "    ax.text(x, y, z, data[index], size=12, \n",
    "            zorder=2.5, color='k')\n",
    "    \n",
    "ax.set_title(\"Word Embedding\", fontsize=20)\n",
    "ax.set_xlabel(\"PC1\", fontsize=20)\n",
    "ax.set_ylabel(\"PC2\", fontsize=20)\n",
    "ax.set_zlabel(\"PC3\", fontsize=20)\n",
    "plt.show()"
   ]
  },
  {
   "cell_type": "code",
   "execution_count": null,
   "metadata": {},
   "outputs": [],
   "source": []
  }
 ],
 "metadata": {
  "kernelspec": {
   "display_name": "Python 3",
   "language": "python",
   "name": "python3"
  },
  "language_info": {
   "codemirror_mode": {
    "name": "ipython",
    "version": 3
   },
   "file_extension": ".py",
   "mimetype": "text/x-python",
   "name": "python",
   "nbconvert_exporter": "python",
   "pygments_lexer": "ipython3",
   "version": "3.8.3"
  }
 },
 "nbformat": 4,
 "nbformat_minor": 4
}
