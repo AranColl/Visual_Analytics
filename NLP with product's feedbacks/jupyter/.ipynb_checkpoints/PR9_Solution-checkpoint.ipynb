{
 "cells": [
  {
   "cell_type": "markdown",
   "metadata": {},
   "source": [
    "# PR 9: Text Analytics for Customer Care\n",
    "\n",
    "# Seminar goals:\n",
    "In this project, we will work on Text Analytics applied to Customer Care. These methodologies are broadly used in business to multiple use cases as:\n",
    "- Identify **leaknesses** in Customer services\n",
    "- Identify **unsatisfied customers**\n",
    "- Identify **potential issues** \n",
    "- Automate the customer-company interaction\n",
    "\n",
    "During this project we will follow the end-to-end Machine Learning process: from data gathering and cleaning, exploratory data analysis, feature engineering, model training and prediction, and finally, data visualization in order to identify potential unsatisfied customers, main topics related with a given product, etc.. In particular, the main sections of this project are:\n",
    "1. Data understanding and preparation: exploration of the dataset and feature engineering\n",
    "2. Text processing: clean and transform the text in order to improve our model accuracy\n",
    "2. Model Training: training a Sentimental Analysis Model. Analysis of metrics (recall, precision, confusion metrics)\n",
    "3. Creating a Business opportunity with Machine Learning: selection of the best model and identification of the most important features\n",
    "4. Create the Customer Care dashboard: Build up an interactive dashboard in order to convert data into easily consumable information.\n",
    "\n",
    "**What do you have to deliver?**\n",
    "\n",
    "- **Code**: This Jupyter completed with your code\n",
    "- **Visualization**: Some exercises will require an interactive visualization that can be done in any platform (Tableau, Power BI, ...). The only requirement is: if it is not done in Tableau or Power BI you must provide a full guideline about how to install it and any other thing required to use it.\n",
    "- **Report**: A PDF where you expose your conclusions to those questions remarked with **[REPORT]**\n",
    "\n",
    "### Due date: up to xxx, 23:55h. \n",
    "### Submission procedure: via Moodle.\n",
    "\n",
    "# 0. Context: Using Machine Learning applied to text to improve Customer Care services\n",
    "\n",
    "We work as a head of data science and AI in a Ecommerce company.\n",
    "\n",
    "Our Customer Services Department takes a long time to process all the information they have and detect unsatisfied customers. Therefore, they came to us and ask for a platform that solves their problem: automate the data extraction, process the data and deliver the output in a dashboard that they can consume with the objective of being able to detect the unsatisfied customers, the main topics why they are unsatisfied, see the customer's history, and many other graphs that help them to improve the Customer Service.\n",
    "\n",
    "## 0.1 Dataset\n",
    "\n",
    "We are working with a kaggle dataset that is composed by two datasets: \n",
    "\n",
    "**Product Reviews**\n",
    "\n",
    "Contains the review done by a customer for a given product. Its fields are the following ones:\n",
    "\n",
    "- **ReviewTitle**: Title of the review\n",
    "- **ReviewBody**: Contains the review done by the customer\n",
    "- **ReviewStar**: How many stars the customer assigns to the product. From 0 to 5, where 0 is the worst value and 5 the best one.\n",
    "- **Product**: Product identifier\n",
    "\n",
    "**Product Info**\n",
    "\n",
    "Contains the info about a given product. Its fields are the following ones:\n",
    "\n",
    "- **MRP**: Unknown (non used)\n",
    "- **Price**: price of the product\n",
    "- **ProductFullName**: Full name of the product\n",
    "- **ProductShortName**: Short name of the product. This is the one that join the product with all reviews it has.\n",
    "- **ReviewURL**: URL to see the product description\n",
    "- **id**: Unique identifier of the product."
   ]
  },
  {
   "cell_type": "markdown",
   "metadata": {},
   "source": [
    "## 0.2. Imports"
   ]
  },
  {
   "cell_type": "code",
   "execution_count": 1,
   "metadata": {},
   "outputs": [],
   "source": [
    "import pandas as pd\n",
    "import seaborn as sns\n",
    "import os\n",
    "import numpy as np\n",
    "import matplotlib.pyplot as plt\n",
    "import nltk\n",
    "import string\n",
    "import unidecode\n",
    "import re\n",
    "\n",
    "# Set Pandas to show all the columns\n",
    "pd.set_option('display.max_columns', None)"
   ]
  },
  {
   "cell_type": "markdown",
   "metadata": {},
   "source": [
    "**Download the stemmers**"
   ]
  },
  {
   "cell_type": "code",
   "execution_count": 2,
   "metadata": {},
   "outputs": [
    {
     "name": "stderr",
     "output_type": "stream",
     "text": [
      "[nltk_data] Downloading package punkt to\n",
      "[nltk_data]     /Users/danielhormigoruiz/nltk_data...\n",
      "[nltk_data]   Package punkt is already up-to-date!\n"
     ]
    },
    {
     "data": {
      "text/plain": [
       "True"
      ]
     },
     "execution_count": 2,
     "metadata": {},
     "output_type": "execute_result"
    }
   ],
   "source": [
    "nltk.download('punkt')"
   ]
  },
  {
   "cell_type": "markdown",
   "metadata": {},
   "source": [
    "**Continue with the imports**"
   ]
  },
  {
   "cell_type": "code",
   "execution_count": 3,
   "metadata": {},
   "outputs": [],
   "source": [
    "import nltk.stem as stemmers\n",
    "from tensorflow.keras.preprocessing.text import Tokenizer\n",
    "from tensorflow.keras.preprocessing.sequence import pad_sequences\n",
    "from sklearn.model_selection import train_test_split\n",
    "from tensorflow.keras.models import Model\n",
    "from tensorflow.keras.layers import Dense, LSTM, Embedding, Input, Dropout, SpatialDropout1D"
   ]
  },
  {
   "cell_type": "markdown",
   "metadata": {
    "colab_type": "text",
    "id": "Ps7lkUkQJmuk"
   },
   "source": [
    "# **1. Data understanding and preparation**"
   ]
  },
  {
   "cell_type": "markdown",
   "metadata": {
    "colab_type": "text",
    "id": "25Sj9ucPJmuk"
   },
   "source": [
    "As you already know, the first stage in any Machine Learning project is to have a clear understanding of the dataset. When working with text this is not as easy as working with numerical data, but after this practice you will know how to proceed. A same sentence can be written in many different ways (for example: how are you? | how are u?), so we must apply different text processing techniques in order to standarize the text and be able to rightly build up models on top of it."
   ]
  },
  {
   "cell_type": "markdown",
   "metadata": {},
   "source": [
    "### **1.1 Read the data**\n",
    "\n",
    "Let's open both csv with separator \",\" and assign to a dataframe variable (use read_csv from Pandas library). Let's see the top 5 elements."
   ]
  },
  {
   "cell_type": "code",
   "execution_count": 4,
   "metadata": {},
   "outputs": [],
   "source": [
    "# Define the parameters to read the data\n",
    "root_path = \"../datos\"\n",
    "info_file = \"ProductInfo.csv\"\n",
    "reviews_file = \"ProductReviews.csv\"\n",
    "sep = \",\"\n",
    "encoding = \"utf-8\"\n",
    "\n",
    "# Read the data\n",
    "info_df = pd.read_csv(filepath_or_buffer=os.path.abspath(os.path.join(root_path, info_file)), sep = sep, encoding = encoding)\n",
    "reviews_df = pd.read_csv(filepath_or_buffer=os.path.abspath(os.path.join(root_path, reviews_file)), sep = sep, encoding = encoding)"
   ]
  },
  {
   "cell_type": "code",
   "execution_count": 5,
   "metadata": {},
   "outputs": [
    {
     "data": {
      "text/html": [
       "<div>\n",
       "<style scoped>\n",
       "    .dataframe tbody tr th:only-of-type {\n",
       "        vertical-align: middle;\n",
       "    }\n",
       "\n",
       "    .dataframe tbody tr th {\n",
       "        vertical-align: top;\n",
       "    }\n",
       "\n",
       "    .dataframe thead th {\n",
       "        text-align: right;\n",
       "    }\n",
       "</style>\n",
       "<table border=\"1\" class=\"dataframe\">\n",
       "  <thead>\n",
       "    <tr style=\"text-align: right;\">\n",
       "      <th></th>\n",
       "      <th>MRP</th>\n",
       "      <th>Price</th>\n",
       "      <th>ProductFullName</th>\n",
       "      <th>ProductShortName</th>\n",
       "      <th>ReviewURL</th>\n",
       "      <th>id</th>\n",
       "    </tr>\n",
       "  </thead>\n",
       "  <tbody>\n",
       "    <tr>\n",
       "      <th>0</th>\n",
       "      <td>2990</td>\n",
       "      <td>1399</td>\n",
       "      <td>boAt Rockerz 255 Sports Bluetooth Wireless Ear...</td>\n",
       "      <td>boAt Rockerz 255</td>\n",
       "      <td>https://www.amazon.in/255-Bluetooth-Wireless-E...</td>\n",
       "      <td>1</td>\n",
       "    </tr>\n",
       "    <tr>\n",
       "      <th>1</th>\n",
       "      <td>3999</td>\n",
       "      <td>1099</td>\n",
       "      <td>Flybot Wave in-Ear Sport Wireless Bluetooth Ea...</td>\n",
       "      <td>Flybot Wave</td>\n",
       "      <td>https://www.amazon.in/Flybot-Wireless-Bluetoot...</td>\n",
       "      <td>2</td>\n",
       "    </tr>\n",
       "    <tr>\n",
       "      <th>2</th>\n",
       "      <td>3999</td>\n",
       "      <td>1099</td>\n",
       "      <td>Flybot Boom Deep Bass in-Ear Wireless Bluetoot...</td>\n",
       "      <td>Flybot Boom</td>\n",
       "      <td>https://www.amazon.in/Flybot-Wireless-Bluetoot...</td>\n",
       "      <td>3</td>\n",
       "    </tr>\n",
       "    <tr>\n",
       "      <th>3</th>\n",
       "      <td>2000</td>\n",
       "      <td>749</td>\n",
       "      <td>PTron Intunes Pro Headphone Magnetic Earphone ...</td>\n",
       "      <td>PTron Intunes</td>\n",
       "      <td>https://www.amazon.in/PTron-Intunes-Pro-Smartp...</td>\n",
       "      <td>4</td>\n",
       "    </tr>\n",
       "    <tr>\n",
       "      <th>4</th>\n",
       "      <td>5999</td>\n",
       "      <td>2999</td>\n",
       "      <td>Flybot Beat True Wireless Bluetooth Earphones ...</td>\n",
       "      <td>Flybot Beat</td>\n",
       "      <td>https://www.amazon.in/Flybot-Wireless-Bluetoot...</td>\n",
       "      <td>5</td>\n",
       "    </tr>\n",
       "  </tbody>\n",
       "</table>\n",
       "</div>"
      ],
      "text/plain": [
       "    MRP  Price                                    ProductFullName  \\\n",
       "0  2990   1399  boAt Rockerz 255 Sports Bluetooth Wireless Ear...   \n",
       "1  3999   1099  Flybot Wave in-Ear Sport Wireless Bluetooth Ea...   \n",
       "2  3999   1099  Flybot Boom Deep Bass in-Ear Wireless Bluetoot...   \n",
       "3  2000    749  PTron Intunes Pro Headphone Magnetic Earphone ...   \n",
       "4  5999   2999  Flybot Beat True Wireless Bluetooth Earphones ...   \n",
       "\n",
       "   ProductShortName                                          ReviewURL  id  \n",
       "0  boAt Rockerz 255  https://www.amazon.in/255-Bluetooth-Wireless-E...   1  \n",
       "1       Flybot Wave  https://www.amazon.in/Flybot-Wireless-Bluetoot...   2  \n",
       "2       Flybot Boom  https://www.amazon.in/Flybot-Wireless-Bluetoot...   3  \n",
       "3     PTron Intunes  https://www.amazon.in/PTron-Intunes-Pro-Smartp...   4  \n",
       "4       Flybot Beat  https://www.amazon.in/Flybot-Wireless-Bluetoot...   5  "
      ]
     },
     "execution_count": 5,
     "metadata": {},
     "output_type": "execute_result"
    }
   ],
   "source": [
    "info_df.head()"
   ]
  },
  {
   "cell_type": "code",
   "execution_count": 6,
   "metadata": {},
   "outputs": [
    {
     "data": {
      "text/html": [
       "<div>\n",
       "<style scoped>\n",
       "    .dataframe tbody tr th:only-of-type {\n",
       "        vertical-align: middle;\n",
       "    }\n",
       "\n",
       "    .dataframe tbody tr th {\n",
       "        vertical-align: top;\n",
       "    }\n",
       "\n",
       "    .dataframe thead th {\n",
       "        text-align: right;\n",
       "    }\n",
       "</style>\n",
       "<table border=\"1\" class=\"dataframe\">\n",
       "  <thead>\n",
       "    <tr style=\"text-align: right;\">\n",
       "      <th></th>\n",
       "      <th>ReviewTitle</th>\n",
       "      <th>ReviewBody</th>\n",
       "      <th>ReviewStar</th>\n",
       "      <th>Product</th>\n",
       "    </tr>\n",
       "  </thead>\n",
       "  <tbody>\n",
       "    <tr>\n",
       "      <th>0</th>\n",
       "      <td>Honest review of an edm music lover\\n</td>\n",
       "      <td>No doubt it has a great bass and to a great ex...</td>\n",
       "      <td>3</td>\n",
       "      <td>boAt Rockerz 255</td>\n",
       "    </tr>\n",
       "    <tr>\n",
       "      <th>1</th>\n",
       "      <td>Unreliable earphones with high cost\\n</td>\n",
       "      <td>This  earphones are unreliable, i bought it be...</td>\n",
       "      <td>1</td>\n",
       "      <td>boAt Rockerz 255</td>\n",
       "    </tr>\n",
       "    <tr>\n",
       "      <th>2</th>\n",
       "      <td>Really good and durable.\\n</td>\n",
       "      <td>i bought itfor 999,I purchased it second time,...</td>\n",
       "      <td>4</td>\n",
       "      <td>boAt Rockerz 255</td>\n",
       "    </tr>\n",
       "    <tr>\n",
       "      <th>3</th>\n",
       "      <td>stopped working in just 14 days\\n</td>\n",
       "      <td>Its sound quality is adorable. overall it was ...</td>\n",
       "      <td>1</td>\n",
       "      <td>boAt Rockerz 255</td>\n",
       "    </tr>\n",
       "    <tr>\n",
       "      <th>4</th>\n",
       "      <td>Just Awesome Wireless Headphone under 1000...😉\\n</td>\n",
       "      <td>Its Awesome... Good sound quality &amp; 8-9 hrs ba...</td>\n",
       "      <td>5</td>\n",
       "      <td>boAt Rockerz 255</td>\n",
       "    </tr>\n",
       "    <tr>\n",
       "      <th>...</th>\n",
       "      <td>...</td>\n",
       "      <td>...</td>\n",
       "      <td>...</td>\n",
       "      <td>...</td>\n",
       "    </tr>\n",
       "    <tr>\n",
       "      <th>14332</th>\n",
       "      <td>Good\\n</td>\n",
       "      <td>Good\\n</td>\n",
       "      <td>4</td>\n",
       "      <td>JBL T110BT</td>\n",
       "    </tr>\n",
       "    <tr>\n",
       "      <th>14333</th>\n",
       "      <td>Amazing Product\\n</td>\n",
       "      <td>An amazing product but a bit costly.\\n</td>\n",
       "      <td>5</td>\n",
       "      <td>JBL T110BT</td>\n",
       "    </tr>\n",
       "    <tr>\n",
       "      <th>14334</th>\n",
       "      <td>Not bad\\n</td>\n",
       "      <td>Sound\\n</td>\n",
       "      <td>1</td>\n",
       "      <td>JBL T110BT</td>\n",
       "    </tr>\n",
       "    <tr>\n",
       "      <th>14335</th>\n",
       "      <td>a good product\\n</td>\n",
       "      <td>the sound is good battery life is good but the...</td>\n",
       "      <td>5</td>\n",
       "      <td>JBL T110BT</td>\n",
       "    </tr>\n",
       "    <tr>\n",
       "      <th>14336</th>\n",
       "      <td>Average headphones , n overrated name\\n</td>\n",
       "      <td>M writing this review after using for almost 7...</td>\n",
       "      <td>1</td>\n",
       "      <td>JBL T110BT</td>\n",
       "    </tr>\n",
       "  </tbody>\n",
       "</table>\n",
       "<p>14337 rows × 4 columns</p>\n",
       "</div>"
      ],
      "text/plain": [
       "                                            ReviewTitle  \\\n",
       "0                 Honest review of an edm music lover\\n   \n",
       "1                 Unreliable earphones with high cost\\n   \n",
       "2                            Really good and durable.\\n   \n",
       "3                     stopped working in just 14 days\\n   \n",
       "4      Just Awesome Wireless Headphone under 1000...😉\\n   \n",
       "...                                                 ...   \n",
       "14332                                            Good\\n   \n",
       "14333                                 Amazing Product\\n   \n",
       "14334                                         Not bad\\n   \n",
       "14335                                  a good product\\n   \n",
       "14336           Average headphones , n overrated name\\n   \n",
       "\n",
       "                                              ReviewBody  ReviewStar  \\\n",
       "0      No doubt it has a great bass and to a great ex...           3   \n",
       "1      This  earphones are unreliable, i bought it be...           1   \n",
       "2      i bought itfor 999,I purchased it second time,...           4   \n",
       "3      Its sound quality is adorable. overall it was ...           1   \n",
       "4      Its Awesome... Good sound quality & 8-9 hrs ba...           5   \n",
       "...                                                  ...         ...   \n",
       "14332                                             Good\\n           4   \n",
       "14333             An amazing product but a bit costly.\\n           5   \n",
       "14334                                            Sound\\n           1   \n",
       "14335  the sound is good battery life is good but the...           5   \n",
       "14336  M writing this review after using for almost 7...           1   \n",
       "\n",
       "                Product  \n",
       "0      boAt Rockerz 255  \n",
       "1      boAt Rockerz 255  \n",
       "2      boAt Rockerz 255  \n",
       "3      boAt Rockerz 255  \n",
       "4      boAt Rockerz 255  \n",
       "...                 ...  \n",
       "14332        JBL T110BT  \n",
       "14333        JBL T110BT  \n",
       "14334        JBL T110BT  \n",
       "14335        JBL T110BT  \n",
       "14336        JBL T110BT  \n",
       "\n",
       "[14337 rows x 4 columns]"
      ]
     },
     "execution_count": 6,
     "metadata": {},
     "output_type": "execute_result"
    }
   ],
   "source": [
    "reviews_df"
   ]
  },
  {
   "cell_type": "markdown",
   "metadata": {},
   "source": [
    "[**EX 1**] \n",
    "\n",
    "Keep and rename the defined fields per dataframe and join them. The resulted dataframe must be named as _data_. Moreover, assing an incremental ID (called as _id_) to each review in order to be able to identify it in future steps\n",
    "\n",
    "- **info_df**: \n",
    "    - ProductShortName: Product\n",
    "    - Price: Price\n",
    "    \n",
    "    \n",
    "- **reviews_df**: \n",
    "    - ReviewBody: Text \n",
    "    - ReviewStar: Star\n",
    "    - Product: Product\n",
    "\n",
    "**Solution**"
   ]
  },
  {
   "cell_type": "code",
   "execution_count": 7,
   "metadata": {},
   "outputs": [],
   "source": [
    "# Keep required fields\n",
    "info_df = info_df[[\"ProductShortName\", \"Price\"]]\n",
    "reviews_df = reviews_df[[\"ReviewBody\", \"ReviewStar\", \"Product\"]]\n",
    "\n",
    "# Rename\n",
    "info_df = info_df.rename(columns = {\"ProductShortName\": \"Product\", \n",
    "                                    \"Price\": \"Price\"})\n",
    "reviews_df = reviews_df.rename(columns = {\"ReviewBody\": \"Text\", \n",
    "                                          \"ReviewStar\": \"Star\",\n",
    "                                          \"Product\": \"Product\"})\n",
    "\n",
    "# Join both dataframes\n",
    "data = pd.merge(left = reviews_df, right = info_df, left_on = [\"Product\"], right_on = \"Product\", how = \"left\")\n",
    "\n",
    "# Assign the ID\n",
    "data['id'] = data.index"
   ]
  },
  {
   "cell_type": "code",
   "execution_count": 8,
   "metadata": {},
   "outputs": [
    {
     "data": {
      "text/html": [
       "<div>\n",
       "<style scoped>\n",
       "    .dataframe tbody tr th:only-of-type {\n",
       "        vertical-align: middle;\n",
       "    }\n",
       "\n",
       "    .dataframe tbody tr th {\n",
       "        vertical-align: top;\n",
       "    }\n",
       "\n",
       "    .dataframe thead th {\n",
       "        text-align: right;\n",
       "    }\n",
       "</style>\n",
       "<table border=\"1\" class=\"dataframe\">\n",
       "  <thead>\n",
       "    <tr style=\"text-align: right;\">\n",
       "      <th></th>\n",
       "      <th>Text</th>\n",
       "      <th>Star</th>\n",
       "      <th>Product</th>\n",
       "      <th>Price</th>\n",
       "      <th>id</th>\n",
       "    </tr>\n",
       "  </thead>\n",
       "  <tbody>\n",
       "    <tr>\n",
       "      <th>0</th>\n",
       "      <td>No doubt it has a great bass and to a great ex...</td>\n",
       "      <td>3</td>\n",
       "      <td>boAt Rockerz 255</td>\n",
       "      <td>1399</td>\n",
       "      <td>0</td>\n",
       "    </tr>\n",
       "    <tr>\n",
       "      <th>1</th>\n",
       "      <td>This  earphones are unreliable, i bought it be...</td>\n",
       "      <td>1</td>\n",
       "      <td>boAt Rockerz 255</td>\n",
       "      <td>1399</td>\n",
       "      <td>1</td>\n",
       "    </tr>\n",
       "    <tr>\n",
       "      <th>2</th>\n",
       "      <td>i bought itfor 999,I purchased it second time,...</td>\n",
       "      <td>4</td>\n",
       "      <td>boAt Rockerz 255</td>\n",
       "      <td>1399</td>\n",
       "      <td>2</td>\n",
       "    </tr>\n",
       "    <tr>\n",
       "      <th>3</th>\n",
       "      <td>Its sound quality is adorable. overall it was ...</td>\n",
       "      <td>1</td>\n",
       "      <td>boAt Rockerz 255</td>\n",
       "      <td>1399</td>\n",
       "      <td>3</td>\n",
       "    </tr>\n",
       "    <tr>\n",
       "      <th>4</th>\n",
       "      <td>Its Awesome... Good sound quality &amp; 8-9 hrs ba...</td>\n",
       "      <td>5</td>\n",
       "      <td>boAt Rockerz 255</td>\n",
       "      <td>1399</td>\n",
       "      <td>4</td>\n",
       "    </tr>\n",
       "  </tbody>\n",
       "</table>\n",
       "</div>"
      ],
      "text/plain": [
       "                                                Text  Star           Product  \\\n",
       "0  No doubt it has a great bass and to a great ex...     3  boAt Rockerz 255   \n",
       "1  This  earphones are unreliable, i bought it be...     1  boAt Rockerz 255   \n",
       "2  i bought itfor 999,I purchased it second time,...     4  boAt Rockerz 255   \n",
       "3  Its sound quality is adorable. overall it was ...     1  boAt Rockerz 255   \n",
       "4  Its Awesome... Good sound quality & 8-9 hrs ba...     5  boAt Rockerz 255   \n",
       "\n",
       "   Price  id  \n",
       "0   1399   0  \n",
       "1   1399   1  \n",
       "2   1399   2  \n",
       "3   1399   3  \n",
       "4   1399   4  "
      ]
     },
     "execution_count": 8,
     "metadata": {},
     "output_type": "execute_result"
    }
   ],
   "source": [
    "data.head()"
   ]
  },
  {
   "cell_type": "markdown",
   "metadata": {},
   "source": [
    "**Split the dataset into data to be used during the class and data to be used during report generation**"
   ]
  },
  {
   "cell_type": "code",
   "execution_count": 9,
   "metadata": {},
   "outputs": [],
   "source": [
    "# Keep the 10% for reporting\n",
    "data_report = data.sample(frac = 0.1)\n",
    "\n",
    "# The rest for class\n",
    "data = data.drop(index=data_report.index)"
   ]
  },
  {
   "cell_type": "markdown",
   "metadata": {},
   "source": [
    "### **1.2 Dataset Exploratory Data Analysis (EDA)**\n",
    "\n",
    "Working with text is more complex than with numerical data, so EDA must be done in a different way. The reason behind is the ramdon component when writing/typing, where a given sentence can be written in many different ways. Therefore, the EDA must be done twice: Firstly, no standardizing the text in order to define the cleaning processes we have to apply, and sencodly when text is standardized and we can extract real information from it. \n",
    "\n",
    "### **1.2.1 Defining cleaning process**\n",
    "\n",
    "The first thing we must do is to have a look at the text and check if there is anything that catches your eye. "
   ]
  },
  {
   "cell_type": "markdown",
   "metadata": {
    "colab_type": "text",
    "id": "yZdXjlz0Jmup"
   },
   "source": [
    "[**EX1**]\n",
    "\n",
    "Identify the type of each variable and check if they are rightly assigned. In case no, then change it to:\n",
    "\n",
    "- Text: string (object in Pandas)\n",
    "- Star: int\n",
    "- Product: string (object in Pandas)\n",
    "- Price: int\n",
    "\n",
    "**Questions**\n",
    "\n",
    "- How many records does the data have?\n",
    "\n",
    "- How many nulls does each attribute have? Have a look at the text and check if there is no masked null values."
   ]
  },
  {
   "cell_type": "markdown",
   "metadata": {},
   "source": [
    "**Solution**"
   ]
  },
  {
   "cell_type": "markdown",
   "metadata": {},
   "source": [
    "Aparently there is no nulls in any field, but in Text this assumption is fake. There are some records with only '\\n' values or emojis, so we must clean it before answering this question"
   ]
  },
  {
   "cell_type": "code",
   "execution_count": 10,
   "metadata": {},
   "outputs": [
    {
     "name": "stdout",
     "output_type": "stream",
     "text": [
      "<class 'pandas.core.frame.DataFrame'>\n",
      "Int64Index: 12903 entries, 1 to 14336\n",
      "Data columns (total 5 columns):\n",
      " #   Column   Non-Null Count  Dtype \n",
      "---  ------   --------------  ----- \n",
      " 0   Text     12903 non-null  object\n",
      " 1   Star     12903 non-null  int64 \n",
      " 2   Product  12903 non-null  object\n",
      " 3   Price    12903 non-null  int64 \n",
      " 4   id       12903 non-null  int64 \n",
      "dtypes: int64(3), object(2)\n",
      "memory usage: 604.8+ KB\n"
     ]
    }
   ],
   "source": [
    "data.info()"
   ]
  },
  {
   "cell_type": "code",
   "execution_count": 11,
   "metadata": {},
   "outputs": [
    {
     "data": {
      "text/plain": [
       "Text       0\n",
       "Star       0\n",
       "Product    0\n",
       "Price      0\n",
       "id         0\n",
       "dtype: int64"
      ]
     },
     "execution_count": 11,
     "metadata": {},
     "output_type": "execute_result"
    }
   ],
   "source": [
    "data.isna().sum()"
   ]
  },
  {
   "cell_type": "code",
   "execution_count": 12,
   "metadata": {},
   "outputs": [
    {
     "data": {
      "text/plain": [
       "14263                                                   \\n\n",
       "5742                                                    \\n\n",
       "73       # Light but well built, doesn't feel bulky# Ba...\n",
       "45       ** the product was a perfect purchase... but i...\n",
       "7617     *Advantages:--Better sound quality-Ear fit des...\n",
       "                               ...                        \n",
       "11680               😍😍Simply terrefic ! Incomparable....\\n\n",
       "4152                                    😍😍😍best in class\\n\n",
       "3675                                                  😘💪\\n\n",
       "3546                                                 🙏🙏🙏\\n\n",
       "4605                                                  🤟🏻\\n\n",
       "Name: Text, Length: 12903, dtype: object"
      ]
     },
     "execution_count": 12,
     "metadata": {},
     "output_type": "execute_result"
    }
   ],
   "source": [
    "data.Text.sort_values()"
   ]
  },
  {
   "cell_type": "markdown",
   "metadata": {
    "colab_type": "text",
    "id": "ac3WaGyAJmup"
   },
   "source": [
    "--------\n",
    "As mentioned above, working with text is not as direct as we thought. Text can contain some strange values like emojis or whitespace characters (\\s, \\n, \\t, \\r) that must be removed from text. \n",
    "\n",
    "[**EX 2**] \n",
    "\n",
    "Inspect the Text values and check if there is emojis or any other strange character that must be removed. Explain what you have found."
   ]
  },
  {
   "cell_type": "markdown",
   "metadata": {},
   "source": [
    "**Solution**"
   ]
  },
  {
   "cell_type": "markdown",
   "metadata": {},
   "source": [
    "There are so many values that must be removed or replaced, like emojis, \\n, #, ** ..."
   ]
  },
  {
   "cell_type": "markdown",
   "metadata": {},
   "source": [
    "**[EX 3]** \n",
    "\n",
    "Fill up the following functions where is marked with TODO. In case you need/want to add new functions, just add them in the same cell than the others. Demostrate your process has been properly done by inspecting some Text and Text_Clean values."
   ]
  },
  {
   "cell_type": "markdown",
   "metadata": {},
   "source": [
    "**Solution**"
   ]
  },
  {
   "cell_type": "code",
   "execution_count": 13,
   "metadata": {},
   "outputs": [],
   "source": [
    "def remove_accents(text):\n",
    "    if text:\n",
    "        # TODO: remove the accents from text (tip: search for unicode)\n",
    "        return ' '.join([unidecode.unidecode(word) for word in text.split()])\n",
    "\n",
    "    # In case there is no text\n",
    "    return \"\"\n",
    "\n",
    "def remove_punctuation_marks(text):\n",
    "    if text:\n",
    "        # TODO: Remove the punctuation marks from text (tip: search for translate and maketrans)\n",
    "        return text.translate(str.maketrans(string.punctuation, ' '*len(string.punctuation)))\n",
    "\n",
    "    # In case there is no text\n",
    "    return \"\"\n",
    "\n",
    "def text_to_lower_case(text):\n",
    "    if text:\n",
    "        # TODO: convert text to lower case\n",
    "        return text.lower()\n",
    "    \n",
    "    # In case there is no text\n",
    "    return \"\"\n",
    "\n",
    "def remove_emojis(text):\n",
    "    if text:\n",
    "        # TODO: Remove emojis (tip: search for encode - decode)\n",
    "        return text.encode('ascii', 'ignore').decode('ascii')\n",
    "\n",
    "    # In case there is no text\n",
    "    return \"\"\n",
    "\n",
    "def remove_multiple_whitespaces(text):\n",
    "    if text:\n",
    "        # TODO: remove multiple whitespaces (tip: search for regex and replace)\n",
    "        return text.replace(\" +\", \" \").strip()\n",
    "\n",
    "    # In case there is no text\n",
    "    return \"\"\n",
    "\n",
    "def remove_text_marks(text):\n",
    "    if text:\n",
    "        # TODO: replace characters like it\\'s by its\n",
    "        text = re.sub(r\"\\'\", \"\", text)\n",
    "        \n",
    "        # TODO: replace *, ?, ... by spaces\n",
    "        text = re.sub(r'[^\\w]', ' ', text)\n",
    "        \n",
    "        return text.strip()\n",
    "    \n",
    "    # In case there is no text\n",
    "    return \"\"\n",
    "\n",
    "def split_text_and_numbers(text):\n",
    "    return text\n",
    "\n",
    "def remove_alone_numbers(text):\n",
    "    if text:\n",
    "        # TODO: keep only text\n",
    "        text = re.sub(r\"\\d\", \"\", text)\n",
    "        \n",
    "        return text\n",
    "    \n",
    "    return \"\"\n",
    "\n",
    "def clean_text(text):\n",
    "    # Apply the different functions in order to clean the text\n",
    "    text = text_to_lower_case(text)\n",
    "    text = remove_text_marks(text)\n",
    "    text = remove_punctuation_marks(text)\n",
    "    text = remove_accents(text)\n",
    "    text = remove_emojis(text)\n",
    "    text = split_text_and_numbers(text)\n",
    "    text = remove_alone_numbers(text)\n",
    "    text = remove_multiple_whitespaces(text)\n",
    "    \n",
    "    # Return\n",
    "    return text"
   ]
  },
  {
   "cell_type": "code",
   "execution_count": 14,
   "metadata": {},
   "outputs": [],
   "source": [
    "data['Text_Clean'] = data.Text.apply(lambda text: clean_text(text))"
   ]
  },
  {
   "cell_type": "code",
   "execution_count": 15,
   "metadata": {},
   "outputs": [
    {
     "data": {
      "text/plain": [
       "array([['M writing this review after using for almost 7 months , now it has stopped working n have mailed my concern to JBL as it had 1 year of warranty but believe me nobody is ready to reslove or respond to my query, wastey my money on this just because of brand value totally disappointed\\n',\n",
       "        'm writing this review after using for almost  months now it has stopped working n have mailed my concern to jbl as it had  year of warranty but believe me nobody is ready to reslove or respond to my query wastey my money on this just because of brand value totally disappointed']],\n",
       "      dtype=object)"
      ]
     },
     "execution_count": 15,
     "metadata": {},
     "output_type": "execute_result"
    }
   ],
   "source": [
    "data[[\"Text\", \"Text_Clean\"]].tail(1).values"
   ]
  },
  {
   "cell_type": "markdown",
   "metadata": {},
   "source": [
    "### **1.2.2 EDA in text**\n",
    "\n",
    "- **Book**: [Natural Language Processing with Python](https://www.nltk.org/book/)\n",
    "\n",
    "Once text is cleaned we can apply the EDA to it. To this step I highly recommend you to use the book indicated above, which will provides you a great guideline about how to work with text.\n",
    "\n",
    "#### **1.2.2.1 Converting to nltk.Text** \n",
    "\n",
    "In order to be able to take the most of NLTK power, we must firstly convert the text into [nltk.Text](https://www.kite.com/python/docs/nltk.Text) objects. In order to do this, nltk needs to receive a list of tokens (smallest piece of text -- a word).\n",
    "\n",
    "**[EX 4]** \n",
    "\n",
    "Fill up the function *convert_to_nltk_text* where is marked with TODO.\n",
    "\n",
    "**Solution**"
   ]
  },
  {
   "cell_type": "code",
   "execution_count": 16,
   "metadata": {},
   "outputs": [],
   "source": [
    "def convert_to_nltk_text(data, \n",
    "                         text_field):\n",
    "    # List that will store tokens\n",
    "    tokens = []\n",
    "    \n",
    "    # TODO: Fill up the tokens list with the text comming from data[text_field] \n",
    "    for text in data[text_field].values:\n",
    "        tokens.extend(text.split(\" \"))\n",
    "    \n",
    "    # Return nltk.Text object\n",
    "    return nltk.Text(tokens)"
   ]
  },
  {
   "cell_type": "code",
   "execution_count": 17,
   "metadata": {},
   "outputs": [],
   "source": [
    "# Get the nltk.Text object\n",
    "nltk_text = convert_to_nltk_text(data, \"Text_Clean\")"
   ]
  },
  {
   "cell_type": "markdown",
   "metadata": {},
   "source": [
    "The nltk.Text object is mainly composed by tokens. If you want to see them you can just type nltk_text.tokens and have a look."
   ]
  },
  {
   "cell_type": "code",
   "execution_count": 18,
   "metadata": {},
   "outputs": [
    {
     "data": {
      "text/plain": [
       "['this',\n",
       " 'earphones',\n",
       " 'are',\n",
       " 'unreliable',\n",
       " 'i',\n",
       " 'bought',\n",
       " 'it',\n",
       " 'before',\n",
       " '',\n",
       " 'days',\n",
       " 'meanwhile',\n",
       " 'right',\n",
       " 'side',\n",
       " 'ear',\n",
       " 'buds',\n",
       " 'got',\n",
       " 'cracked',\n",
       " 'automatically',\n",
       " 'and',\n",
       " 'it']"
      ]
     },
     "execution_count": 18,
     "metadata": {},
     "output_type": "execute_result"
    }
   ],
   "source": [
    "nltk_text.tokens[:20]  # Show only 20. Increase it if you want to"
   ]
  },
  {
   "cell_type": "markdown",
   "metadata": {},
   "source": [
    "#### **1.2.2.2 Frequency distributions** \n",
    "\n",
    "Tells us the frequency of each vocabulary item in the text. This is very important when working with text because it tells you the main words of a given set of texts; really usefull when trying to detect the main topics why customers are unsatisfied."
   ]
  },
  {
   "cell_type": "code",
   "execution_count": 19,
   "metadata": {
    "collapsed": false,
    "jupyter": {
     "outputs_hidden": false
    }
   },
   "outputs": [
    {
     "data": {
      "text/plain": [
       "['this',\n",
       " 'earphones',\n",
       " 'are',\n",
       " 'unreliable',\n",
       " 'i',\n",
       " 'bought',\n",
       " 'it',\n",
       " 'before',\n",
       " '',\n",
       " 'days',\n",
       " 'meanwhile',\n",
       " 'right',\n",
       " 'side',\n",
       " 'ear',\n",
       " 'buds',\n",
       " 'got',\n",
       " 'cracked',\n",
       " 'automatically',\n",
       " 'and',\n",
       " 'divided',\n",
       " 'in',\n",
       " 'two',\n",
       " 'parts',\n",
       " 'sound',\n",
       " 'quality',\n",
       " 'is',\n",
       " 'also',\n",
       " 'not',\n",
       " 'that',\n",
       " 'much',\n",
       " 'good',\n",
       " 'but',\n",
       " 'ok',\n",
       " 'one',\n",
       " 'more',\n",
       " 'thing',\n",
       " 'bass',\n",
       " 'as',\n",
       " 'a',\n",
       " 'boat',\n",
       " 'guys',\n",
       " 'for',\n",
       " 'the',\n",
       " 'proof',\n",
       " 'have',\n",
       " 'attached',\n",
       " 'picsplease',\n",
       " 'see',\n",
       " 'think',\n",
       " 'buying']"
      ]
     },
     "execution_count": 19,
     "metadata": {},
     "output_type": "execute_result"
    }
   ],
   "source": [
    "# Get the dictionary with frequencies\n",
    "freq_dist = nltk.FreqDist(nltk_text)\n",
    "\n",
    "# Shows 50 first words in frequency \n",
    "list(freq_dist.keys())[:50]"
   ]
  },
  {
   "cell_type": "markdown",
   "metadata": {},
   "source": [
    "Moreover, the FreqDist object allows you to plot the distribution as well, in terms of cumulative and no cumulative counts"
   ]
  },
  {
   "cell_type": "markdown",
   "metadata": {},
   "source": [
    "- **No cumulative**: Determines the number of times a word appears on text"
   ]
  },
  {
   "cell_type": "code",
   "execution_count": 20,
   "metadata": {
    "collapsed": false,
    "jupyter": {
     "outputs_hidden": false
    }
   },
   "outputs": [
    {
     "data": {
      "image/png": "[encoded data removed]",
      "text/plain": [
       "<Figure size 1152x720 with 1 Axes>"
      ]
     },
     "metadata": {
      "needs_background": "light"
     },
     "output_type": "display_data"
    },
    {
     "data": {
      "text/plain": [
       "<matplotlib.axes._subplots.AxesSubplot at 0x142b31550>"
      ]
     },
     "execution_count": 20,
     "metadata": {},
     "output_type": "execute_result"
    }
   ],
   "source": [
    "plt.figure(figsize = (16, 10))\n",
    "freq_dist.plot(50)"
   ]
  },
  {
   "cell_type": "markdown",
   "metadata": {},
   "source": [
    "- **Cumulative**: Determine the proportion that represents these words within the whole text. "
   ]
  },
  {
   "cell_type": "code",
   "execution_count": 21,
   "metadata": {
    "collapsed": false,
    "jupyter": {
     "outputs_hidden": false
    }
   },
   "outputs": [
    {
     "data": {
      "image/png": "[encoded data removed]",
      "text/plain": [
       "<Figure size 1152x720 with 1 Axes>"
      ]
     },
     "metadata": {
      "needs_background": "light"
     },
     "output_type": "display_data"
    },
    {
     "data": {
      "text/plain": [
       "<matplotlib.axes._subplots.AxesSubplot at 0x142b315c0>"
      ]
     },
     "execution_count": 21,
     "metadata": {},
     "output_type": "execute_result"
    }
   ],
   "source": [
    "plt.figure(figsize = (16, 10))\n",
    "freq_dist.plot(50, cumulative = True)"
   ]
  },
  {
   "cell_type": "markdown",
   "metadata": {},
   "source": [
    "**[EX 5]**\n",
    "\n",
    "From the information shown above (plots and list), what do you appreciate? Are the most important words meaningful words? Explain your comments bellow\n",
    "\n",
    "**Solution**"
   ]
  },
  {
   "cell_type": "markdown",
   "metadata": {},
   "source": [
    "There are many stop words (meaningless words -- determinants, pronouns, ...) that must be removed. Moreover, there are not that much amount of verbs, but those we have are in different forms (be -> is, are, was ...)"
   ]
  },
  {
   "cell_type": "markdown",
   "metadata": {},
   "source": [
    "#### **1.2.2.3 Standardizing the text**\n",
    "\n",
    "Once the EDA is performed, the following step is to standardize the text. This step is done by removing the stop words (meaningless words, such us determinants and pronouns) and lemmatizing.\n",
    "\n",
    "**Lemmatizing**\n",
    "\n",
    "*Lemmatizing text* means to remove inflectional endings only and to return the base or dictionary form of a word, which is known as the lemma. For example, imagine the same sentence as before. Therefore, after lemmatizing the sentence we would get *[my, dog, be, white, yours, black]*\n",
    "\n",
    "**Stop words**\n",
    "\n",
    "*Stop words* are those words that does not have any meaning for us when processing text, such as *the, a, of ...*. They must be removed from the text/tokens list. \n",
    "\n",
    "[**EX 6**] \n",
    "\n",
    "Fill up the following functions (where it is marked with TODO) in order to build up a function that standardize the text. You will notice that there is a function that returns the tokens for a given text. The reason behind is that now, at this moment, I want you to use nltk.Text objects to be able to plot different graphics and explore the EDA using NLTK. But after you have learnt and check the EDA you did, the next step is to be able to do the same but using the text you have in your Pandas DataFrame."
   ]
  },
  {
   "cell_type": "markdown",
   "metadata": {},
   "source": [
    "**Solution**"
   ]
  },
  {
   "cell_type": "code",
   "execution_count": 22,
   "metadata": {},
   "outputs": [],
   "source": [
    "def get_tokens(text):\n",
    "    # Get the tokens\n",
    "    if isinstance(text, nltk.Text):\n",
    "        tokens = text.tokens\n",
    "    else:\n",
    "        tokens = text.split(\" \")\n",
    "        \n",
    "    return tokens\n",
    "\n",
    "def remove_stopwords(text, \n",
    "                     language):\n",
    "    # Import stopwords\n",
    "    from nltk.corpus import stopwords\n",
    "    \n",
    "    # Get stop words for the given language\n",
    "    stopwords_list = stopwords.words(language)\n",
    "    \n",
    "    # Get the tokens\n",
    "    tokens = get_tokens(text)\n",
    "        \n",
    "    # TODO: Remove the words from the text (tip: check the nltk.Text object and stopwords in NLTK)\n",
    "    cleaned_text = [word for word in tokens if word and word not in stopwords_list]\n",
    "    \n",
    "    # Return cleaned text\n",
    "    if isinstance(text, nltk.Text):\n",
    "        output = nltk.Text(cleaned_text)\n",
    "    else:\n",
    "        output = \" \".join(cleaned_text)\n",
    "    \n",
    "    return output\n",
    "\n",
    "def stem_text(text,\n",
    "              language):\n",
    "    # TODO: Create the stemmer (tip: see the class nltk.stem)\n",
    "    stemmer = stemmers.SnowballStemmer(language)\n",
    "    \n",
    "    # Get the tokens\n",
    "    tokens = get_tokens(text)\n",
    "    \n",
    "    # TODO: Stem each token in text object\n",
    "    stemmas = [stemmer.stem(token) for token in tokens if token]\n",
    "    \n",
    "    # Return stemmed text\n",
    "    if isinstance(text, nltk.Text):\n",
    "        output = nltk.Text(stemmas)\n",
    "    else:\n",
    "        output = \" \".join(stemmas)\n",
    "    \n",
    "    return output\n",
    "\n",
    "def standardize_text(text,\n",
    "                     language):\n",
    "    # Remove the stop words\n",
    "    standardized_text = remove_stopwords(text, language)\n",
    "    \n",
    "    # Stem the text\n",
    "    standardized_text = stem_text(standardized_text, language)\n",
    "    \n",
    "    # Return\n",
    "    return standardized_text"
   ]
  },
  {
   "cell_type": "markdown",
   "metadata": {},
   "source": [
    "Apply the standardization over the nltk.Text and pd.DataFrame objects"
   ]
  },
  {
   "cell_type": "code",
   "execution_count": 23,
   "metadata": {},
   "outputs": [],
   "source": [
    "standardized_nltk_text = standardize_text(nltk_text, \"english\")\n",
    "data['Standardized_Text'] = data.Text_Clean.apply(lambda text: standardize_text(text, \"english\"))"
   ]
  },
  {
   "cell_type": "code",
   "execution_count": 24,
   "metadata": {},
   "outputs": [
    {
     "data": {
      "text/html": [
       "<div>\n",
       "<style scoped>\n",
       "    .dataframe tbody tr th:only-of-type {\n",
       "        vertical-align: middle;\n",
       "    }\n",
       "\n",
       "    .dataframe tbody tr th {\n",
       "        vertical-align: top;\n",
       "    }\n",
       "\n",
       "    .dataframe thead th {\n",
       "        text-align: right;\n",
       "    }\n",
       "</style>\n",
       "<table border=\"1\" class=\"dataframe\">\n",
       "  <thead>\n",
       "    <tr style=\"text-align: right;\">\n",
       "      <th></th>\n",
       "      <th>Text</th>\n",
       "      <th>Star</th>\n",
       "      <th>Product</th>\n",
       "      <th>Price</th>\n",
       "      <th>id</th>\n",
       "      <th>Text_Clean</th>\n",
       "      <th>Standardized_Text</th>\n",
       "    </tr>\n",
       "  </thead>\n",
       "  <tbody>\n",
       "    <tr>\n",
       "      <th>1</th>\n",
       "      <td>This  earphones are unreliable, i bought it be...</td>\n",
       "      <td>1</td>\n",
       "      <td>boAt Rockerz 255</td>\n",
       "      <td>1399</td>\n",
       "      <td>1</td>\n",
       "      <td>this earphones are unreliable i bought it befo...</td>\n",
       "      <td>earphon unreli bought day meanwhil right side ...</td>\n",
       "    </tr>\n",
       "    <tr>\n",
       "      <th>2</th>\n",
       "      <td>i bought itfor 999,I purchased it second time,...</td>\n",
       "      <td>4</td>\n",
       "      <td>boAt Rockerz 255</td>\n",
       "      <td>1399</td>\n",
       "      <td>2</td>\n",
       "      <td>i bought itfor  i purchased it second time gif...</td>\n",
       "      <td>bought itfor purchas second time gift first on...</td>\n",
       "    </tr>\n",
       "    <tr>\n",
       "      <th>4</th>\n",
       "      <td>Its Awesome... Good sound quality &amp; 8-9 hrs ba...</td>\n",
       "      <td>5</td>\n",
       "      <td>boAt Rockerz 255</td>\n",
       "      <td>1399</td>\n",
       "      <td>4</td>\n",
       "      <td>its awesome good sound quality   hrs battery l...</td>\n",
       "      <td>awesom good sound qualiti hrs batteri life waw...</td>\n",
       "    </tr>\n",
       "    <tr>\n",
       "      <th>6</th>\n",
       "      <td>Sound-4.5/5Build quality-4.5/5Battery life -4/...</td>\n",
       "      <td>4</td>\n",
       "      <td>boAt Rockerz 255</td>\n",
       "      <td>1399</td>\n",
       "      <td>6</td>\n",
       "      <td>sound   build quality   battery life  earphone...</td>\n",
       "      <td>sound build qualiti batteri life earphon quali...</td>\n",
       "    </tr>\n",
       "    <tr>\n",
       "      <th>7</th>\n",
       "      <td>After one month usage reviewing this .Pros-1- ...</td>\n",
       "      <td>3</td>\n",
       "      <td>boAt Rockerz 255</td>\n",
       "      <td>1399</td>\n",
       "      <td>7</td>\n",
       "      <td>after one month usage reviewing this pros  sou...</td>\n",
       "      <td>one month usag review pros sound qualiti desig...</td>\n",
       "    </tr>\n",
       "  </tbody>\n",
       "</table>\n",
       "</div>"
      ],
      "text/plain": [
       "                                                Text  Star           Product  \\\n",
       "1  This  earphones are unreliable, i bought it be...     1  boAt Rockerz 255   \n",
       "2  i bought itfor 999,I purchased it second time,...     4  boAt Rockerz 255   \n",
       "4  Its Awesome... Good sound quality & 8-9 hrs ba...     5  boAt Rockerz 255   \n",
       "6  Sound-4.5/5Build quality-4.5/5Battery life -4/...     4  boAt Rockerz 255   \n",
       "7  After one month usage reviewing this .Pros-1- ...     3  boAt Rockerz 255   \n",
       "\n",
       "   Price  id                                         Text_Clean  \\\n",
       "1   1399   1  this earphones are unreliable i bought it befo...   \n",
       "2   1399   2  i bought itfor  i purchased it second time gif...   \n",
       "4   1399   4  its awesome good sound quality   hrs battery l...   \n",
       "6   1399   6  sound   build quality   battery life  earphone...   \n",
       "7   1399   7  after one month usage reviewing this pros  sou...   \n",
       "\n",
       "                                   Standardized_Text  \n",
       "1  earphon unreli bought day meanwhil right side ...  \n",
       "2  bought itfor purchas second time gift first on...  \n",
       "4  awesom good sound qualiti hrs batteri life waw...  \n",
       "6  sound build qualiti batteri life earphon quali...  \n",
       "7  one month usag review pros sound qualiti desig...  "
      ]
     },
     "execution_count": 24,
     "metadata": {},
     "output_type": "execute_result"
    }
   ],
   "source": [
    "data.head()"
   ]
  },
  {
   "cell_type": "markdown",
   "metadata": {},
   "source": [
    "**[EX 7]**\n",
    "\n",
    "Plot the frequency distribution for the standardized text and explain the differences you appreciate between this one and the one you did with the *dirty* text"
   ]
  },
  {
   "cell_type": "markdown",
   "metadata": {},
   "source": [
    "**Solution**"
   ]
  },
  {
   "cell_type": "code",
   "execution_count": 25,
   "metadata": {},
   "outputs": [
    {
     "data": {
      "image/png": "[encoded data removed]",
      "text/plain": [
       "<Figure size 1152x720 with 1 Axes>"
      ]
     },
     "metadata": {
      "needs_background": "light"
     },
     "output_type": "display_data"
    },
    {
     "data": {
      "text/plain": [
       "<matplotlib.axes._subplots.AxesSubplot at 0x1078f7cf8>"
      ]
     },
     "execution_count": 25,
     "metadata": {},
     "output_type": "execute_result"
    }
   ],
   "source": [
    "plt.figure(figsize = (16, 10))\n",
    "nltk.FreqDist(standardized_nltk_text).plot(50)"
   ]
  },
  {
   "cell_type": "markdown",
   "metadata": {},
   "source": [
    "We can appreciate that there are no meaningless words, and the ones we kept are the ones that indicates why people is satisfied/unsatisfied with the product"
   ]
  },
  {
   "cell_type": "markdown",
   "metadata": {},
   "source": [
    "#### **1.2.2.4 Extracting the most important words and their context**\n",
    "\n",
    "One really powerfull tool when analizing text is to extract which are the most important words (main topics), due to this information will let us to know what our customer, mainly, thinks about our products. In case our product is good and customers like it, then the hypothesis is that the main words that they will use are positive words (good, fine, awesome, like ...). And in the opposite case, if customers are unsatisfied with the product, the main words should be negative words (awful, bad, ...).\n",
    "\n",
    "However, the main word itself does not provide a full description of what it happening. Therefore, you will need to describe the context in which the main word was used for. The words that describe the context of a given main words are called _related words_\n",
    "\n",
    "The way in which this is done using NLTK is by means of the Frequency Distribution object. This object provides an access to a Python tuple by its parameter *most_common*, which is composed by (word, word count)\n",
    "\n",
    "For example, if you want to know the top-50 most common words you should do the following "
   ]
  },
  {
   "cell_type": "code",
   "execution_count": 26,
   "metadata": {},
   "outputs": [
    {
     "data": {
      "text/plain": [
       "[('good', 6495),\n",
       " ('sound', 5845),\n",
       " ('qualiti', 5466),\n",
       " ('product', 4586),\n",
       " ('bass', 2671),\n",
       " ('earphon', 2405),\n",
       " ('use', 2319),\n",
       " ('batteri', 1863),\n",
       " ('work', 1843),\n",
       " ('one', 1801),\n",
       " ('price', 1520),\n",
       " ('ear', 1499),\n",
       " ('best', 1303),\n",
       " ('great', 1205),\n",
       " ('buy', 1168),\n",
       " ('awesom', 1153),\n",
       " ('month', 1090),\n",
       " ('also', 1083),\n",
       " ('headphon', 1048),\n",
       " ('nois', 1039),\n",
       " ('nice', 990),\n",
       " ('like', 929),\n",
       " ('music', 912),\n",
       " ('life', 858),\n",
       " ('call', 856),\n",
       " ('cancel', 841),\n",
       " ('get', 825),\n",
       " ('wire', 818),\n",
       " ('go', 809),\n",
       " ('better', 795),\n",
       " ('connect', 793),\n",
       " ('time', 789),\n",
       " ('bluetooth', 757),\n",
       " ('day', 749),\n",
       " ('dont', 740),\n",
       " ('money', 733),\n",
       " ('realli', 729),\n",
       " ('rang', 704),\n",
       " ('phone', 697),\n",
       " ('worth', 693),\n",
       " ('got', 682),\n",
       " ('even', 645),\n",
       " ('mic', 610),\n",
       " ('excel', 603),\n",
       " ('jbl', 594),\n",
       " ('boat', 579),\n",
       " ('stop', 575),\n",
       " ('expect', 573),\n",
       " ('amaz', 568),\n",
       " ('charg', 565)]"
      ]
     },
     "execution_count": 26,
     "metadata": {},
     "output_type": "execute_result"
    }
   ],
   "source": [
    "nltk.FreqDist(standardized_nltk_text).most_common(50)"
   ]
  },
  {
   "cell_type": "markdown",
   "metadata": {},
   "source": [
    "Regarding to the context, NLTK provides a function called *concordance* that shows every occurence of a given word, together with some context. So, for example, if you want to know the context in which *good* was used, then you should the following"
   ]
  },
  {
   "cell_type": "code",
   "execution_count": 27,
   "metadata": {},
   "outputs": [
    {
     "name": "stdout",
     "output_type": "stream",
     "text": [
      "Displaying 25 of 6495 matches:\n",
      "vid two part sound qualiti also much good ok one thing bass good boat earphon \n",
      "iti also much good ok one thing bass good boat earphon guy also proof attach p\n",
      "d time gift first one brother realli good sound qualiti realli good connect de\n",
      "her realli good sound qualiti realli good connect devic time connect laptop mo\n",
      "u get call switch mobil switch devic good price awesom batteri stand hour use \n",
      "ife pretti awesom comfort ear awesom good sound qualiti hrs batteri life waww \n",
      "qualiti batteri life earphon qualiti good strong magnet lock strap good qualit\n",
      "ualiti good strong magnet lock strap good qualiti earphon wire good button qua\n",
      "lock strap good qualiti earphon wire good button qualiti good sound full punch\n",
      "iti earphon wire good button qualiti good sound full punchi bass balanc trebl \n",
      "chi bass balanc trebl sorrund effect good fit ear hope connect good bcz last b\n",
      "und effect good fit ear hope connect good bcz last boat bluetooth basshead con\n",
      "connect issu worth price hope packag good bubbl wrap one month usag review pro\n",
      "maz perfect music lover batteri life good enough keep go day fact connect lapt\n",
      "t site replac warranti sound qualiti good mean compar senheis bose worth price\n",
      "yesterday even sound qualiti perfect good combin bass trebl feel everi beat co\n",
      "k detect connect easili batteri life good stay around hrs receiv yesterday eve\n",
      "n play sinc first day review perform good earphon look solid build qualiti goo\n",
      "ood earphon look solid build qualiti good magnat realli help hold earphon earp\n",
      " technic problem overal perform nice good experi product good buy look decent \n",
      "ral perform nice good experi product good buy look decent bluetooth earphon re\n",
      "hon reput brand sound qualiti pretti good good amount bass durabl materi seem \n",
      "eput brand sound qualiti pretti good good amount bass durabl materi seem durab\n",
      "et distort averag product happi pros good sound qualitycon uncomfort silicon b\n",
      "st spend much order realli amaz look good great sound doesnt hurt ua ear total\n"
     ]
    }
   ],
   "source": [
    "standardized_nltk_text.concordance(\"good\")"
   ]
  },
  {
   "cell_type": "markdown",
   "metadata": {},
   "source": [
    "But, as you could appreciate, this function only print information, so it is only used to display, not to process and get results. And, moreover, it is not readable/understandable which is the real context if we use the standardized text. In order to know it, this step must be performed over the original text, because after processing we know which is the most common word but at the same time we have removed information from text."
   ]
  },
  {
   "cell_type": "code",
   "execution_count": 28,
   "metadata": {},
   "outputs": [
    {
     "name": "stdout",
     "output_type": "stream",
     "text": [
      "Displaying 25 of 6493 matches:\n",
      " sound quality is also not that much good but ok one more thing bass is not go\n",
      "od but ok one more thing bass is not good as it is a boat earphones guys also \n",
      " first one to brother this is really good sound quality is really good you can\n",
      " really good sound quality is really good you can connect  devices at a time i\n",
      "le this switch between device is not good but again in this price its awesome \n",
      "esome comfortable on ear its awesome good sound quality   hrs battery life jus\n",
      "  battery life  earphones quality is good with strong magnetic lock straps is \n",
      " with strong magnetic lock straps is good quality and the earphones wires are \n",
      "lity and the earphones wires are too good buttons quality is good sound is ful\n",
      "ires are too good buttons quality is good sound is full of punchy bass and and\n",
      "lanced treble and has sorrund effect good fitting in ears hope connectivity is\n",
      "fitting in ears hope connectivity is good bcz my last boat bluetooth bassheads\n",
      "rth its price hope the packaging was good there was no bubble wrapping after o\n",
      "or a music lover the battery life is good enough to keep me going all day the \n",
      "nt and warranty the sound quality is good i mean it can t be compared with sen\n",
      "day evening sound quality is perfect good combination of bass and treble can f\n",
      " and connects easily battery life is good stayed around   hrs as i received th\n",
      " first day review but performance is good earphones looks solid build quality \n",
      "rphones looks solid build quality is good the magnates are really helpful to h\n",
      "lem but overall performance was nice good experience the product is a good buy\n",
      "ice good experience the product is a good buy if you are looking for a decent \n",
      "reputed brand sound quality   pretty good with good amount of bass durability \n",
      "and sound quality   pretty good with good amount of bass durability   the mate\n",
      "verage product not happy at all pros good sound qualitycons very uncomfortable\n",
      " and this really is amazing it looks good have great sound and doesnt hurt ua \n"
     ]
    }
   ],
   "source": [
    "nltk_text.concordance(\"good\")"
   ]
  },
  {
   "cell_type": "markdown",
   "metadata": {},
   "source": [
    "### **1.2.3 Relating stars with sentiment**\n",
    "\n",
    "So far you have gotten a good understanding about what's going on with the text. In order to build up the sentimental analysis model, we need to transform *star* numbers into sentiments. To do this, we will match them as follows:\n",
    "\n",
    "- **Bad sentiment**: stars 1 and 2 --> bad\n",
    "- **Intermediate sentiment**: star 3 --> neutral\n",
    "- **Good sentiment**: stars 4 and 5 --> good\n",
    "\n",
    "[**EX 8**]\n",
    "\n",
    "Do the star-sentiment matching as explained above. Set this value into a new field named *Sentiment* and remove the *Star* field\n",
    "\n",
    "**Solution**"
   ]
  },
  {
   "cell_type": "code",
   "execution_count": 29,
   "metadata": {},
   "outputs": [],
   "source": [
    "def star_sentiment_matching(value):\n",
    "    if value <= 2:\n",
    "        return \"bad\"\n",
    "    elif value >= 4:\n",
    "        return \"good\"\n",
    "    else:\n",
    "        return \"neutral\"\n",
    "    \n",
    "\n",
    "# Match the sentiment value\n",
    "data['Sentiment'] = data.Star.apply(lambda value: star_sentiment_matching(value))\n",
    "\n",
    "# Remove the star field\n",
    "data = data.drop(columns = [\"Star\"])"
   ]
  },
  {
   "cell_type": "markdown",
   "metadata": {},
   "source": [
    "**[EX 9]**\n",
    "\n",
    "Plot the number of comments per sentiment and determine if the dataset is balanced or not\n",
    "\n",
    "**Solution**"
   ]
  },
  {
   "cell_type": "code",
   "execution_count": 30,
   "metadata": {},
   "outputs": [
    {
     "data": {
      "image/png": "[encoded data removed]",
      "text/plain": [
       "<Figure size 1152x720 with 1 Axes>"
      ]
     },
     "metadata": {
      "needs_background": "light"
     },
     "output_type": "display_data"
    }
   ],
   "source": [
    "ax = data['Sentiment'].value_counts().plot(kind='barh', figsize=(16,10), fontsize=12);\n",
    "ax.set_alpha(0.8)\n",
    "ax.set_title(\"Comments by sentiment distribution\", fontsize=14)\n",
    "ax.set_xlabel(\"Number of comments\", fontsize=14)\n",
    "ax.set_ylabel(\"Sentiment\", fontsize=14)\n",
    "\n",
    "# set individual bar lables using above list\n",
    "for i in ax.patches:\n",
    "    # get_width pulls left or right; get_y pushes up or down\n",
    "    ax.text(i.get_width()+.3, i.get_y()+0.2, \\\n",
    "            str(i.get_width()), fontsize=12, color='dimgrey')"
   ]
  },
  {
   "cell_type": "markdown",
   "metadata": {
    "colab_type": "text",
    "id": "3n68_K_lJmvB"
   },
   "source": [
    "# **2. Model Training: Building a sentimental analysis model**"
   ]
  },
  {
   "cell_type": "markdown",
   "metadata": {
    "colab_type": "text",
    "id": "Y3CQ_oEBJmvC"
   },
   "source": [
    "Once the EDA is done, you are ready to build up the sentimental analysis model. The objective of this model is to be able to predict if a given customer is disgusted with our product, and in that case, be able to track its evolution and apply any business rule in order to avoid the churner ratio to increase.\n",
    "\n",
    "The model we are going to develop is based on [LSTMs](http://colah.github.io/posts/2015-08-Understanding-LSTMs/). It will take as input a given text and outputs the sentiment related to it. "
   ]
  },
  {
   "cell_type": "markdown",
   "metadata": {},
   "source": [
    "### 2.1. Balancing the dataset \n",
    "\n",
    "**[EX 10]** \n",
    "\n",
    "Fill up the function *balance_dataset* (where is marked as TODO) in order to balance (or not) the dataset by keeping the same amount of data per class. The input parameters are:\n",
    "\n",
    "- dataset: dataset to be balanced\n",
    "- balance: flag that determines if the dataset must be balanced or not.\n",
    "- replace: flag that determines if random samples must be replaced when balancing\n",
    "\n",
    "**Solution**"
   ]
  },
  {
   "cell_type": "code",
   "execution_count": 31,
   "metadata": {},
   "outputs": [],
   "source": [
    "def balance_dataset(dataset: pd.DataFrame,\n",
    "                    sample_number: int,\n",
    "                    balance: bool = False,\n",
    "                    replace: bool = False):\n",
    "    \n",
    "    # TODO: implement the balancing process\n",
    "    if balance:\n",
    "        return dataset.groupby(by = [\"Sentiment\"], as_index = False).apply(lambda grouped_df: grouped_df.sample(n = sample_number, replace = replace)).reset_index(drop = True)\n",
    "    \n",
    "    return dataset\n",
    "    "
   ]
  },
  {
   "cell_type": "markdown",
   "metadata": {},
   "source": [
    "Balance the dataset"
   ]
  },
  {
   "cell_type": "code",
   "execution_count": 32,
   "metadata": {},
   "outputs": [],
   "source": [
    "# Define the parameters\n",
    "sample_number = 3000\n",
    "balance = True\n",
    "replace = True\n",
    "\n",
    "# And balance\n",
    "training = balance_dataset(dataset = data,\n",
    "                           sample_number = sample_number,\n",
    "                           balance = balance,\n",
    "                           replace = replace)"
   ]
  },
  {
   "cell_type": "markdown",
   "metadata": {},
   "source": [
    "### 2.2. Converting text into numeric values\n",
    "\n",
    "When working with LSTMs (and almost with any other model) the input must be numerical. Therefore, we need to map our text into numerical values, and for this purpose we will tokenize the text and pad it."
   ]
  },
  {
   "cell_type": "code",
   "execution_count": 33,
   "metadata": {},
   "outputs": [],
   "source": [
    "# Define the text field to be used\n",
    "text_field = \"Standardized_Text\""
   ]
  },
  {
   "cell_type": "markdown",
   "metadata": {},
   "source": [
    "There is a very important question here, and it is: how many words do I keep? In order to be able to answer this question, we will plot the distribution and box plot of the text length.\n",
    "\n",
    "**[EX 11]**\n",
    "\n",
    "Fill up the function *plot_text_length_distribution* (where is marked as TODO). This function will plot the distribution and box plot of the text length and define the vocabulary (future value of *max_num_words*) of the text.\n",
    "\n",
    "**Solution**"
   ]
  },
  {
   "cell_type": "code",
   "execution_count": 34,
   "metadata": {},
   "outputs": [],
   "source": [
    "def plot_text_length_distribution(dataset: pd.DataFrame,\n",
    "                                  text_field: str):\n",
    "    # TODO: compute the vocabulary size for the given text field\n",
    "    vocabulary_size = len(set(dataset[text_field].values))\n",
    "    print(\"\\nThe vocabulary is composed by {0} words \\n\".format(vocabulary_size))\n",
    "    \n",
    "    # TODO: compute the lengths\n",
    "    lengths = dataset[text_field].str.split(\" \").str.len().value_counts()\n",
    "    \n",
    "    # Build the figures\n",
    "    plt.figure(figsize = (16, 10))\n",
    "    plt.subplot(211)\n",
    "    \n",
    "    # TODO: Plot the distribution\n",
    "    plt.bar(x = lengths.keys(), height = lengths.values)\n",
    "    \n",
    "    # Assign the title\n",
    "    plt.title(\"Distribución de la longitud de las frases\")\n",
    "    plt.xlabel(\"Longitud de la frase\")\n",
    "    plt.ylabel(\"Número de frases\")\n",
    "\n",
    "    # Set the second plot\n",
    "    plt.subplot(212)\n",
    "    \n",
    "    # TODO: plot the box plot\n",
    "    plt.boxplot(x = lengths.keys(), showmeans=True)\n",
    "    \n",
    "    # Show\n",
    "    plt.show()"
   ]
  },
  {
   "cell_type": "markdown",
   "metadata": {},
   "source": [
    "Plot the distribution"
   ]
  },
  {
   "cell_type": "code",
   "execution_count": 35,
   "metadata": {},
   "outputs": [
    {
     "name": "stdout",
     "output_type": "stream",
     "text": [
      "\n",
      "The vocabulary is composed by 5154 words \n",
      "\n"
     ]
    },
    {
     "data": {
      "image/png": "[encoded data removed]",
      "text/plain": [
       "<Figure size 1152x720 with 2 Axes>"
      ]
     },
     "metadata": {
      "needs_background": "light"
     },
     "output_type": "display_data"
    }
   ],
   "source": [
    "plot_text_length_distribution(dataset = training,\n",
    "                              text_field = text_field)"
   ]
  },
  {
   "cell_type": "markdown",
   "metadata": {},
   "source": [
    "**[EX 12]** \n",
    "\n",
    "Use the function *plot_text_length_distribution* to compare among all available text fields and describe what you appreciate.\n",
    "\n",
    "**Solution**"
   ]
  },
  {
   "cell_type": "markdown",
   "metadata": {},
   "source": [
    "Se aprecia una gran diferencia entre el texto estandarizado y el original en cuanto a longitud del texto, pero se aprecia que el vocabulario no decae de manera abrupta, sino que se mantiene en unos 5000 "
   ]
  },
  {
   "cell_type": "markdown",
   "metadata": {},
   "source": [
    "**[EX 13]** \n",
    "\n",
    "Define the *max_num_words* and explain why you have chose that number\n",
    "\n",
    "**Solution**"
   ]
  },
  {
   "cell_type": "code",
   "execution_count": 36,
   "metadata": {},
   "outputs": [],
   "source": [
    "max_num_words = 1000"
   ]
  },
  {
   "cell_type": "markdown",
   "metadata": {},
   "source": [
    "Once the vocabulary is defined, the next step is to convert the text into numerical values. To do this, we will use the already defined [*Tokenizer* function](https://www.tensorflow.org/api_docs/python/tf/keras/preprocessing/text/Tokenizer) and [*pad_sequences*](https://www.tensorflow.org/api_docs/python/tf/keras/preprocessing/sequence/pad_sequences) from Tensorflow - Keras"
   ]
  },
  {
   "cell_type": "code",
   "execution_count": 37,
   "metadata": {},
   "outputs": [],
   "source": [
    "def map_text_into_numerical_values(dataset: pd.DataFrame,\n",
    "                                   text_field: str,\n",
    "                                   max_num_words: int,\n",
    "                                   print_info: bool = True,\n",
    "                                   tokenizer_dict = {}):\n",
    "    # Tokenize the text\n",
    "    if tokenizer_dict.get(\"tokenizer\") is None:\n",
    "        tokenizer = Tokenizer(num_words = max_num_words, split = \" \")\n",
    "        tokenizer.fit_on_texts(dataset[text_field].values)\n",
    "        tokenizer_dict['tokenizer'] = tokenizer\n",
    "    else:\n",
    "        tokenizer = tokenizer_dict.get(\"tokenizer\")\n",
    "    tokens = tokenizer.texts_to_sequences(dataset[text_field].values)\n",
    "    \n",
    "    # Padd the values in order to get the same length\n",
    "    padded_tokens = pad_sequences(tokens, maxlen = tokenizer_dict.get(\"max_pad_sequence_length\"))\n",
    "    if tokenizer_dict.get(\"max_pad_sequence_length\") is None:\n",
    "        tokenizer_dict[\"max_pad_sequence_length\"] = len(padded_tokens[0])\n",
    "        \n",
    "    # Print some information\n",
    "    if print_info:\n",
    "        for index in range(0, 3):\n",
    "            print(\"\\n- Original token length: {} \\n- Padded token length: {} \\n- Text: {} \\n- Tokenized text: {} \\n- Padded tokenized text: {}\".format(len(tokens[index]), \n",
    "                                                                                                                                                       len(padded_tokens[index]),\n",
    "                                                                                                                                                       dataset[text_field].values[index], \n",
    "                                                                                                                                                       tokens[index],\n",
    "                                                                                                                                                       padded_tokens[index]))\n",
    "\n",
    "    return tokens, padded_tokens, tokenizer_dict"
   ]
  },
  {
   "cell_type": "code",
   "execution_count": 38,
   "metadata": {},
   "outputs": [
    {
     "name": "stdout",
     "output_type": "stream",
     "text": [
      "\n",
      "- Original token length: 8 \n",
      "- Padded token length: 305 \n",
      "- Text: want return abl make return return mic poor \n",
      "- Tokenized text: [81, 63, 157, 146, 63, 63, 47, 43] \n",
      "- Padded tokenized text: [  0   0   0   0   0   0   0   0   0   0   0   0   0   0   0   0   0   0\n",
      "   0   0   0   0   0   0   0   0   0   0   0   0   0   0   0   0   0   0\n",
      "   0   0   0   0   0   0   0   0   0   0   0   0   0   0   0   0   0   0\n",
      "   0   0   0   0   0   0   0   0   0   0   0   0   0   0   0   0   0   0\n",
      "   0   0   0   0   0   0   0   0   0   0   0   0   0   0   0   0   0   0\n",
      "   0   0   0   0   0   0   0   0   0   0   0   0   0   0   0   0   0   0\n",
      "   0   0   0   0   0   0   0   0   0   0   0   0   0   0   0   0   0   0\n",
      "   0   0   0   0   0   0   0   0   0   0   0   0   0   0   0   0   0   0\n",
      "   0   0   0   0   0   0   0   0   0   0   0   0   0   0   0   0   0   0\n",
      "   0   0   0   0   0   0   0   0   0   0   0   0   0   0   0   0   0   0\n",
      "   0   0   0   0   0   0   0   0   0   0   0   0   0   0   0   0   0   0\n",
      "   0   0   0   0   0   0   0   0   0   0   0   0   0   0   0   0   0   0\n",
      "   0   0   0   0   0   0   0   0   0   0   0   0   0   0   0   0   0   0\n",
      "   0   0   0   0   0   0   0   0   0   0   0   0   0   0   0   0   0   0\n",
      "   0   0   0   0   0   0   0   0   0   0   0   0   0   0   0   0   0   0\n",
      "   0   0   0   0   0   0   0   0   0   0   0   0   0   0   0   0   0   0\n",
      "   0   0   0   0   0   0   0   0   0  81  63 157 146  63  63  47  43]\n",
      "\n",
      "- Original token length: 6 \n",
      "- Padded token length: 305 \n",
      "- Text: wire sound qualiti good accord brand \n",
      "- Tokenized text: [30, 2, 3, 1, 571, 106] \n",
      "- Padded tokenized text: [  0   0   0   0   0   0   0   0   0   0   0   0   0   0   0   0   0   0\n",
      "   0   0   0   0   0   0   0   0   0   0   0   0   0   0   0   0   0   0\n",
      "   0   0   0   0   0   0   0   0   0   0   0   0   0   0   0   0   0   0\n",
      "   0   0   0   0   0   0   0   0   0   0   0   0   0   0   0   0   0   0\n",
      "   0   0   0   0   0   0   0   0   0   0   0   0   0   0   0   0   0   0\n",
      "   0   0   0   0   0   0   0   0   0   0   0   0   0   0   0   0   0   0\n",
      "   0   0   0   0   0   0   0   0   0   0   0   0   0   0   0   0   0   0\n",
      "   0   0   0   0   0   0   0   0   0   0   0   0   0   0   0   0   0   0\n",
      "   0   0   0   0   0   0   0   0   0   0   0   0   0   0   0   0   0   0\n",
      "   0   0   0   0   0   0   0   0   0   0   0   0   0   0   0   0   0   0\n",
      "   0   0   0   0   0   0   0   0   0   0   0   0   0   0   0   0   0   0\n",
      "   0   0   0   0   0   0   0   0   0   0   0   0   0   0   0   0   0   0\n",
      "   0   0   0   0   0   0   0   0   0   0   0   0   0   0   0   0   0   0\n",
      "   0   0   0   0   0   0   0   0   0   0   0   0   0   0   0   0   0   0\n",
      "   0   0   0   0   0   0   0   0   0   0   0   0   0   0   0   0   0   0\n",
      "   0   0   0   0   0   0   0   0   0   0   0   0   0   0   0   0   0   0\n",
      "   0   0   0   0   0   0   0   0   0   0   0  30   2   3   1 571 106]\n",
      "\n",
      "- Original token length: 4 \n",
      "- Padded token length: 305 \n",
      "- Text: month ear cod stop work \n",
      "- Tokenized text: [12, 11, 29, 7] \n",
      "- Padded tokenized text: [ 0  0  0  0  0  0  0  0  0  0  0  0  0  0  0  0  0  0  0  0  0  0  0  0\n",
      "  0  0  0  0  0  0  0  0  0  0  0  0  0  0  0  0  0  0  0  0  0  0  0  0\n",
      "  0  0  0  0  0  0  0  0  0  0  0  0  0  0  0  0  0  0  0  0  0  0  0  0\n",
      "  0  0  0  0  0  0  0  0  0  0  0  0  0  0  0  0  0  0  0  0  0  0  0  0\n",
      "  0  0  0  0  0  0  0  0  0  0  0  0  0  0  0  0  0  0  0  0  0  0  0  0\n",
      "  0  0  0  0  0  0  0  0  0  0  0  0  0  0  0  0  0  0  0  0  0  0  0  0\n",
      "  0  0  0  0  0  0  0  0  0  0  0  0  0  0  0  0  0  0  0  0  0  0  0  0\n",
      "  0  0  0  0  0  0  0  0  0  0  0  0  0  0  0  0  0  0  0  0  0  0  0  0\n",
      "  0  0  0  0  0  0  0  0  0  0  0  0  0  0  0  0  0  0  0  0  0  0  0  0\n",
      "  0  0  0  0  0  0  0  0  0  0  0  0  0  0  0  0  0  0  0  0  0  0  0  0\n",
      "  0  0  0  0  0  0  0  0  0  0  0  0  0  0  0  0  0  0  0  0  0  0  0  0\n",
      "  0  0  0  0  0  0  0  0  0  0  0  0  0  0  0  0  0  0  0  0  0  0  0  0\n",
      "  0  0  0  0  0  0  0  0  0  0  0  0  0 12 11 29  7]\n"
     ]
    }
   ],
   "source": [
    "tokens, padded_tokens, tokenizer_dict = map_text_into_numerical_values(dataset = training,\n",
    "                                                       text_field = text_field,\n",
    "                                                       max_num_words = max_num_words)"
   ]
  },
  {
   "cell_type": "markdown",
   "metadata": {},
   "source": [
    "**[EX 14]**\n",
    "\n",
    "Fill up the function *map_labels_to_onehot* (where is marked as TODO). This function will encode the labels into one-hot encoding values. \n",
    "\n",
    "Tip: see [pd.get_dummies](https://pandas.pydata.org/docs/reference/api/pandas.get_dummies.html)\n",
    "\n",
    "**Solution**"
   ]
  },
  {
   "cell_type": "code",
   "execution_count": 39,
   "metadata": {},
   "outputs": [],
   "source": [
    "def map_labels_to_onehot(dataset: pd.DataFrame,\n",
    "                         label_field: str):\n",
    "    \n",
    "    # TODO: return the labels encoded as one-hot\n",
    "    return pd.get_dummies(data = dataset[label_field]).values"
   ]
  },
  {
   "cell_type": "code",
   "execution_count": 40,
   "metadata": {},
   "outputs": [],
   "source": [
    "labels = map_labels_to_onehot(dataset = training,\n",
    "                              label_field = \"Sentiment\")"
   ]
  },
  {
   "cell_type": "markdown",
   "metadata": {},
   "source": [
    "### 2.3. Getting training, validation and test datasets\n",
    "\n",
    "At this point you have already defined the feature values (*padded_tokens*) and the target ones (*labels*), so the next step is to split them into training, validation and test datasets in order to be able to train and validate the model.\n",
    "\n",
    "**[EX 15]**\n",
    "\n",
    "Fill up the function *get_datasets* (where is marked as TODO). This function will return the training, validation and test datasets, all of them composed by features and labels.\n",
    "\n",
    "**Solution**"
   ]
  },
  {
   "cell_type": "code",
   "execution_count": 41,
   "metadata": {},
   "outputs": [],
   "source": [
    "def get_datasets(x, y, train_percentage = 0.9, validation_precentage = 0.5):\n",
    "    # TODO: Get training dataset\n",
    "    X_train, X_valtest, y_train, y_valtest = train_test_split(x, y, train_size=train_percentage)\n",
    "    \n",
    "    # TODO: Get test and validation datasets\n",
    "    X_val, X_test, y_val, y_test = train_test_split(X_valtest, y_valtest, test_size = 1 - validation_precentage)\n",
    "    \n",
    "    # Return\n",
    "    return X_train, X_val, X_test, y_train, y_val, y_test"
   ]
  },
  {
   "cell_type": "code",
   "execution_count": 42,
   "metadata": {},
   "outputs": [],
   "source": [
    "X_train, X_val, X_test, y_train, y_val, y_test = get_datasets(x = padded_tokens,\n",
    "                                                              y = labels)"
   ]
  },
  {
   "cell_type": "markdown",
   "metadata": {},
   "source": [
    "# 2.4. Build up the model"
   ]
  },
  {
   "cell_type": "code",
   "execution_count": 61,
   "metadata": {},
   "outputs": [],
   "source": [
    "def build_model(**params):\n",
    "    # TODO: Build up the model\n",
    "    model = None\n",
    "    \n",
    "    # Number of classes\n",
    "    num_classes = labels.shape[1]  \n",
    "\n",
    "    # Maximum input text length (they are all the same thanks to pad_sequences)\n",
    "    max_sentence_length = padded_tokens.shape[1]\n",
    "\n",
    "    # Size of the input dimension to the Embedding (it is the vocabulary size, which is the max_num_words value)\n",
    "    vocabulary_size = max_num_words\n",
    "    \n",
    "    # Embedding output dimensions, which is the same value as the lstm input size\n",
    "    embedding_output_dim = 128\n",
    "    lstm_input_dim = 196\n",
    "    \n",
    "    # Input\n",
    "    input_          = Input(shape = (max_sentence_length, ), name = \"Input\")\n",
    "\n",
    "    # Embedding\n",
    "    embedding_layer  = Embedding(input_dim = vocabulary_size, output_dim = embedding_output_dim, name = \"Embedding\")\n",
    "    embedding_output = embedding_layer(input_)\n",
    "\n",
    "    # Dropout to avoid overfitting\n",
    "    dropout_layer  = SpatialDropout1D(0.4)\n",
    "    dropout_output = dropout_layer(embedding_output)\n",
    "\n",
    "    # LSTM\n",
    "    lstm_layer  = LSTM(units = lstm_input_dim, activation = \"tanh\", dropout=0.4, recurrent_dropout=0.4, name = \"LSTM\")\n",
    "    lstm_output = lstm_layer(dropout_output)\n",
    "\n",
    "    # Dense layer\n",
    "    dense_layer    = Dense(units = num_classes, activation=\"softmax\", name = \"Classifier\")\n",
    "    classification = dense_layer(lstm_output)\n",
    "\n",
    "    # Define the model\n",
    "    model = Model(inputs = [input_], outputs = [classification])\n",
    "    model.compile(optimizer = 'adam', loss = 'categorical_crossentropy', metrics = ['accuracy'])\n",
    "    model.summary()\n",
    "    \n",
    "    return model\n",
    "\n",
    "def train_model(model, **params):\n",
    "    # TODO: train the model\n",
    "    model.fit(x = X_train, y = y_train, \n",
    "          epochs = num_epochs,\n",
    "          batch_size = batch_size, \n",
    "          validation_data = (X_val, y_val)\n",
    "         )\n",
    "    \n",
    "    return model"
   ]
  },
  {
   "cell_type": "markdown",
   "metadata": {},
   "source": [
    "Build and train the model"
   ]
  },
  {
   "cell_type": "code",
   "execution_count": 69,
   "metadata": {},
   "outputs": [
    {
     "name": "stdout",
     "output_type": "stream",
     "text": [
      "Model: \"functional_7\"\n",
      "_________________________________________________________________\n",
      "Layer (type)                 Output Shape              Param #   \n",
      "=================================================================\n",
      "Input (InputLayer)           [(None, 305)]             0         \n",
      "_________________________________________________________________\n",
      "Embedding (Embedding)        (None, 305, 128)          128000    \n",
      "_________________________________________________________________\n",
      "spatial_dropout1d_3 (Spatial (None, 305, 128)          0         \n",
      "_________________________________________________________________\n",
      "LSTM (LSTM)                  (None, 196)               254800    \n",
      "_________________________________________________________________\n",
      "Classifier (Dense)           (None, 3)                 591       \n",
      "=================================================================\n",
      "Total params: 383,391\n",
      "Trainable params: 383,391\n",
      "Non-trainable params: 0\n",
      "_________________________________________________________________\n",
      "254/254 [==============================] - 402s 2s/step - loss: 0.9045 - accuracy: 0.5636 - val_loss: 0.7004 - val_accuracy: 0.6978\n"
     ]
    }
   ],
   "source": [
    "# Build the model\n",
    "model = build_model(padded_tokens = padded_tokens, labels = labels, max_num_words = max_num_words)\n",
    "\n",
    "# Train the model\n",
    "batch_size = 32\n",
    "num_epochs = 1\n",
    "model = train_model(model = model, X_train = X_train, y_train = y_train, num_epochs = num_epochs, batch_size = batch_size, X_val = X_val, y_val = y_val)"
   ]
  },
  {
   "cell_type": "markdown",
   "metadata": {},
   "source": [
    "**[EX 16]**\n",
    "\n",
    "Fill up the functions *build_model* and *train_model* to build and train up your own model (you can use whatever model you desire) and plot the main model metrics and defend, on the report, why you have chosen that model (from model selection to hyperparameters selection) based on graphics and metrics. "
   ]
  },
  {
   "cell_type": "markdown",
   "metadata": {},
   "source": [
    "**[EX 17]**\n",
    "\n",
    "Predict the sentiment over the test dataset"
   ]
  },
  {
   "cell_type": "markdown",
   "metadata": {
    "colab_type": "text",
    "id": "I97CFo3KJmu3"
   },
   "source": [
    "**Solution**"
   ]
  },
  {
   "cell_type": "code",
   "execution_count": 92,
   "metadata": {},
   "outputs": [],
   "source": [
    "def get_prediction(model, \n",
    "                   data):\n",
    "    # TODO: predict \n",
    "    predictions = model.predict(data).argmax(axis = 1)\n",
    "    return predictions\n",
    "\n",
    "def map_prediction(prediction_array):\n",
    "    # Define the sentiment dictionary\n",
    "    sentiment_dictionary = {\n",
    "        0: \"bad\", \n",
    "        1: \"good\",\n",
    "        2: \"neutral\"\n",
    "    }\n",
    "    \n",
    "    return list(map(sentiment_dictionary.get, prediction_array))"
   ]
  },
  {
   "cell_type": "code",
   "execution_count": 93,
   "metadata": {},
   "outputs": [
    {
     "data": {
      "text/plain": [
       "['neutral',\n",
       " 'good',\n",
       " 'good',\n",
       " 'neutral',\n",
       " 'bad',\n",
       " 'bad',\n",
       " 'bad',\n",
       " 'bad',\n",
       " 'neutral',\n",
       " 'good']"
      ]
     },
     "execution_count": 93,
     "metadata": {},
     "output_type": "execute_result"
    }
   ],
   "source": [
    "# Predict\n",
    "predictions = get_prediction(model, data=X_test)\n",
    "\n",
    "# And map to understandable format\n",
    "map_prediction(predictions)[:10]"
   ]
  },
  {
   "cell_type": "markdown",
   "metadata": {},
   "source": [
    "**[EX 18]**\n",
    "\n",
    "Fill up the function *do_text_transformations* in order to performs all text transformations seen above to a given text "
   ]
  },
  {
   "cell_type": "markdown",
   "metadata": {
    "colab_type": "text",
    "id": "I97CFo3KJmu3"
   },
   "source": [
    "**Solution**"
   ]
  },
  {
   "cell_type": "code",
   "execution_count": 94,
   "metadata": {},
   "outputs": [],
   "source": [
    "def do_text_transformations(data: pd.DataFrame,\n",
    "                            text_field: str,\n",
    "                            max_num_words: int,\n",
    "                            tokenizer_dict: dict,\n",
    "                            language: str = \"english\"):\n",
    "    # TODO: Clean the text\n",
    "    data['Text_Clean'] = data[text_field].apply(lambda text: clean_text(text))\n",
    "    \n",
    "    # TODO: Standardize the text\n",
    "    data['Standardized_Text'] = data.Text_Clean.apply(lambda text: standardize_text(text, language))\n",
    "    \n",
    "    # TODO: Map text to numerical values\n",
    "    _, padded_tokens, _ = map_text_into_numerical_values(dataset = data,\n",
    "                                                       text_field = text_field,\n",
    "                                                       max_num_words = max_num_words,\n",
    "                                                      tokenizer_dict = tokenizer_dict,\n",
    "                                                      print_info = False)\n",
    "    \n",
    "    # TODO: Assing the mapped text to dataset\n",
    "    data['Padded_Text'] = padded_tokens.tolist()\n",
    "    \n",
    "    return data"
   ]
  },
  {
   "cell_type": "code",
   "execution_count": 95,
   "metadata": {},
   "outputs": [],
   "source": [
    "data_report = do_text_transformations(data = data_report,\n",
    "                                      text_field = \"Text\",\n",
    "                                      tokenizer_dict = tokenizer_dict,\n",
    "                                      max_num_words = max_num_words)"
   ]
  },
  {
   "cell_type": "markdown",
   "metadata": {},
   "source": [
    "**[EX 19]**\n",
    "\n",
    "Fill up the function *predict_sentiment* in order to predict the sentiment for a given text"
   ]
  },
  {
   "cell_type": "markdown",
   "metadata": {
    "colab_type": "text",
    "id": "I97CFo3KJmu3"
   },
   "source": [
    "**Solution**"
   ]
  },
  {
   "cell_type": "code",
   "execution_count": 96,
   "metadata": {},
   "outputs": [],
   "source": [
    "def predict_sentiment(model,\n",
    "                      data: pd.DataFrame,\n",
    "                      field_to_use: str):\n",
    "    # TODO: Predict the sentiment for the given text\n",
    "    data['Sentiment_Prediction_Raw'] = get_prediction(model, np.asarray([np.asarray(a) for a in data[field_to_use].values]))\n",
    "    \n",
    "    # TODO: Map the prediction\n",
    "    data['Sentiment_Prediction'] = map_prediction(data['Sentiment_Prediction_Raw'].values)\n",
    "    \n",
    "    return data"
   ]
  },
  {
   "cell_type": "code",
   "execution_count": 97,
   "metadata": {},
   "outputs": [],
   "source": [
    "data_report = predict_sentiment(model, data = data_report, field_to_use = \"Padded_Text\")"
   ]
  },
  {
   "cell_type": "markdown",
   "metadata": {},
   "source": [
    "**[EX 20]**\n",
    "\n",
    "Fill up the functions *get_top_n_most_common_words*, *get_top_n_mainwords*, *get_main_and_related_words* that extracts a dataframe that indicates the main and related words per sentiment, and indicates which customer has used that words\n",
    "\n",
    "**Solution**"
   ]
  },
  {
   "cell_type": "code",
   "execution_count": 133,
   "metadata": {},
   "outputs": [],
   "source": [
    "def get_top_n_most_common_words(nltk_text: nltk.Text,\n",
    "                                n: int):\n",
    "    # TODO: Extract the top n most common words from a given text\n",
    "\n",
    "    # Get the frequency distribution\n",
    "    freq_dist = nltk.FreqDist(samples = nltk_text.tokens)\n",
    "    dictionary = {word: counter for word, counter in freq_dist.most_common(n) if word.isalpha()}\n",
    "\n",
    "    # Return\n",
    "    return dictionary\n",
    "\n",
    "def get_top_n_mainwords(data: pd.DataFrame,\n",
    "                        text_field: str,\n",
    "                        n: int):\n",
    "    # TODO: Get the top n mainwords\n",
    "    \n",
    "    # Initialize the dataframes to be returned\n",
    "    mainword_registers_df = pd.DataFrame(columns=[\"MainWord\", \"Id\"])\n",
    "    mainword_counts_df = pd.DataFrame(columns = [\"MainWord\", \"MainWordCount\"])\n",
    "\n",
    "    # Convert to nltk text type and get the most common words\n",
    "    nltk_text = data[text_field]\n",
    "\n",
    "    # Get the most common words\n",
    "    most_common_words_dict = get_top_n_most_common_words(nltk_text=convert_to_nltk_text(data, text_field),\n",
    "                                                         n=n)\n",
    "    mainword_counts_df = mainword_counts_df.append(pd.DataFrame({\"MainWord\": list(most_common_words_dict.keys()),\n",
    "                                                                 \"MainWordCount\": list(most_common_words_dict.values())}),\n",
    "                                                   ignore_index=True,\n",
    "                                                   sort=False)\n",
    "    print(\"Main words found: {}\".format(\", \".join(most_common_words_dict.keys())))\n",
    "\n",
    "    # Go main word by main word and get the ids where it is presented\n",
    "    print(\"Searching for those reviews that contains the mainword\")\n",
    "    if most_common_words_dict:\n",
    "        for mainword in most_common_words_dict.keys():\n",
    "            aux_df = data[data[text_field].str.contains(mainword) == True]\n",
    "            mainword_registers_df = mainword_registers_df.append(pd.DataFrame({\"MainWord\": [mainword] * len(aux_df.id.unique()),\n",
    "                                                                               \"Id\": aux_df.id.unique()}),\n",
    "                                                                 ignore_index=True,\n",
    "                                                                 sort=False)\n",
    "\n",
    "    return mainword_counts_df, mainword_registers_df    \n",
    "\n",
    "def get_main_and_related_words_per_sentiment(data: pd.DataFrame,\n",
    "                                             n_mainwords: int,\n",
    "                                             n_relatedwords: int,\n",
    "                                             field_to_use: str,\n",
    "                                             sentiment_field: str):\n",
    "    # TODO: Get the mainwords and its related words\n",
    "    # Initialize the dataframes to be returned\n",
    "    mainwords_count_df = pd.DataFrame(columns = [\"MainWord\", \"MainWordCount\", \"Sentiment\"])\n",
    "    mainwords_conversation_df = pd.DataFrame(columns=[\"MainWord\", \"Id\", \"Sentiment\"])\n",
    "    relatedword_per_mainword_df = pd.DataFrame(columns=[\"MainWord\", \"RelatedWord\", \"RelatedWordCount\", \"Sentiment\"])\n",
    "    \n",
    "    # Group by the speaker and get the main and related words per day\n",
    "    sentiment_groups = data.groupby(by=[sentiment_field], as_index=False)\n",
    "    for group_date, grouped_df in sentiment_groups:\n",
    "        sentiment = grouped_df[sentiment_field].values[0]\n",
    "        print(\"Getting mainwords for sentiment {0}...\".format(sentiment))\n",
    "        mainwords_count_df_out, mainwords_conversation_df_out = get_top_n_mainwords(data=grouped_df,\n",
    "                                                                                    text_field=field_to_use,\n",
    "                                                                                    n=n_mainwords)\n",
    "        for mainword in mainwords_count_df_out.MainWord.unique():\n",
    "            # Get those registers in which the mainword is presented\n",
    "            aux_df = data[data[field_to_use].str.contains(mainword) == True]\n",
    "            if not aux_df.empty:\n",
    "                most_common_words_dict = get_top_n_most_common_words(nltk_text = convert_to_nltk_text(aux_df, field_to_use),\n",
    "                                                                          n = n_relatedwords)\n",
    "                # Append\n",
    "                if most_common_words_dict:\n",
    "                    relatedword_per_mainword_df_out = pd.DataFrame({\"MainWord\": [mainword] * len(most_common_words_dict),\n",
    "                                                                                                   \"RelatedWord\": list(most_common_words_dict.keys()),\n",
    "                                                                                                   \"RelatedWordCount\": list(most_common_words_dict.values())})\n",
    "                    relatedword_per_mainword_df_out['Sentiment'] = sentiment\n",
    "                    relatedword_per_mainword_df = relatedword_per_mainword_df.append(relatedword_per_mainword_df_out,\n",
    "                                                                                             ignore_index=True,\n",
    "                                                                                             sort=False)\n",
    "        # Append the sentiment\n",
    "        mainwords_count_df_out['Sentiment'] = sentiment\n",
    "        mainwords_conversation_df_out['Sentiment'] = sentiment\n",
    "        \n",
    "        # Append all data\n",
    "        mainwords_count_df = mainwords_count_df.append(mainwords_count_df_out,\n",
    "                                                       ignore_index = True,\n",
    "                                                       sort = False)\n",
    "        mainwords_conversation_df = mainwords_conversation_df.append(mainwords_conversation_df_out,\n",
    "                                                                     ignore_index=True,\n",
    "                                                                     sort=False)\n",
    "        \n",
    "        \n",
    "        # Remove those registers where main and related are the same\n",
    "        relatedword_per_mainword_df = relatedword_per_mainword_df[relatedword_per_mainword_df.MainWord != relatedword_per_mainword_df.RelatedWord]\n",
    "        \n",
    "    return mainwords_count_df, mainwords_conversation_df, relatedword_per_mainword_df"
   ]
  },
  {
   "cell_type": "code",
   "execution_count": 134,
   "metadata": {},
   "outputs": [
    {
     "name": "stdout",
     "output_type": "stream",
     "text": [
      "Getting mainwords for sentiment bad...\n",
      "Main words found: product, work, qualiti, sound, month, earphon, use, buy, one, ear\n",
      "Searching for those reviews that contains the mainword\n",
      "Getting mainwords for sentiment good...\n",
      "Main words found: good, sound, qualiti, product, earphon, bass, use, best, batteri, price\n",
      "Searching for those reviews that contains the mainword\n",
      "Getting mainwords for sentiment neutral...\n",
      "Main words found: sound, good, qualiti, bass, product, earphon, use, one, ear, batteri\n",
      "Searching for those reviews that contains the mainword\n"
     ]
    }
   ],
   "source": [
    "mainwords_count_df, mainwords_conversation_df, relatedword_per_mainword_df = get_main_and_related_words_per_sentiment(data = data_report, \n",
    "                                                                                                                      n_mainwords = 10,\n",
    "                                                                                                                      n_relatedwords = 10,\n",
    "                                                                                                                      sentiment_field = \"Sentiment_Prediction\",\n",
    "                                                                                                                      field_to_use = \"Standardized_Text\")"
   ]
  },
  {
   "cell_type": "markdown",
   "metadata": {},
   "source": [
    "**[EX 21]**\n",
    "\n",
    "Save the *data_report*, *mainwords_count_df*, *mainwords_conversation_df*, *relatedword_per_mainword_df* and build up a dashboard with the idea of help to Customer Service to quickly understand what customers think about their product, identify those unsatisfied customers and see the main and related words"
   ]
  },
  {
   "cell_type": "code",
   "execution_count": 120,
   "metadata": {},
   "outputs": [
    {
     "data": {
      "text/html": [
       "<div>\n",
       "<style scoped>\n",
       "    .dataframe tbody tr th:only-of-type {\n",
       "        vertical-align: middle;\n",
       "    }\n",
       "\n",
       "    .dataframe tbody tr th {\n",
       "        vertical-align: top;\n",
       "    }\n",
       "\n",
       "    .dataframe thead th {\n",
       "        text-align: right;\n",
       "    }\n",
       "</style>\n",
       "<table border=\"1\" class=\"dataframe\">\n",
       "  <thead>\n",
       "    <tr style=\"text-align: right;\">\n",
       "      <th></th>\n",
       "      <th>Text</th>\n",
       "      <th>Star</th>\n",
       "      <th>Product</th>\n",
       "      <th>Price</th>\n",
       "      <th>id</th>\n",
       "      <th>Text_Clean</th>\n",
       "      <th>Standardized_Text</th>\n",
       "      <th>Padded_Text</th>\n",
       "      <th>Sentiment_Prediction_Raw</th>\n",
       "      <th>Sentiment_Prediction</th>\n",
       "    </tr>\n",
       "  </thead>\n",
       "  <tbody>\n",
       "    <tr>\n",
       "      <th>7525</th>\n",
       "      <td>I used too many earphones but this is worst fo...</td>\n",
       "      <td>1</td>\n",
       "      <td>Sennheiser CX 6.0BT</td>\n",
       "      <td>6499</td>\n",
       "      <td>7525</td>\n",
       "      <td>i used too many earphones but this is worst fo...</td>\n",
       "      <td>use mani earphon worst money even gone doctor ...</td>\n",
       "      <td>[0, 0, 0, 0, 0, 0, 0, 0, 0, 0, 0, 0, 0, 0, 0, ...</td>\n",
       "      <td>0</td>\n",
       "      <td>bad</td>\n",
       "    </tr>\n",
       "    <tr>\n",
       "      <th>7264</th>\n",
       "      <td>The model and the sound quality is is on par e...</td>\n",
       "      <td>5</td>\n",
       "      <td>Sennheiser CX 6.0BT</td>\n",
       "      <td>6499</td>\n",
       "      <td>7264</td>\n",
       "      <td>the model and the sound quality is is on par e...</td>\n",
       "      <td>model sound qualiti par excel moment saw headp...</td>\n",
       "      <td>[0, 0, 0, 0, 0, 0, 0, 0, 0, 0, 0, 0, 0, 0, 0, ...</td>\n",
       "      <td>1</td>\n",
       "      <td>good</td>\n",
       "    </tr>\n",
       "    <tr>\n",
       "      <th>8104</th>\n",
       "      <td>Bought it second time. First was in 2014, repl...</td>\n",
       "      <td>5</td>\n",
       "      <td>Sennheiser CX 6.0BT</td>\n",
       "      <td>6499</td>\n",
       "      <td>8104</td>\n",
       "      <td>bought it second time first was in  replacemen...</td>\n",
       "      <td>bought second time first replac within warrant...</td>\n",
       "      <td>[0, 0, 0, 0, 0, 0, 0, 0, 0, 0, 0, 0, 0, 0, 0, ...</td>\n",
       "      <td>1</td>\n",
       "      <td>good</td>\n",
       "    </tr>\n",
       "    <tr>\n",
       "      <th>14169</th>\n",
       "      <td>Bought this earphone 5 months back!I think it ...</td>\n",
       "      <td>5</td>\n",
       "      <td>JBL T110BT</td>\n",
       "      <td>2000</td>\n",
       "      <td>14169</td>\n",
       "      <td>bought this earphone  months back i think it i...</td>\n",
       "      <td>bought earphon month back think best bt earpho...</td>\n",
       "      <td>[0, 0, 0, 0, 0, 0, 0, 0, 0, 0, 0, 0, 0, 0, 0, ...</td>\n",
       "      <td>1</td>\n",
       "      <td>good</td>\n",
       "    </tr>\n",
       "    <tr>\n",
       "      <th>13925</th>\n",
       "      <td>Better\\n</td>\n",
       "      <td>3</td>\n",
       "      <td>JBL T110BT</td>\n",
       "      <td>2000</td>\n",
       "      <td>13925</td>\n",
       "      <td>better</td>\n",
       "      <td>better</td>\n",
       "      <td>[0, 0, 0, 0, 0, 0, 0, 0, 0, 0, 0, 0, 0, 0, 0, ...</td>\n",
       "      <td>1</td>\n",
       "      <td>good</td>\n",
       "    </tr>\n",
       "    <tr>\n",
       "      <th>...</th>\n",
       "      <td>...</td>\n",
       "      <td>...</td>\n",
       "      <td>...</td>\n",
       "      <td>...</td>\n",
       "      <td>...</td>\n",
       "      <td>...</td>\n",
       "      <td>...</td>\n",
       "      <td>...</td>\n",
       "      <td>...</td>\n",
       "      <td>...</td>\n",
       "    </tr>\n",
       "    <tr>\n",
       "      <th>8573</th>\n",
       "      <td>Earphones are of good quality, produce a good ...</td>\n",
       "      <td>4</td>\n",
       "      <td>Sennheiser CX 6.0BT</td>\n",
       "      <td>6499</td>\n",
       "      <td>8573</td>\n",
       "      <td>earphones are of good quality produce a good s...</td>\n",
       "      <td>earphon good qualiti produc good sound balanc ...</td>\n",
       "      <td>[0, 0, 0, 0, 0, 0, 0, 0, 0, 0, 0, 0, 0, 0, 0, ...</td>\n",
       "      <td>1</td>\n",
       "      <td>good</td>\n",
       "    </tr>\n",
       "    <tr>\n",
       "      <th>9790</th>\n",
       "      <td>Nice to hear the sound quality and its worth f...</td>\n",
       "      <td>4</td>\n",
       "      <td>Sennheiser CX 6.0BT</td>\n",
       "      <td>6499</td>\n",
       "      <td>9790</td>\n",
       "      <td>nice to hear the sound quality and its worth f...</td>\n",
       "      <td>nice hear sound qualiti worth money fit ear we...</td>\n",
       "      <td>[0, 0, 0, 0, 0, 0, 0, 0, 0, 0, 0, 0, 0, 0, 0, ...</td>\n",
       "      <td>1</td>\n",
       "      <td>good</td>\n",
       "    </tr>\n",
       "    <tr>\n",
       "      <th>2677</th>\n",
       "      <td>Good one for this price\\n</td>\n",
       "      <td>5</td>\n",
       "      <td>boAt Rockerz 255</td>\n",
       "      <td>1399</td>\n",
       "      <td>2677</td>\n",
       "      <td>good one for this price</td>\n",
       "      <td>good one price</td>\n",
       "      <td>[0, 0, 0, 0, 0, 0, 0, 0, 0, 0, 0, 0, 0, 0, 0, ...</td>\n",
       "      <td>1</td>\n",
       "      <td>good</td>\n",
       "    </tr>\n",
       "    <tr>\n",
       "      <th>12742</th>\n",
       "      <td>It’s not good! I returned it! The mic quality ...</td>\n",
       "      <td>2</td>\n",
       "      <td>JBL T110BT</td>\n",
       "      <td>2000</td>\n",
       "      <td>12742</td>\n",
       "      <td>it s not good i returned it the mic quality wa...</td>\n",
       "      <td>good return mic qualiti good use run disappoint</td>\n",
       "      <td>[0, 0, 0, 0, 0, 0, 0, 0, 0, 0, 0, 0, 0, 0, 0, ...</td>\n",
       "      <td>1</td>\n",
       "      <td>good</td>\n",
       "    </tr>\n",
       "    <tr>\n",
       "      <th>5511</th>\n",
       "      <td>Yes i like this...\\n</td>\n",
       "      <td>4</td>\n",
       "      <td>PTron Intunes</td>\n",
       "      <td>749</td>\n",
       "      <td>5511</td>\n",
       "      <td>yes i like this</td>\n",
       "      <td>yes like</td>\n",
       "      <td>[0, 0, 0, 0, 0, 0, 0, 0, 0, 0, 0, 0, 0, 0, 0, ...</td>\n",
       "      <td>0</td>\n",
       "      <td>bad</td>\n",
       "    </tr>\n",
       "  </tbody>\n",
       "</table>\n",
       "<p>1434 rows × 10 columns</p>\n",
       "</div>"
      ],
      "text/plain": [
       "                                                    Text  Star  \\\n",
       "7525   I used too many earphones but this is worst fo...     1   \n",
       "7264   The model and the sound quality is is on par e...     5   \n",
       "8104   Bought it second time. First was in 2014, repl...     5   \n",
       "14169  Bought this earphone 5 months back!I think it ...     5   \n",
       "13925                                           Better\\n     3   \n",
       "...                                                  ...   ...   \n",
       "8573   Earphones are of good quality, produce a good ...     4   \n",
       "9790   Nice to hear the sound quality and its worth f...     4   \n",
       "2677                           Good one for this price\\n     5   \n",
       "12742  It’s not good! I returned it! The mic quality ...     2   \n",
       "5511                                Yes i like this...\\n     4   \n",
       "\n",
       "                   Product  Price     id  \\\n",
       "7525   Sennheiser CX 6.0BT   6499   7525   \n",
       "7264   Sennheiser CX 6.0BT   6499   7264   \n",
       "8104   Sennheiser CX 6.0BT   6499   8104   \n",
       "14169           JBL T110BT   2000  14169   \n",
       "13925           JBL T110BT   2000  13925   \n",
       "...                    ...    ...    ...   \n",
       "8573   Sennheiser CX 6.0BT   6499   8573   \n",
       "9790   Sennheiser CX 6.0BT   6499   9790   \n",
       "2677      boAt Rockerz 255   1399   2677   \n",
       "12742           JBL T110BT   2000  12742   \n",
       "5511         PTron Intunes    749   5511   \n",
       "\n",
       "                                              Text_Clean  \\\n",
       "7525   i used too many earphones but this is worst fo...   \n",
       "7264   the model and the sound quality is is on par e...   \n",
       "8104   bought it second time first was in  replacemen...   \n",
       "14169  bought this earphone  months back i think it i...   \n",
       "13925                                             better   \n",
       "...                                                  ...   \n",
       "8573   earphones are of good quality produce a good s...   \n",
       "9790   nice to hear the sound quality and its worth f...   \n",
       "2677                             good one for this price   \n",
       "12742  it s not good i returned it the mic quality wa...   \n",
       "5511                                     yes i like this   \n",
       "\n",
       "                                       Standardized_Text  \\\n",
       "7525   use mani earphon worst money even gone doctor ...   \n",
       "7264   model sound qualiti par excel moment saw headp...   \n",
       "8104   bought second time first replac within warrant...   \n",
       "14169  bought earphon month back think best bt earpho...   \n",
       "13925                                             better   \n",
       "...                                                  ...   \n",
       "8573   earphon good qualiti produc good sound balanc ...   \n",
       "9790   nice hear sound qualiti worth money fit ear we...   \n",
       "2677                                      good one price   \n",
       "12742    good return mic qualiti good use run disappoint   \n",
       "5511                                            yes like   \n",
       "\n",
       "                                             Padded_Text  \\\n",
       "7525   [0, 0, 0, 0, 0, 0, 0, 0, 0, 0, 0, 0, 0, 0, 0, ...   \n",
       "7264   [0, 0, 0, 0, 0, 0, 0, 0, 0, 0, 0, 0, 0, 0, 0, ...   \n",
       "8104   [0, 0, 0, 0, 0, 0, 0, 0, 0, 0, 0, 0, 0, 0, 0, ...   \n",
       "14169  [0, 0, 0, 0, 0, 0, 0, 0, 0, 0, 0, 0, 0, 0, 0, ...   \n",
       "13925  [0, 0, 0, 0, 0, 0, 0, 0, 0, 0, 0, 0, 0, 0, 0, ...   \n",
       "...                                                  ...   \n",
       "8573   [0, 0, 0, 0, 0, 0, 0, 0, 0, 0, 0, 0, 0, 0, 0, ...   \n",
       "9790   [0, 0, 0, 0, 0, 0, 0, 0, 0, 0, 0, 0, 0, 0, 0, ...   \n",
       "2677   [0, 0, 0, 0, 0, 0, 0, 0, 0, 0, 0, 0, 0, 0, 0, ...   \n",
       "12742  [0, 0, 0, 0, 0, 0, 0, 0, 0, 0, 0, 0, 0, 0, 0, ...   \n",
       "5511   [0, 0, 0, 0, 0, 0, 0, 0, 0, 0, 0, 0, 0, 0, 0, ...   \n",
       "\n",
       "       Sentiment_Prediction_Raw Sentiment_Prediction  \n",
       "7525                          0                  bad  \n",
       "7264                          1                 good  \n",
       "8104                          1                 good  \n",
       "14169                         1                 good  \n",
       "13925                         1                 good  \n",
       "...                         ...                  ...  \n",
       "8573                          1                 good  \n",
       "9790                          1                 good  \n",
       "2677                          1                 good  \n",
       "12742                         1                 good  \n",
       "5511                          0                  bad  \n",
       "\n",
       "[1434 rows x 10 columns]"
      ]
     },
     "execution_count": 120,
     "metadata": {},
     "output_type": "execute_result"
    }
   ],
   "source": [
    "data_report"
   ]
  },
  {
   "cell_type": "code",
   "execution_count": null,
   "metadata": {},
   "outputs": [],
   "source": []
  }
 ],
 "metadata": {
  "kernelspec": {
   "display_name": "Python 3",
   "language": "python",
   "name": "python3"
  },
  "language_info": {
   "codemirror_mode": {
    "name": "ipython",
    "version": 3
   },
   "file_extension": ".py",
   "mimetype": "text/x-python",
   "name": "python",
   "nbconvert_exporter": "python",
   "pygments_lexer": "ipython3",
   "version": "3.6.10"
  }
 },
 "nbformat": 4,
 "nbformat_minor": 4
}
