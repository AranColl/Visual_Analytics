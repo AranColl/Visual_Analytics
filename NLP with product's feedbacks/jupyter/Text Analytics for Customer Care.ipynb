{
 "cells": [
  {
   "cell_type": "markdown",
   "metadata": {
    "id": "WUOWnYAzIY5R"
   },
   "source": [
    "# Text Analytics for Customer Care\n",
    "\n",
    "# Seminar goals:\n",
    "In this project, we will work on Text Analytics applied to Customer Care. These methodologies are broadly used in business to multiple use cases as:\n",
    "- Identify **leaknesses** in Customer services\n",
    "- Identify **unsatisfied customers**\n",
    "- Identify **potential issues** \n",
    "- Automate the customer-company interaction\n",
    "\n",
    "During this project we will follow the end-to-end Machine Learning process: from data gathering and cleaning, exploratory data analysis, feature engineering, model training and prediction, and finally, data visualization in order to identify potential unsatisfied customers, main topics related with a given product, etc.. In particular, the main sections of this project are:\n",
    "1. Data understanding and preparation: exploration of the dataset and feature engineering\n",
    "2. Text processing: clean and transform the text in order to improve our model accuracy\n",
    "2. Model Training: training a Sentimental Analysis Model. Analysis of metrics (recall, precision, confusion metrics)\n",
    "3. Creating a Business opportunity with Machine Learning: selection of the best model and identification of the most important features\n",
    "4. Create the Customer Care dashboard: Build up an interactive dashboard in order to convert data into easily consumable information.\n",
    "\n",
    "**What do you have to deliver?**\n",
    "\n",
    "- **Code**: This Jupyter completed with your code\n",
    "- **Visualization**: Some exercises will require an interactive visualization that can be done in any platform (Tableau, Power BI, ...). The only requirement is: if it is not done in Tableau or Power BI you must provide a full guideline about how to install it and any other thing required to use it.\n",
    "- **Report**: A PDF where you expose your conclusions to those questions remarked with **[REPORT]**\n",
    "\n",
    "\n",
    "# 0. Context: Using Machine Learning applied to text to improve Customer Care services\n",
    "\n",
    "We work as a head of data science and AI in a Ecommerce company.\n",
    "\n",
    "Our Customer Services Department takes a long time to process all the information they have and detect unsatisfied customers. Therefore, they came to us and ask for a platform that solves their problem: automate the data extraction, process the data and deliver the output in a dashboard that they can consume with the objective of being able to detect the unsatisfied customers, the main topics why they are unsatisfied, see the customer's history, and many other graphs that help them to improve the Customer Service.\n",
    "\n",
    "## 0.1 Dataset\n",
    "\n",
    "We are working with a kaggle dataset that is composed by two datasets: \n",
    "\n",
    "**Product Reviews**\n",
    "\n",
    "Contains the review done by a customer for a given product. Its fields are the following ones:\n",
    "\n",
    "- **ReviewTitle**: Title of the review\n",
    "- **ReviewBody**: Contains the review done by the customer\n",
    "- **ReviewStar**: How many stars the customer assigns to the product. From 0 to 5, where 0 is the worst value and 5 the best one.\n",
    "- **Product**: Product identifier\n",
    "\n",
    "**Product Info**\n",
    "\n",
    "Contains the info about a given product. Its fields are the following ones:\n",
    "\n",
    "- **MRP**: Unknown (non used)\n",
    "- **Price**: price of the product\n",
    "- **ProductFullName**: Full name of the product\n",
    "- **ProductShortName**: Short name of the product. This is the one that join the product with all reviews it has.\n",
    "- **ReviewURL**: URL to see the product description\n",
    "- **id**: Unique identifier of the product."
   ]
  },
  {
   "cell_type": "markdown",
   "metadata": {
    "id": "jpY6EjkYIY5Y"
   },
   "source": [
    "## 0.2. Imports"
   ]
  },
  {
   "cell_type": "code",
   "execution_count": 12,
   "metadata": {
    "colab": {
     "base_uri": "https://localhost:8080/"
    },
    "executionInfo": {
     "elapsed": 3193,
     "status": "ok",
     "timestamp": 1607702314539,
     "user": {
      "displayName": "ARAN COLL",
      "photoUrl": "",
      "userId": "03516064002169547289"
     },
     "user_tz": -60
    },
    "id": "R9vkfo2sIvFj",
    "outputId": "15b7382d-4ee1-4c74-bd6c-95f3be4dc098"
   },
   "outputs": [
    {
     "name": "stdout",
     "output_type": "stream",
     "text": [
      "Requirement already satisfied: unidecode in /usr/local/lib/python3.6/dist-packages (1.1.1)\n"
     ]
    }
   ],
   "source": [
    "%pip install unidecode"
   ]
  },
  {
   "cell_type": "code",
   "execution_count": 13,
   "metadata": {
    "executionInfo": {
     "elapsed": 3182,
     "status": "ok",
     "timestamp": 1607702314540,
     "user": {
      "displayName": "ARAN COLL",
      "photoUrl": "",
      "userId": "03516064002169547289"
     },
     "user_tz": -60
    },
    "id": "XHrDt31tIY5Z"
   },
   "outputs": [],
   "source": [
    "import pandas as pd\n",
    "import seaborn as sns\n",
    "import os\n",
    "import numpy as np\n",
    "import matplotlib.pyplot as plt\n",
    "import nltk\n",
    "import string\n",
    "import unidecode\n",
    "import re\n",
    "\n",
    "# Set Pandas to show all the columns\n",
    "pd.set_option('display.max_columns', None)"
   ]
  },
  {
   "cell_type": "markdown",
   "metadata": {
    "id": "jmkRysZSIY5Z"
   },
   "source": [
    "**Download the stemmers**"
   ]
  },
  {
   "cell_type": "code",
   "execution_count": 14,
   "metadata": {
    "colab": {
     "base_uri": "https://localhost:8080/"
    },
    "executionInfo": {
     "elapsed": 3173,
     "status": "ok",
     "timestamp": 1607702314541,
     "user": {
      "displayName": "ARAN COLL",
      "photoUrl": "",
      "userId": "03516064002169547289"
     },
     "user_tz": -60
    },
    "id": "mwzA0RH0IY5a",
    "outputId": "c7a39bf7-8618-4a9a-dfea-51e8de54b033"
   },
   "outputs": [
    {
     "name": "stdout",
     "output_type": "stream",
     "text": [
      "[nltk_data] Downloading package punkt to /root/nltk_data...\n",
      "[nltk_data]   Package punkt is already up-to-date!\n"
     ]
    },
    {
     "data": {
      "text/plain": [
       "True"
      ]
     },
     "execution_count": 14,
     "metadata": {
      "tags": []
     },
     "output_type": "execute_result"
    }
   ],
   "source": [
    "nltk.download('punkt')"
   ]
  },
  {
   "cell_type": "markdown",
   "metadata": {
    "id": "79gGlBKXIY5b"
   },
   "source": [
    "**Continue with the imports**"
   ]
  },
  {
   "cell_type": "code",
   "execution_count": 15,
   "metadata": {
    "executionInfo": {
     "elapsed": 3166,
     "status": "ok",
     "timestamp": 1607702314542,
     "user": {
      "displayName": "ARAN COLL",
      "photoUrl": "",
      "userId": "03516064002169547289"
     },
     "user_tz": -60
    },
    "id": "hNAC5ySVIY5b"
   },
   "outputs": [],
   "source": [
    "import nltk.stem as stemmers\n",
    "from tensorflow.keras.preprocessing.text import Tokenizer\n",
    "from tensorflow.keras.preprocessing.sequence import pad_sequences\n",
    "from sklearn.model_selection import train_test_split\n",
    "from tensorflow.keras.models import Model\n",
    "from tensorflow.keras.layers import Dense, LSTM, Embedding, Input, Dropout, SpatialDropout1D"
   ]
  },
  {
   "cell_type": "markdown",
   "metadata": {
    "id": "Ps7lkUkQJmuk"
   },
   "source": [
    "# **1. Data understanding and preparation**"
   ]
  },
  {
   "cell_type": "markdown",
   "metadata": {
    "id": "25Sj9ucPJmuk"
   },
   "source": [
    "As you already know, the first stage in any Machine Learning project is to have a clear understanding of the dataset. When working with text this is not as easy as working with numerical data, but after this practice you will know how to proceed. A same sentence can be written in many different ways (for example: how are you? | how are u?), so we must apply different text processing techniques in order to standarize the text and be able to rightly build up models on top of it."
   ]
  },
  {
   "cell_type": "markdown",
   "metadata": {
    "id": "anu4Pv18IY5c"
   },
   "source": [
    "### **1.1 Read the data**\n",
    "\n",
    "Let's open both csv with separator \",\" and assign to a dataframe variable (use read_csv from Pandas library). Let's see the top 5 elements."
   ]
  },
  {
   "cell_type": "code",
   "execution_count": 16,
   "metadata": {
    "colab": {
     "base_uri": "https://localhost:8080/"
    },
    "executionInfo": {
     "elapsed": 6242,
     "status": "ok",
     "timestamp": 1607702317626,
     "user": {
      "displayName": "ARAN COLL",
      "photoUrl": "",
      "userId": "03516064002169547289"
     },
     "user_tz": -60
    },
    "id": "K_eXMbSQIY5c",
    "outputId": "6200b33f-49f3-4aaa-dd80-1fe4f20ec13b"
   },
   "outputs": [
    {
     "name": "stdout",
     "output_type": "stream",
     "text": [
      "Drive already mounted at /content/drive/; to attempt to forcibly remount, call drive.mount(\"/content/drive/\", force_remount=True).\n"
     ]
    }
   ],
   "source": [
    "# Define the parameters to read the data\n",
    "root_path = \"../datos\"\n",
    "info_file = \"ProductInfo.csv\"\n",
    "reviews_file = \"ProductReviews.csv\"\n",
    "sep = \",\"\n",
    "encoding = \"utf-8\"\n",
    "\n",
    "# Read the data\n",
    "info_df = pd.read_csv(filepath_or_buffer=os.path.abspath(os.path.join(root_path, info_file)), sep = sep, encoding = encoding)\n",
    "reviews_df = pd.read_csv(filepath_or_buffer=os.path.abspath(os.path.join(root_path, reviews_file)), sep = sep, encoding = encoding)"
   ]
  },
  {
   "cell_type": "code",
   "execution_count": 17,
   "metadata": {
    "colab": {
     "base_uri": "https://localhost:8080/",
     "height": 340
    },
    "executionInfo": {
     "elapsed": 6233,
     "status": "ok",
     "timestamp": 1607702317629,
     "user": {
      "displayName": "ARAN COLL",
      "photoUrl": "",
      "userId": "03516064002169547289"
     },
     "user_tz": -60
    },
    "id": "Szuciy7TIY5d",
    "outputId": "196f91ef-b04c-4f81-f6b5-b610e5ed0ef0"
   },
   "outputs": [
    {
     "data": {
      "text/html": [
       "<div>\n",
       "<style scoped>\n",
       "    .dataframe tbody tr th:only-of-type {\n",
       "        vertical-align: middle;\n",
       "    }\n",
       "\n",
       "    .dataframe tbody tr th {\n",
       "        vertical-align: top;\n",
       "    }\n",
       "\n",
       "    .dataframe thead th {\n",
       "        text-align: right;\n",
       "    }\n",
       "</style>\n",
       "<table border=\"1\" class=\"dataframe\">\n",
       "  <thead>\n",
       "    <tr style=\"text-align: right;\">\n",
       "      <th></th>\n",
       "      <th>MRP</th>\n",
       "      <th>Price</th>\n",
       "      <th>ProductFullName</th>\n",
       "      <th>ProductShortName</th>\n",
       "      <th>ReviewURL</th>\n",
       "      <th>id</th>\n",
       "    </tr>\n",
       "  </thead>\n",
       "  <tbody>\n",
       "    <tr>\n",
       "      <th>0</th>\n",
       "      <td>2990</td>\n",
       "      <td>1399</td>\n",
       "      <td>boAt Rockerz 255 Sports Bluetooth Wireless Ear...</td>\n",
       "      <td>boAt Rockerz 255</td>\n",
       "      <td>https://www.amazon.in/255-Bluetooth-Wireless-E...</td>\n",
       "      <td>1</td>\n",
       "    </tr>\n",
       "    <tr>\n",
       "      <th>1</th>\n",
       "      <td>3999</td>\n",
       "      <td>1099</td>\n",
       "      <td>Flybot Wave in-Ear Sport Wireless Bluetooth Ea...</td>\n",
       "      <td>Flybot Wave</td>\n",
       "      <td>https://www.amazon.in/Flybot-Wireless-Bluetoot...</td>\n",
       "      <td>2</td>\n",
       "    </tr>\n",
       "    <tr>\n",
       "      <th>2</th>\n",
       "      <td>3999</td>\n",
       "      <td>1099</td>\n",
       "      <td>Flybot Boom Deep Bass in-Ear Wireless Bluetoot...</td>\n",
       "      <td>Flybot Boom</td>\n",
       "      <td>https://www.amazon.in/Flybot-Wireless-Bluetoot...</td>\n",
       "      <td>3</td>\n",
       "    </tr>\n",
       "    <tr>\n",
       "      <th>3</th>\n",
       "      <td>2000</td>\n",
       "      <td>749</td>\n",
       "      <td>PTron Intunes Pro Headphone Magnetic Earphone ...</td>\n",
       "      <td>PTron Intunes</td>\n",
       "      <td>https://www.amazon.in/PTron-Intunes-Pro-Smartp...</td>\n",
       "      <td>4</td>\n",
       "    </tr>\n",
       "    <tr>\n",
       "      <th>4</th>\n",
       "      <td>5999</td>\n",
       "      <td>2999</td>\n",
       "      <td>Flybot Beat True Wireless Bluetooth Earphones ...</td>\n",
       "      <td>Flybot Beat</td>\n",
       "      <td>https://www.amazon.in/Flybot-Wireless-Bluetoot...</td>\n",
       "      <td>5</td>\n",
       "    </tr>\n",
       "    <tr>\n",
       "      <th>5</th>\n",
       "      <td>3799</td>\n",
       "      <td>3190</td>\n",
       "      <td>Samsung EO-BG950CBEGIN Bluetooth Wireless in-E...</td>\n",
       "      <td>Samsung EO-BG950CBEIN</td>\n",
       "      <td>https://www.amazon.in/Samsung-EO-BG950CBEGIN-B...</td>\n",
       "      <td>6</td>\n",
       "    </tr>\n",
       "    <tr>\n",
       "      <th>6</th>\n",
       "      <td>2999</td>\n",
       "      <td>1999</td>\n",
       "      <td>JBL T205BT Pure Bass Wireless Metal Earbud Hea...</td>\n",
       "      <td>JBL T205BT</td>\n",
       "      <td>https://www.amazon.in/JBL-T205BT-Wireless-Earb...</td>\n",
       "      <td>7</td>\n",
       "    </tr>\n",
       "    <tr>\n",
       "      <th>7</th>\n",
       "      <td>7490</td>\n",
       "      <td>6499</td>\n",
       "      <td>Sennheiser CX 6.0BT 507447 in Ear Wireless Ear...</td>\n",
       "      <td>Sennheiser CX 6.0BT</td>\n",
       "      <td>https://www.amazon.in/Sennheiser-CX-507447-Wir...</td>\n",
       "      <td>8</td>\n",
       "    </tr>\n",
       "    <tr>\n",
       "      <th>8</th>\n",
       "      <td>5299</td>\n",
       "      <td>3699</td>\n",
       "      <td>Skullcandy S2PGHW-174 in-Ear Wireless Headphon...</td>\n",
       "      <td>Skullcandy S2PGHW-174</td>\n",
       "      <td>https://www.amazon.in/Skullcandy-S2PGHW-174-Wi...</td>\n",
       "      <td>9</td>\n",
       "    </tr>\n",
       "    <tr>\n",
       "      <th>9</th>\n",
       "      <td>2259</td>\n",
       "      <td>2000</td>\n",
       "      <td>JBL T110BT Pure Bass Wireless in-Ear Headphone...</td>\n",
       "      <td>JBL T110BT</td>\n",
       "      <td>https://www.amazon.in/JBL-T110BT-Wireless-Head...</td>\n",
       "      <td>10</td>\n",
       "    </tr>\n",
       "  </tbody>\n",
       "</table>\n",
       "</div>"
      ],
      "text/plain": [
       "    MRP  Price                                    ProductFullName  \\\n",
       "0  2990   1399  boAt Rockerz 255 Sports Bluetooth Wireless Ear...   \n",
       "1  3999   1099  Flybot Wave in-Ear Sport Wireless Bluetooth Ea...   \n",
       "2  3999   1099  Flybot Boom Deep Bass in-Ear Wireless Bluetoot...   \n",
       "3  2000    749  PTron Intunes Pro Headphone Magnetic Earphone ...   \n",
       "4  5999   2999  Flybot Beat True Wireless Bluetooth Earphones ...   \n",
       "5  3799   3190  Samsung EO-BG950CBEGIN Bluetooth Wireless in-E...   \n",
       "6  2999   1999  JBL T205BT Pure Bass Wireless Metal Earbud Hea...   \n",
       "7  7490   6499  Sennheiser CX 6.0BT 507447 in Ear Wireless Ear...   \n",
       "8  5299   3699  Skullcandy S2PGHW-174 in-Ear Wireless Headphon...   \n",
       "9  2259   2000  JBL T110BT Pure Bass Wireless in-Ear Headphone...   \n",
       "\n",
       "        ProductShortName                                          ReviewURL  \\\n",
       "0       boAt Rockerz 255  https://www.amazon.in/255-Bluetooth-Wireless-E...   \n",
       "1            Flybot Wave  https://www.amazon.in/Flybot-Wireless-Bluetoot...   \n",
       "2            Flybot Boom  https://www.amazon.in/Flybot-Wireless-Bluetoot...   \n",
       "3          PTron Intunes  https://www.amazon.in/PTron-Intunes-Pro-Smartp...   \n",
       "4            Flybot Beat  https://www.amazon.in/Flybot-Wireless-Bluetoot...   \n",
       "5  Samsung EO-BG950CBEIN  https://www.amazon.in/Samsung-EO-BG950CBEGIN-B...   \n",
       "6             JBL T205BT  https://www.amazon.in/JBL-T205BT-Wireless-Earb...   \n",
       "7    Sennheiser CX 6.0BT  https://www.amazon.in/Sennheiser-CX-507447-Wir...   \n",
       "8  Skullcandy S2PGHW-174  https://www.amazon.in/Skullcandy-S2PGHW-174-Wi...   \n",
       "9             JBL T110BT  https://www.amazon.in/JBL-T110BT-Wireless-Head...   \n",
       "\n",
       "   id  \n",
       "0   1  \n",
       "1   2  \n",
       "2   3  \n",
       "3   4  \n",
       "4   5  \n",
       "5   6  \n",
       "6   7  \n",
       "7   8  \n",
       "8   9  \n",
       "9  10  "
      ]
     },
     "execution_count": 17,
     "metadata": {
      "tags": []
     },
     "output_type": "execute_result"
    }
   ],
   "source": [
    "info_df"
   ]
  },
  {
   "cell_type": "code",
   "execution_count": 18,
   "metadata": {
    "colab": {
     "base_uri": "https://localhost:8080/",
     "height": 399
    },
    "executionInfo": {
     "elapsed": 6229,
     "status": "ok",
     "timestamp": 1607702317630,
     "user": {
      "displayName": "ARAN COLL",
      "photoUrl": "",
      "userId": "03516064002169547289"
     },
     "user_tz": -60
    },
    "id": "4jea5ysiIY5d",
    "outputId": "cd62e15e-6beb-4da2-be8f-ea92f4bd3265"
   },
   "outputs": [
    {
     "data": {
      "text/html": [
       "<div>\n",
       "<style scoped>\n",
       "    .dataframe tbody tr th:only-of-type {\n",
       "        vertical-align: middle;\n",
       "    }\n",
       "\n",
       "    .dataframe tbody tr th {\n",
       "        vertical-align: top;\n",
       "    }\n",
       "\n",
       "    .dataframe thead th {\n",
       "        text-align: right;\n",
       "    }\n",
       "</style>\n",
       "<table border=\"1\" class=\"dataframe\">\n",
       "  <thead>\n",
       "    <tr style=\"text-align: right;\">\n",
       "      <th></th>\n",
       "      <th>ReviewTitle</th>\n",
       "      <th>ReviewBody</th>\n",
       "      <th>ReviewStar</th>\n",
       "      <th>Product</th>\n",
       "    </tr>\n",
       "  </thead>\n",
       "  <tbody>\n",
       "    <tr>\n",
       "      <th>0</th>\n",
       "      <td>Honest review of an edm music lover\\n</td>\n",
       "      <td>No doubt it has a great bass and to a great ex...</td>\n",
       "      <td>3</td>\n",
       "      <td>boAt Rockerz 255</td>\n",
       "    </tr>\n",
       "    <tr>\n",
       "      <th>1</th>\n",
       "      <td>Unreliable earphones with high cost\\n</td>\n",
       "      <td>This  earphones are unreliable, i bought it be...</td>\n",
       "      <td>1</td>\n",
       "      <td>boAt Rockerz 255</td>\n",
       "    </tr>\n",
       "    <tr>\n",
       "      <th>2</th>\n",
       "      <td>Really good and durable.\\n</td>\n",
       "      <td>i bought itfor 999,I purchased it second time,...</td>\n",
       "      <td>4</td>\n",
       "      <td>boAt Rockerz 255</td>\n",
       "    </tr>\n",
       "    <tr>\n",
       "      <th>3</th>\n",
       "      <td>stopped working in just 14 days\\n</td>\n",
       "      <td>Its sound quality is adorable. overall it was ...</td>\n",
       "      <td>1</td>\n",
       "      <td>boAt Rockerz 255</td>\n",
       "    </tr>\n",
       "    <tr>\n",
       "      <th>4</th>\n",
       "      <td>Just Awesome Wireless Headphone under 1000...😉\\n</td>\n",
       "      <td>Its Awesome... Good sound quality &amp; 8-9 hrs ba...</td>\n",
       "      <td>5</td>\n",
       "      <td>boAt Rockerz 255</td>\n",
       "    </tr>\n",
       "    <tr>\n",
       "      <th>...</th>\n",
       "      <td>...</td>\n",
       "      <td>...</td>\n",
       "      <td>...</td>\n",
       "      <td>...</td>\n",
       "    </tr>\n",
       "    <tr>\n",
       "      <th>14332</th>\n",
       "      <td>Good\\n</td>\n",
       "      <td>Good\\n</td>\n",
       "      <td>4</td>\n",
       "      <td>JBL T110BT</td>\n",
       "    </tr>\n",
       "    <tr>\n",
       "      <th>14333</th>\n",
       "      <td>Amazing Product\\n</td>\n",
       "      <td>An amazing product but a bit costly.\\n</td>\n",
       "      <td>5</td>\n",
       "      <td>JBL T110BT</td>\n",
       "    </tr>\n",
       "    <tr>\n",
       "      <th>14334</th>\n",
       "      <td>Not bad\\n</td>\n",
       "      <td>Sound\\n</td>\n",
       "      <td>1</td>\n",
       "      <td>JBL T110BT</td>\n",
       "    </tr>\n",
       "    <tr>\n",
       "      <th>14335</th>\n",
       "      <td>a good product\\n</td>\n",
       "      <td>the sound is good battery life is good but the...</td>\n",
       "      <td>5</td>\n",
       "      <td>JBL T110BT</td>\n",
       "    </tr>\n",
       "    <tr>\n",
       "      <th>14336</th>\n",
       "      <td>Average headphones , n overrated name\\n</td>\n",
       "      <td>M writing this review after using for almost 7...</td>\n",
       "      <td>1</td>\n",
       "      <td>JBL T110BT</td>\n",
       "    </tr>\n",
       "  </tbody>\n",
       "</table>\n",
       "<p>14337 rows × 4 columns</p>\n",
       "</div>"
      ],
      "text/plain": [
       "                                            ReviewTitle  \\\n",
       "0                 Honest review of an edm music lover\\n   \n",
       "1                 Unreliable earphones with high cost\\n   \n",
       "2                            Really good and durable.\\n   \n",
       "3                     stopped working in just 14 days\\n   \n",
       "4      Just Awesome Wireless Headphone under 1000...😉\\n   \n",
       "...                                                 ...   \n",
       "14332                                            Good\\n   \n",
       "14333                                 Amazing Product\\n   \n",
       "14334                                         Not bad\\n   \n",
       "14335                                  a good product\\n   \n",
       "14336           Average headphones , n overrated name\\n   \n",
       "\n",
       "                                              ReviewBody  ReviewStar  \\\n",
       "0      No doubt it has a great bass and to a great ex...           3   \n",
       "1      This  earphones are unreliable, i bought it be...           1   \n",
       "2      i bought itfor 999,I purchased it second time,...           4   \n",
       "3      Its sound quality is adorable. overall it was ...           1   \n",
       "4      Its Awesome... Good sound quality & 8-9 hrs ba...           5   \n",
       "...                                                  ...         ...   \n",
       "14332                                             Good\\n           4   \n",
       "14333             An amazing product but a bit costly.\\n           5   \n",
       "14334                                            Sound\\n           1   \n",
       "14335  the sound is good battery life is good but the...           5   \n",
       "14336  M writing this review after using for almost 7...           1   \n",
       "\n",
       "                Product  \n",
       "0      boAt Rockerz 255  \n",
       "1      boAt Rockerz 255  \n",
       "2      boAt Rockerz 255  \n",
       "3      boAt Rockerz 255  \n",
       "4      boAt Rockerz 255  \n",
       "...                 ...  \n",
       "14332        JBL T110BT  \n",
       "14333        JBL T110BT  \n",
       "14334        JBL T110BT  \n",
       "14335        JBL T110BT  \n",
       "14336        JBL T110BT  \n",
       "\n",
       "[14337 rows x 4 columns]"
      ]
     },
     "execution_count": 18,
     "metadata": {
      "tags": []
     },
     "output_type": "execute_result"
    }
   ],
   "source": [
    "reviews_df"
   ]
  },
  {
   "cell_type": "markdown",
   "metadata": {
    "id": "iM285BjbIY5d"
   },
   "source": [
    "[**EX 1**] \n",
    "\n",
    "Keep and rename the defined fields per dataframe and join them. The resulted dataframe must be named as _data_. Moreover, assing an incremental ID (called as _id_) to each review in order to be able to identify it in future steps\n",
    "\n",
    "- **info_df**: \n",
    "    - ProductShortName: Product\n",
    "    - Price: Price\n",
    "    \n",
    "    \n",
    "- **reviews_df**: \n",
    "    - ReviewBody: Text \n",
    "    - ReviewStar: Star\n",
    "    - Product: Product\n",
    "\n",
    "**Solution**"
   ]
  },
  {
   "cell_type": "code",
   "execution_count": 19,
   "metadata": {
    "colab": {
     "base_uri": "https://localhost:8080/",
     "height": 283
    },
    "executionInfo": {
     "elapsed": 6225,
     "status": "ok",
     "timestamp": 1607702317632,
     "user": {
      "displayName": "ARAN COLL",
      "photoUrl": "",
      "userId": "03516064002169547289"
     },
     "user_tz": -60
    },
    "id": "mEUCWy0uIY5e",
    "outputId": "bf673404-6edb-4638-873c-fd808201f550"
   },
   "outputs": [
    {
     "name": "stderr",
     "output_type": "stream",
     "text": [
      "/usr/local/lib/python3.6/dist-packages/pandas/core/frame.py:4308: SettingWithCopyWarning: \n",
      "A value is trying to be set on a copy of a slice from a DataFrame\n",
      "\n",
      "See the caveats in the documentation: https://pandas.pydata.org/pandas-docs/stable/user_guide/indexing.html#returning-a-view-versus-a-copy\n",
      "  errors=errors,\n"
     ]
    },
    {
     "data": {
      "text/html": [
       "<div>\n",
       "<style scoped>\n",
       "    .dataframe tbody tr th:only-of-type {\n",
       "        vertical-align: middle;\n",
       "    }\n",
       "\n",
       "    .dataframe tbody tr th {\n",
       "        vertical-align: top;\n",
       "    }\n",
       "\n",
       "    .dataframe thead th {\n",
       "        text-align: right;\n",
       "    }\n",
       "</style>\n",
       "<table border=\"1\" class=\"dataframe\">\n",
       "  <thead>\n",
       "    <tr style=\"text-align: right;\">\n",
       "      <th></th>\n",
       "      <th>Product</th>\n",
       "      <th>Price</th>\n",
       "      <th>Text</th>\n",
       "      <th>Star</th>\n",
       "      <th>id</th>\n",
       "    </tr>\n",
       "  </thead>\n",
       "  <tbody>\n",
       "    <tr>\n",
       "      <th>0</th>\n",
       "      <td>boAt Rockerz 255</td>\n",
       "      <td>1399</td>\n",
       "      <td>No doubt it has a great bass and to a great ex...</td>\n",
       "      <td>3</td>\n",
       "      <td>0</td>\n",
       "    </tr>\n",
       "    <tr>\n",
       "      <th>1</th>\n",
       "      <td>boAt Rockerz 255</td>\n",
       "      <td>1399</td>\n",
       "      <td>This  earphones are unreliable, i bought it be...</td>\n",
       "      <td>1</td>\n",
       "      <td>1</td>\n",
       "    </tr>\n",
       "    <tr>\n",
       "      <th>2</th>\n",
       "      <td>boAt Rockerz 255</td>\n",
       "      <td>1399</td>\n",
       "      <td>i bought itfor 999,I purchased it second time,...</td>\n",
       "      <td>4</td>\n",
       "      <td>2</td>\n",
       "    </tr>\n",
       "    <tr>\n",
       "      <th>3</th>\n",
       "      <td>boAt Rockerz 255</td>\n",
       "      <td>1399</td>\n",
       "      <td>Its sound quality is adorable. overall it was ...</td>\n",
       "      <td>1</td>\n",
       "      <td>3</td>\n",
       "    </tr>\n",
       "    <tr>\n",
       "      <th>4</th>\n",
       "      <td>boAt Rockerz 255</td>\n",
       "      <td>1399</td>\n",
       "      <td>Its Awesome... Good sound quality &amp; 8-9 hrs ba...</td>\n",
       "      <td>5</td>\n",
       "      <td>4</td>\n",
       "    </tr>\n",
       "  </tbody>\n",
       "</table>\n",
       "</div>"
      ],
      "text/plain": [
       "            Product  Price                                               Text  \\\n",
       "0  boAt Rockerz 255   1399  No doubt it has a great bass and to a great ex...   \n",
       "1  boAt Rockerz 255   1399  This  earphones are unreliable, i bought it be...   \n",
       "2  boAt Rockerz 255   1399  i bought itfor 999,I purchased it second time,...   \n",
       "3  boAt Rockerz 255   1399  Its sound quality is adorable. overall it was ...   \n",
       "4  boAt Rockerz 255   1399  Its Awesome... Good sound quality & 8-9 hrs ba...   \n",
       "\n",
       "   Star  id  \n",
       "0     3   0  \n",
       "1     1   1  \n",
       "2     4   2  \n",
       "3     1   3  \n",
       "4     5   4  "
      ]
     },
     "execution_count": 19,
     "metadata": {
      "tags": []
     },
     "output_type": "execute_result"
    }
   ],
   "source": [
    "info_df = info_df[['ProductShortName', 'Price']] #filter \n",
    "info_df.rename(columns={\"ProductShortName\": \"Product\"}, inplace=True) #rename variables\n",
    "\n",
    "reviews_df = reviews_df[['ReviewBody', 'ReviewStar', 'Product']] #filter\n",
    "reviews_df.rename(columns={\"ReviewBody\": \"Text\", \"ReviewStar\": \"Star\"}, inplace=True) #rename variables\n",
    "\n",
    "#merge both df\n",
    "data = pd.merge(info_df, reviews_df, on=\"Product\")\n",
    "data['id'] = data.index #add an id column\n",
    "data.head(5)"
   ]
  },
  {
   "cell_type": "markdown",
   "metadata": {
    "id": "eiJr_IAqIY5e"
   },
   "source": [
    "**Split the dataset into data to be used during the class and data to be used during report generation**"
   ]
  },
  {
   "cell_type": "code",
   "execution_count": 20,
   "metadata": {
    "executionInfo": {
     "elapsed": 6222,
     "status": "ok",
     "timestamp": 1607702317634,
     "user": {
      "displayName": "ARAN COLL",
      "photoUrl": "",
      "userId": "03516064002169547289"
     },
     "user_tz": -60
    },
    "id": "gb64bdRGIY5e"
   },
   "outputs": [],
   "source": [
    "# Keep the 10% for reporting\n",
    "data_report = data.sample(frac = 0.1)\n",
    "\n",
    "# The rest for class\n",
    "data = data.drop(index=data_report.index)"
   ]
  },
  {
   "cell_type": "markdown",
   "metadata": {
    "id": "htn9nUSlIY5e"
   },
   "source": [
    "### **1.2 Dataset Exploratory Data Analysis (EDA)**\n",
    "\n",
    "Working with text is more complex than with numerical data, so EDA must be done in a different way. The reason behind is the ramdon component when writing/typing, where a given sentence can be written in many different ways. Therefore, the EDA must be done twice: Firstly, no standardizing the text in order to define the cleaning processes we have to apply, and sencodly when text is standardized and we can extract real information from it. \n",
    "\n",
    "### **1.2.1 Defining cleaning process**\n",
    "\n",
    "The first thing we must do is to have a look at the text and check if there is anything that catches your eye. "
   ]
  },
  {
   "cell_type": "markdown",
   "metadata": {
    "id": "yZdXjlz0Jmup"
   },
   "source": [
    "[**EX1**]\n",
    "\n",
    "Identify the type of each variable and check if they are rightly assigned. In case no, then change it to:\n",
    "\n",
    "- Text: string (object in Pandas)\n",
    "- Star: int\n",
    "- Product: string (object in Pandas)\n",
    "- Price: int\n",
    "\n",
    "**Questions**\n",
    "\n",
    "- How many records does the data have?\n",
    "\n",
    "- How many nulls does each attribute have? Have a look at the text and check if there is no masked null values."
   ]
  },
  {
   "cell_type": "markdown",
   "metadata": {
    "id": "5-zqnxf4IY5f"
   },
   "source": [
    "**Solution**"
   ]
  },
  {
   "cell_type": "markdown",
   "metadata": {
    "id": "BpKM8DCGIY5f"
   },
   "source": [
    "Aparently there is no nulls in any field, but in Text this assumption is fake. There are some records with only '\\n' values or emojis, so we must clean it before answering this question"
   ]
  },
  {
   "cell_type": "code",
   "execution_count": 21,
   "metadata": {
    "colab": {
     "base_uri": "https://localhost:8080/"
    },
    "executionInfo": {
     "elapsed": 6218,
     "status": "ok",
     "timestamp": 1607702317637,
     "user": {
      "displayName": "ARAN COLL",
      "photoUrl": "",
      "userId": "03516064002169547289"
     },
     "user_tz": -60
    },
    "id": "mlzkJr9AIY5g",
    "outputId": "eaba04dd-797a-4866-dd51-e68e9ec66cf0"
   },
   "outputs": [
    {
     "name": "stdout",
     "output_type": "stream",
     "text": [
      "<class 'pandas.core.frame.DataFrame'>\n",
      "Int64Index: 12903 entries, 0 to 14336\n",
      "Data columns (total 5 columns):\n",
      " #   Column   Non-Null Count  Dtype \n",
      "---  ------   --------------  ----- \n",
      " 0   Product  12903 non-null  object\n",
      " 1   Price    12903 non-null  int64 \n",
      " 2   Text     12903 non-null  object\n",
      " 3   Star     12903 non-null  int64 \n",
      " 4   id       12903 non-null  int64 \n",
      "dtypes: int64(3), object(2)\n",
      "memory usage: 604.8+ KB\n",
      "The data types are correctly assigned.\n"
     ]
    }
   ],
   "source": [
    "data.info()\n",
    "print('The data types are correctly assigned.')"
   ]
  },
  {
   "cell_type": "code",
   "execution_count": 22,
   "metadata": {
    "colab": {
     "base_uri": "https://localhost:8080/"
    },
    "executionInfo": {
     "elapsed": 6215,
     "status": "ok",
     "timestamp": 1607702317639,
     "user": {
      "displayName": "ARAN COLL",
      "photoUrl": "",
      "userId": "03516064002169547289"
     },
     "user_tz": -60
    },
    "id": "5PjhGDOHIY5g",
    "outputId": "7a7d87ed-dcd1-47cd-9315-800883aec3c9"
   },
   "outputs": [
    {
     "name": "stdout",
     "output_type": "stream",
     "text": [
      "There are no null values in any of the variables.\n"
     ]
    },
    {
     "data": {
      "text/plain": [
       "Product    0\n",
       "Price      0\n",
       "Text       0\n",
       "Star       0\n",
       "id         0\n",
       "dtype: int64"
      ]
     },
     "execution_count": 22,
     "metadata": {
      "tags": []
     },
     "output_type": "execute_result"
    }
   ],
   "source": [
    "print('There are no null values in any of the variables.')\n",
    "data.isna().sum()"
   ]
  },
  {
   "cell_type": "code",
   "execution_count": 23,
   "metadata": {
    "colab": {
     "base_uri": "https://localhost:8080/"
    },
    "executionInfo": {
     "elapsed": 6211,
     "status": "ok",
     "timestamp": 1607702317640,
     "user": {
      "displayName": "ARAN COLL",
      "photoUrl": "",
      "userId": "03516064002169547289"
     },
     "user_tz": -60
    },
    "id": "MtdA_lBZIY5g",
    "outputId": "a21386fa-b460-441f-85c5-179fcb572385"
   },
   "outputs": [
    {
     "name": "stdout",
     "output_type": "stream",
     "text": [
      "But if we sort the 'Text' values, we observe some masked null values like '\\n' and emojis, which provide no value at all.\n"
     ]
    },
    {
     "data": {
      "text/plain": [
       "14263                                                   \\n\n",
       "5742                                                    \\n\n",
       "11946                     \"material quality\" is not good\\n\n",
       "73       # Light but well built, doesn't feel bulky# Ba...\n",
       "45       ** the product was a perfect purchase... but i...\n",
       "                               ...                        \n",
       "4152                                    😍😍😍best in class\\n\n",
       "3675                                                  😘💪\\n\n",
       "3546                                                 🙏🙏🙏\\n\n",
       "4221     🤗🤗happy and satisfied to buy this Bluetooth ea...\n",
       "4605                                                  🤟🏻\\n\n",
       "Name: Text, Length: 12903, dtype: object"
      ]
     },
     "execution_count": 23,
     "metadata": {
      "tags": []
     },
     "output_type": "execute_result"
    }
   ],
   "source": [
    "print('But if we sort the \\'Text\\' values, we observe some masked null values like \\'\\\\n\\' and emojis, which provide no value at all.')\n",
    "data['Text'].sort_values()"
   ]
  },
  {
   "cell_type": "markdown",
   "metadata": {
    "id": "ac3WaGyAJmup"
   },
   "source": [
    "--------\n",
    "As mentioned above, working with text is not as direct as we thought. Text can contain some strange values like emojis or whitespace characters (\\s, \\n, \\t, \\r) that must be removed from text. \n",
    "\n",
    "[**EX 2**] \n",
    "\n",
    "Inspect the Text values and check if there is emojis or any other strange character that must be removed. Explain what you have found."
   ]
  },
  {
   "cell_type": "markdown",
   "metadata": {
    "id": "PZnzJtpbIY5h"
   },
   "source": [
    "**Solution**"
   ]
  },
  {
   "cell_type": "code",
   "execution_count": 24,
   "metadata": {
    "colab": {
     "base_uri": "https://localhost:8080/"
    },
    "executionInfo": {
     "elapsed": 7201,
     "status": "ok",
     "timestamp": 1607702318635,
     "user": {
      "displayName": "ARAN COLL",
      "photoUrl": "",
      "userId": "03516064002169547289"
     },
     "user_tz": -60
    },
    "id": "dIjckmIWIY5h",
    "outputId": "b4fde8a1-8bff-4de4-d429-4bf5c7abdb08"
   },
   "outputs": [
    {
     "name": "stdout",
     "output_type": "stream",
     "text": [
      "We can see some different emojis and some characters that need to be removed. For example: #, *, \",\\n\n"
     ]
    },
    {
     "data": {
      "text/plain": [
       "14263                                                   \\n\n",
       "5742                                                    \\n\n",
       "11946                     \"material quality\" is not good\\n\n",
       "73       # Light but well built, doesn't feel bulky# Ba...\n",
       "45       ** the product was a perfect purchase... but i...\n",
       "                               ...                        \n",
       "4152                                    😍😍😍best in class\\n\n",
       "3675                                                  😘💪\\n\n",
       "3546                                                 🙏🙏🙏\\n\n",
       "4221     🤗🤗happy and satisfied to buy this Bluetooth ea...\n",
       "4605                                                  🤟🏻\\n\n",
       "Name: Text, Length: 12903, dtype: object"
      ]
     },
     "execution_count": 24,
     "metadata": {
      "tags": []
     },
     "output_type": "execute_result"
    }
   ],
   "source": [
    "print('We can see some different emojis and some characters that need to be removed. For example: #, *, \\\",\\\\n')\n",
    "data['Text'].sort_values()"
   ]
  },
  {
   "cell_type": "markdown",
   "metadata": {
    "id": "ydZaA39aIY5h"
   },
   "source": []
  },
  {
   "cell_type": "markdown",
   "metadata": {
    "id": "0b3zTD3KIY5h"
   },
   "source": [
    "**[EX 3]** \n",
    "\n",
    "Fill up the following functions where is marked with TODO. In case you need/want to add new functions, just add them in the same cell than the others. Demostrate your process has been properly done by inspecting some Text and Text_Clean values."
   ]
  },
  {
   "cell_type": "markdown",
   "metadata": {
    "id": "U-dlYesSIY5i"
   },
   "source": [
    "**Solution**"
   ]
  },
  {
   "cell_type": "code",
   "execution_count": 25,
   "metadata": {
    "executionInfo": {
     "elapsed": 7198,
     "status": "ok",
     "timestamp": 1607702318637,
     "user": {
      "displayName": "ARAN COLL",
      "photoUrl": "",
      "userId": "03516064002169547289"
     },
     "user_tz": -60
    },
    "id": "IZssCSFfIY5i"
   },
   "outputs": [],
   "source": [
    "import unidecode\n",
    "\n",
    "def remove_accents(text):\n",
    "    if text:\n",
    "        return unidecode.unidecode(text) # TODO: remove the accents from text (tip: search for unicode)\n",
    "        \n",
    "\n",
    "    # In case there is no text\n",
    "    return \"\"\n",
    "\n",
    "def remove_punctuation_marks(text):\n",
    "    if text:\n",
    "        return text.translate(str.maketrans(dict.fromkeys(string.punctuation))) # TODO: Remove the punctuation marks from text (tip: search for translate and maketrans)\n",
    "\n",
    "    # In case there is no text\n",
    "    return \"\"\n",
    "\n",
    "def text_to_lower_case(text):\n",
    "    if text:\n",
    "        return text.lower()# TODO: convert text to lower case\n",
    "        \n",
    "    # In case there is no text\n",
    "    return \"\"\n",
    "\n",
    "def remove_emojis(text):\n",
    "    if text:\n",
    "        return text.encode('ascii', 'ignore').decode('ascii') # TODO: Remove emojis (tip: search for encode - decode)\n",
    "\n",
    "    # In case there is no text\n",
    "    return \"\"\n",
    "\n",
    "def remove_multiple_whitespaces(text):\n",
    "    if text:\n",
    "        return re.sub(' +', ' ', text)# TODO: remove multiple whitespaces (tip: search for regex and replace)\n",
    "    \n",
    "    # In case there is no text\n",
    "    return \"\"\n",
    "\n",
    "def remove_text_marks(text):\n",
    "    if text:\n",
    "        text = re.sub(r'\\'', '', text)# TODO: replace characters like it\\'s by its\n",
    "        \n",
    "        text = re.sub(r\"[-()\\\"#/@;:<>{}=~|.?,]\", \"\", text)# TODO: replace *, ?, ... by spaces\n",
    "        \n",
    "        return text.strip()\n",
    "    \n",
    "    # In case there is no text\n",
    "    return \"\"\n",
    "\n",
    "def split_text_and_numbers(text):\n",
    "    return text\n",
    "\n",
    "def remove_alone_numbers(text):\n",
    "    if text:\n",
    "        return re.sub(r'\\d', '', text)# TODO: keep only text\n",
    "        \n",
    "        #return text\n",
    "    \n",
    "    return \"\"\n",
    "\n",
    "def clean_text(text):\n",
    "    # Apply the different functions in order to clean the text\n",
    "    text = text_to_lower_case(text)\n",
    "    text = remove_text_marks(text)\n",
    "    text = remove_punctuation_marks(text)\n",
    "    text = remove_accents(text)\n",
    "    text = remove_emojis(text)\n",
    "    text = split_text_and_numbers(text)\n",
    "    text = remove_alone_numbers(text)\n",
    "    text = remove_multiple_whitespaces(text)\n",
    "    \n",
    "    # Return\n",
    "    return text"
   ]
  },
  {
   "cell_type": "code",
   "execution_count": 26,
   "metadata": {
    "executionInfo": {
     "elapsed": 7193,
     "status": "ok",
     "timestamp": 1607702318637,
     "user": {
      "displayName": "ARAN COLL",
      "photoUrl": "",
      "userId": "03516064002169547289"
     },
     "user_tz": -60
    },
    "id": "O04v4lYsIY5j"
   },
   "outputs": [],
   "source": [
    "data['Text_Clean'] = data.Text.apply(lambda text: clean_text(text))"
   ]
  },
  {
   "cell_type": "code",
   "execution_count": 27,
   "metadata": {
    "colab": {
     "base_uri": "https://localhost:8080/"
    },
    "executionInfo": {
     "elapsed": 7189,
     "status": "ok",
     "timestamp": 1607702318638,
     "user": {
      "displayName": "ARAN COLL",
      "photoUrl": "",
      "userId": "03516064002169547289"
     },
     "user_tz": -60
    },
    "id": "Bh2TLeXuIY5j",
    "outputId": "c97e77bd-660d-4da1-a920-9f80d3b6645f"
   },
   "outputs": [
    {
     "data": {
      "text/plain": [
       "array([['M writing this review after using for almost 7 months , now it has stopped working n have mailed my concern to JBL as it had 1 year of warranty but believe me nobody is ready to reslove or respond to my query, wastey my money on this just because of brand value totally disappointed\\n',\n",
       "        'm writing this review after using for almost months now it has stopped working n have mailed my concern to jbl as it had year of warranty but believe me nobody is ready to reslove or respond to my query wastey my money on this just because of brand value totally disappointed']],\n",
       "      dtype=object)"
      ]
     },
     "execution_count": 27,
     "metadata": {
      "tags": []
     },
     "output_type": "execute_result"
    }
   ],
   "source": [
    "data[[\"Text\", \"Text_Clean\"]].tail(1).values"
   ]
  },
  {
   "cell_type": "markdown",
   "metadata": {
    "id": "adViOS_9IY5k"
   },
   "source": [
    "### **1.2.2 EDA in text**\n",
    "\n",
    "- **Book**: [Natural Language Processing with Python](https://www.nltk.org/book/)\n",
    "\n",
    "Once text is cleaned we can apply the EDA to it. To this step I highly recommend you to use the book indicated above, which will provides you a great guideline about how to work with text.\n",
    "\n",
    "#### **1.2.2.1 Converting to nltk.Text** \n",
    "\n",
    "In order to be able to take the most of NLTK power, we must firstly convert the text into [nltk.Text](https://www.kite.com/python/docs/nltk.Text) objects. In order to do this, nltk needs to receive a list of tokens (smallest piece of text -- a word).\n",
    "\n",
    "**[EX 4]** \n",
    "\n",
    "Fill up the function *convert_to_nltk_text* where is marked with TODO.\n",
    "\n",
    "**Solution**"
   ]
  },
  {
   "cell_type": "code",
   "execution_count": 28,
   "metadata": {
    "executionInfo": {
     "elapsed": 7185,
     "status": "ok",
     "timestamp": 1607702318639,
     "user": {
      "displayName": "ARAN COLL",
      "photoUrl": "",
      "userId": "03516064002169547289"
     },
     "user_tz": -60
    },
    "id": "KPJiOOgmIY5k"
   },
   "outputs": [],
   "source": [
    "def convert_to_nltk_text(data, \n",
    "                         text_field):\n",
    "    # List that will store tokens\n",
    "    tokens = []\n",
    "    \n",
    "    # TODO: Fill up the tokens list with the text comming from data[text_field] \n",
    "    for i in data[text_field].values:\n",
    "          tokens.extend(i.split(\" \"))\n",
    "    \n",
    "    # Return nltk.Text object\n",
    "    return nltk.Text(tokens)"
   ]
  },
  {
   "cell_type": "code",
   "execution_count": 29,
   "metadata": {
    "executionInfo": {
     "elapsed": 7180,
     "status": "ok",
     "timestamp": 1607702318639,
     "user": {
      "displayName": "ARAN COLL",
      "photoUrl": "",
      "userId": "03516064002169547289"
     },
     "user_tz": -60
    },
    "id": "Z-jZLDxoIY5k"
   },
   "outputs": [],
   "source": [
    "# Get the nltk.Text object\n",
    "nltk_text = convert_to_nltk_text(data, \"Text_Clean\")"
   ]
  },
  {
   "cell_type": "markdown",
   "metadata": {
    "id": "8rOpxpX5IY5k"
   },
   "source": [
    "The nltk.Text object is mainly composed by tokens. If you want to see them you can just type nltk_text.tokens and have a look."
   ]
  },
  {
   "cell_type": "code",
   "execution_count": 30,
   "metadata": {
    "colab": {
     "base_uri": "https://localhost:8080/"
    },
    "executionInfo": {
     "elapsed": 7176,
     "status": "ok",
     "timestamp": 1607702318640,
     "user": {
      "displayName": "ARAN COLL",
      "photoUrl": "",
      "userId": "03516064002169547289"
     },
     "user_tz": -60
    },
    "id": "4e7l3zkcIY5l",
    "outputId": "eea901a3-d268-4d3b-f0d0-06977429f878"
   },
   "outputs": [
    {
     "data": {
      "text/plain": [
       "['no',\n",
       " 'doubt',\n",
       " 'it',\n",
       " 'has',\n",
       " 'a',\n",
       " 'great',\n",
       " 'bass',\n",
       " 'and',\n",
       " 'to',\n",
       " 'a',\n",
       " 'great',\n",
       " 'extent',\n",
       " 'noise',\n",
       " 'cancellation',\n",
       " 'and',\n",
       " 'decent',\n",
       " 'sound',\n",
       " 'clarity',\n",
       " 'and',\n",
       " 'mindblowing']"
      ]
     },
     "execution_count": 30,
     "metadata": {
      "tags": []
     },
     "output_type": "execute_result"
    }
   ],
   "source": [
    "nltk_text.tokens[:20]  # Show only 20. Increase it if you want to"
   ]
  },
  {
   "cell_type": "markdown",
   "metadata": {
    "id": "--e1fpMgIY5l"
   },
   "source": [
    "#### **1.2.2.2 Frequency distributions** \n",
    "\n",
    "Tells us the frequency of each vocabulary item in the text. This is very important when working with text because it tells you the main words of a given set of texts; really usefull when trying to detect the main topics why customers are unsatisfied."
   ]
  },
  {
   "cell_type": "code",
   "execution_count": 31,
   "metadata": {
    "colab": {
     "base_uri": "https://localhost:8080/"
    },
    "executionInfo": {
     "elapsed": 7171,
     "status": "ok",
     "timestamp": 1607702318640,
     "user": {
      "displayName": "ARAN COLL",
      "photoUrl": "",
      "userId": "03516064002169547289"
     },
     "user_tz": -60
    },
    "id": "SHeL5_ziIY5l",
    "jupyter": {
     "outputs_hidden": false
    },
    "outputId": "40ba61a1-bd74-4a1e-ddcd-904fc7361665"
   },
   "outputs": [
    {
     "data": {
      "text/plain": [
       "['no',\n",
       " 'doubt',\n",
       " 'it',\n",
       " 'has',\n",
       " 'a',\n",
       " 'great',\n",
       " 'bass',\n",
       " 'and',\n",
       " 'to',\n",
       " 'extent',\n",
       " 'noise',\n",
       " 'cancellation',\n",
       " 'decent',\n",
       " 'sound',\n",
       " 'clarity',\n",
       " 'mindblowing',\n",
       " 'battery',\n",
       " 'but',\n",
       " 'the',\n",
       " 'following',\n",
       " 'dissapointed',\n",
       " 'me',\n",
       " 'though',\n",
       " 'i',\n",
       " 'tried',\n",
       " 'lot',\n",
       " 'adjustbluetooth',\n",
       " 'range',\n",
       " 'not',\n",
       " 'more',\n",
       " 'than',\n",
       " 'm',\n",
       " 'pain',\n",
       " 'in',\n",
       " 'ear',\n",
       " 'due',\n",
       " 'conical',\n",
       " 'budscan',\n",
       " 'be',\n",
       " 'removed',\n",
       " 'wires',\n",
       " 'are',\n",
       " 'bit',\n",
       " 'long',\n",
       " 'which',\n",
       " 'makes',\n",
       " 'odd',\n",
       " 'front',\n",
       " 'pouch',\n",
       " 'provided']"
      ]
     },
     "execution_count": 31,
     "metadata": {
      "tags": []
     },
     "output_type": "execute_result"
    }
   ],
   "source": [
    "# Get the dictionary with frequencies\n",
    "freq_dist = nltk.FreqDist(nltk_text)\n",
    "\n",
    "# Shows 50 first words in frequency \n",
    "list(freq_dist.keys())[:50]"
   ]
  },
  {
   "cell_type": "markdown",
   "metadata": {
    "id": "_VisW0IbIY5m"
   },
   "source": [
    "Moreover, the FreqDist object allows you to plot the distribution as well, in terms of cumulative and no cumulative counts"
   ]
  },
  {
   "cell_type": "markdown",
   "metadata": {
    "id": "ci1OjK_vIY5m"
   },
   "source": [
    "- **No cumulative**: Determines the number of times a word appears on text"
   ]
  },
  {
   "cell_type": "code",
   "execution_count": 32,
   "metadata": {
    "colab": {
     "base_uri": "https://localhost:8080/",
     "height": 648
    },
    "executionInfo": {
     "elapsed": 8092,
     "status": "ok",
     "timestamp": 1607702319566,
     "user": {
      "displayName": "ARAN COLL",
      "photoUrl": "",
      "userId": "03516064002169547289"
     },
     "user_tz": -60
    },
    "id": "0gHWJwUnIY5m",
    "jupyter": {
     "outputs_hidden": false
    },
    "outputId": "c4856865-cce5-4797-d461-acb1d253247e"
   },
   "outputs": [
    {
     "data": {
      "image/png": "[encoded data removed]",
      "text/plain": [
       "<Figure size 1152x720 with 1 Axes>"
      ]
     },
     "metadata": {
      "needs_background": "light",
      "tags": []
     },
     "output_type": "display_data"
    }
   ],
   "source": [
    "plt.figure(figsize = (16, 10))\n",
    "freq_dist.plot(50)"
   ]
  },
  {
   "cell_type": "markdown",
   "metadata": {
    "id": "XUWJ89tCIY5m"
   },
   "source": [
    "- **Cumulative**: Determine the proportion that represents these words within the whole text. "
   ]
  },
  {
   "cell_type": "code",
   "execution_count": 33,
   "metadata": {
    "colab": {
     "base_uri": "https://localhost:8080/",
     "height": 648
    },
    "executionInfo": {
     "elapsed": 9091,
     "status": "ok",
     "timestamp": 1607702320570,
     "user": {
      "displayName": "ARAN COLL",
      "photoUrl": "",
      "userId": "03516064002169547289"
     },
     "user_tz": -60
    },
    "id": "x2Eauv2jIY5m",
    "jupyter": {
     "outputs_hidden": false
    },
    "outputId": "98556b87-4b23-4423-9fd2-64f2209c1f61"
   },
   "outputs": [
    {
     "data": {
      "image/png": "[encoded data removed]",
      "text/plain": [
       "<Figure size 1152x720 with 1 Axes>"
      ]
     },
     "metadata": {
      "needs_background": "light",
      "tags": []
     },
     "output_type": "display_data"
    }
   ],
   "source": [
    "plt.figure(figsize = (16, 10))\n",
    "freq_dist.plot(50, cumulative = True)"
   ]
  },
  {
   "cell_type": "markdown",
   "metadata": {
    "id": "OOoaAVhSIY5n"
   },
   "source": [
    "**[EX 5]**\n",
    "\n",
    "From the information shown above (plots and list), what do you appreciate? Are the most important words meaningful words? Explain your comments bellow\n",
    "\n",
    "**Solution**"
   ]
  },
  {
   "cell_type": "code",
   "execution_count": 34,
   "metadata": {
    "colab": {
     "base_uri": "https://localhost:8080/"
    },
    "executionInfo": {
     "elapsed": 9087,
     "status": "ok",
     "timestamp": 1607702320573,
     "user": {
      "displayName": "ARAN COLL",
      "photoUrl": "",
      "userId": "03516064002169547289"
     },
     "user_tz": -60
    },
    "id": "QnesYNXlIY5n",
    "outputId": "bbe41860-e4c0-4631-a17f-6aa79ad142fe"
   },
   "outputs": [
    {
     "name": "stdout",
     "output_type": "stream",
     "text": [
      "From the information shown above, we appreciate that the most important words are stop words that have not any meaning by themselves (determinants, conjunctions, ...) . \n"
     ]
    }
   ],
   "source": [
    "print('From the information shown above, we appreciate that the most important words are stop words that have not any meaning by themselves (determinants, conjunctions, ...) . ')"
   ]
  },
  {
   "cell_type": "markdown",
   "metadata": {
    "id": "OXKfwCPOIY5n"
   },
   "source": [
    "There are many stop words (meaningless words -- determinants, pronouns, ...) that must be removed. Moreover, there are not that much amount of verbs, but those we have are in different forms (be -> is, are, was ...)"
   ]
  },
  {
   "cell_type": "markdown",
   "metadata": {
    "id": "uQ-5OYIgIY5n"
   },
   "source": [
    "#### **1.2.2.3 Standardizing the text**\n",
    "\n",
    "Once the EDA is performed, the following step is to standardize the text. This step is done by removing the stop words (meaningless words, such us determinants and pronouns) and lemmatizing.\n",
    "\n",
    "**Lemmatizing**\n",
    "\n",
    "*Lemmatizing text* means to remove inflectional endings only and to return the base or dictionary form of a word, which is known as the lemma. For example, imagine the same sentence as before. Therefore, after lemmatizing the sentence we would get *[my, dog, be, white, yours, black]*\n",
    "\n",
    "**Stop words**\n",
    "\n",
    "*Stop words* are those words that does not have any meaning for us when processing text, such as *the, a, of ...*. They must be removed from the text/tokens list. \n",
    "\n",
    "[**EX 6**] \n",
    "\n",
    "Fill up the following functions (where it is marked with TODO) in order to build up a function that standardize the text. You will notice that there is a function that returns the tokens for a given text. The reason behind is that now, at this moment, I want you to use nltk.Text objects to be able to plot different graphics and explore the EDA using NLTK. But after you have learnt and check the EDA you did, the next step is to be able to do the same but using the text you have in your Pandas DataFrame."
   ]
  },
  {
   "cell_type": "markdown",
   "metadata": {
    "id": "Uh8C3rltIY5n"
   },
   "source": [
    "**Solution**"
   ]
  },
  {
   "cell_type": "code",
   "execution_count": 35,
   "metadata": {
    "colab": {
     "base_uri": "https://localhost:8080/"
    },
    "executionInfo": {
     "elapsed": 9085,
     "status": "ok",
     "timestamp": 1607702320576,
     "user": {
      "displayName": "ARAN COLL",
      "photoUrl": "",
      "userId": "03516064002169547289"
     },
     "user_tz": -60
    },
    "id": "_SN_5vyAIY5o",
    "outputId": "7a5d45dc-22f6-47b4-da7c-92a4979445d4"
   },
   "outputs": [
    {
     "name": "stdout",
     "output_type": "stream",
     "text": [
      "[nltk_data] Downloading package stopwords to /root/nltk_data...\n",
      "[nltk_data]   Unzipping corpora/stopwords.zip.\n"
     ]
    },
    {
     "data": {
      "text/plain": [
       "True"
      ]
     },
     "execution_count": 35,
     "metadata": {
      "tags": []
     },
     "output_type": "execute_result"
    }
   ],
   "source": [
    "import nltk\n",
    "nltk.download('stopwords')"
   ]
  },
  {
   "cell_type": "code",
   "execution_count": 36,
   "metadata": {
    "executionInfo": {
     "elapsed": 9080,
     "status": "ok",
     "timestamp": 1607702320577,
     "user": {
      "displayName": "ARAN COLL",
      "photoUrl": "",
      "userId": "03516064002169547289"
     },
     "user_tz": -60
    },
    "id": "vfa5cfn2IY5o"
   },
   "outputs": [],
   "source": [
    "def get_tokens(text):\n",
    "    # Get the tokens\n",
    "    if isinstance(text, nltk.Text):\n",
    "        tokens = text.tokens\n",
    "    else:\n",
    "        tokens = text.split(\" \")\n",
    "        \n",
    "    return tokens\n",
    "\n",
    "def remove_stopwords(text, language):\n",
    "    # Import stopwords\n",
    "    from nltk.corpus import stopwords\n",
    "    \n",
    "    # Get stop words for the given language\n",
    "    stopwords_list = stopwords.words(language)\n",
    "    \n",
    "    # Get the tokens\n",
    "    tokens = get_tokens(text)\n",
    "        \n",
    "    # TODO: Remove the words from the text (tip: check the nltk.Text object and stopwords in NLTK)\n",
    "    cleaned_text = []\n",
    "    for word in tokens:\n",
    "        if word not in stopwords_list:\n",
    "            cleaned_text.append(word)\n",
    "    \n",
    "    # Return cleaned text\n",
    "    if isinstance(text, nltk.Text):\n",
    "        output = nltk.Text(cleaned_text)\n",
    "    else:\n",
    "        output = \" \".join(cleaned_text)\n",
    "    \n",
    "    return output\n",
    "\n",
    "def stem_text(text,\n",
    "              language):\n",
    "    # TODO: Create the stemmer (tip: see the class nltk.stem)\n",
    "    stemmer = stemmers.SnowballStemmer(language)\n",
    "    \n",
    "    # Get the tokens\n",
    "    tokens = get_tokens(text)\n",
    "    \n",
    "    # TODO: Stem each token in text object\n",
    "    stemmas = []\n",
    "    for word in tokens: \n",
    "        stemmas.append(stemmer.stem(word))\n",
    "    \n",
    "    # Return stemmed text\n",
    "    if isinstance(text, nltk.Text):\n",
    "        output = nltk.Text(stemmas)\n",
    "    else:\n",
    "        output = \" \".join(stemmas)\n",
    "    \n",
    "    return output\n",
    "\n",
    "def standardize_text(text,\n",
    "                     language):\n",
    "    # Remove the stop words\n",
    "    standardized_text = remove_stopwords(text, language)\n",
    "    \n",
    "    # Stem the text\n",
    "    standardized_text = stem_text(standardized_text, language)\n",
    "    \n",
    "    # Return\n",
    "    return standardized_text"
   ]
  },
  {
   "cell_type": "markdown",
   "metadata": {
    "id": "hYE8GNQKIY5p"
   },
   "source": [
    "Apply the standardization over the nltk.Text and pd.DataFrame objects"
   ]
  },
  {
   "cell_type": "code",
   "execution_count": 37,
   "metadata": {
    "executionInfo": {
     "elapsed": 16403,
     "status": "ok",
     "timestamp": 1607702327905,
     "user": {
      "displayName": "ARAN COLL",
      "photoUrl": "",
      "userId": "03516064002169547289"
     },
     "user_tz": -60
    },
    "id": "vvmiKB47IY5p"
   },
   "outputs": [],
   "source": [
    "standardized_nltk_text = standardize_text(nltk_text, \"english\")\n",
    "data['Standardized_Text'] = data.Text_Clean.apply(lambda text: standardize_text(text, \"english\"))"
   ]
  },
  {
   "cell_type": "code",
   "execution_count": 38,
   "metadata": {
    "colab": {
     "base_uri": "https://localhost:8080/",
     "height": 194
    },
    "executionInfo": {
     "elapsed": 16401,
     "status": "ok",
     "timestamp": 1607702327909,
     "user": {
      "displayName": "ARAN COLL",
      "photoUrl": "",
      "userId": "03516064002169547289"
     },
     "user_tz": -60
    },
    "id": "zs1N5ZyOIY5p",
    "outputId": "73ca432d-b4fa-44a9-a4d9-15b424956a92"
   },
   "outputs": [
    {
     "data": {
      "text/html": [
       "<div>\n",
       "<style scoped>\n",
       "    .dataframe tbody tr th:only-of-type {\n",
       "        vertical-align: middle;\n",
       "    }\n",
       "\n",
       "    .dataframe tbody tr th {\n",
       "        vertical-align: top;\n",
       "    }\n",
       "\n",
       "    .dataframe thead th {\n",
       "        text-align: right;\n",
       "    }\n",
       "</style>\n",
       "<table border=\"1\" class=\"dataframe\">\n",
       "  <thead>\n",
       "    <tr style=\"text-align: right;\">\n",
       "      <th></th>\n",
       "      <th>Product</th>\n",
       "      <th>Price</th>\n",
       "      <th>Text</th>\n",
       "      <th>Star</th>\n",
       "      <th>id</th>\n",
       "      <th>Text_Clean</th>\n",
       "      <th>Standardized_Text</th>\n",
       "    </tr>\n",
       "  </thead>\n",
       "  <tbody>\n",
       "    <tr>\n",
       "      <th>0</th>\n",
       "      <td>boAt Rockerz 255</td>\n",
       "      <td>1399</td>\n",
       "      <td>No doubt it has a great bass and to a great ex...</td>\n",
       "      <td>3</td>\n",
       "      <td>0</td>\n",
       "      <td>no doubt it has a great bass and to a great ex...</td>\n",
       "      <td>doubt great bass great extent nois cancel dece...</td>\n",
       "    </tr>\n",
       "    <tr>\n",
       "      <th>1</th>\n",
       "      <td>boAt Rockerz 255</td>\n",
       "      <td>1399</td>\n",
       "      <td>This  earphones are unreliable, i bought it be...</td>\n",
       "      <td>1</td>\n",
       "      <td>1</td>\n",
       "      <td>this earphones are unreliable i bought it befo...</td>\n",
       "      <td>earphon unreli bought day meanwhil right side ...</td>\n",
       "    </tr>\n",
       "    <tr>\n",
       "      <th>2</th>\n",
       "      <td>boAt Rockerz 255</td>\n",
       "      <td>1399</td>\n",
       "      <td>i bought itfor 999,I purchased it second time,...</td>\n",
       "      <td>4</td>\n",
       "      <td>2</td>\n",
       "      <td>i bought itfor i purchased it second time gift...</td>\n",
       "      <td>bought itfor purchas second time gift first on...</td>\n",
       "    </tr>\n",
       "    <tr>\n",
       "      <th>3</th>\n",
       "      <td>boAt Rockerz 255</td>\n",
       "      <td>1399</td>\n",
       "      <td>Its sound quality is adorable. overall it was ...</td>\n",
       "      <td>1</td>\n",
       "      <td>3</td>\n",
       "      <td>its sound quality is adorable overall it was g...</td>\n",
       "      <td>sound qualiti ador overal good week stop work ...</td>\n",
       "    </tr>\n",
       "    <tr>\n",
       "      <th>4</th>\n",
       "      <td>boAt Rockerz 255</td>\n",
       "      <td>1399</td>\n",
       "      <td>Its Awesome... Good sound quality &amp; 8-9 hrs ba...</td>\n",
       "      <td>5</td>\n",
       "      <td>4</td>\n",
       "      <td>its awesome good sound quality hrs battery lif...</td>\n",
       "      <td>awesom good sound qualiti hrs batteri life waw...</td>\n",
       "    </tr>\n",
       "  </tbody>\n",
       "</table>\n",
       "</div>"
      ],
      "text/plain": [
       "            Product  Price                                               Text  \\\n",
       "0  boAt Rockerz 255   1399  No doubt it has a great bass and to a great ex...   \n",
       "1  boAt Rockerz 255   1399  This  earphones are unreliable, i bought it be...   \n",
       "2  boAt Rockerz 255   1399  i bought itfor 999,I purchased it second time,...   \n",
       "3  boAt Rockerz 255   1399  Its sound quality is adorable. overall it was ...   \n",
       "4  boAt Rockerz 255   1399  Its Awesome... Good sound quality & 8-9 hrs ba...   \n",
       "\n",
       "   Star  id                                         Text_Clean  \\\n",
       "0     3   0  no doubt it has a great bass and to a great ex...   \n",
       "1     1   1  this earphones are unreliable i bought it befo...   \n",
       "2     4   2  i bought itfor i purchased it second time gift...   \n",
       "3     1   3  its sound quality is adorable overall it was g...   \n",
       "4     5   4  its awesome good sound quality hrs battery lif...   \n",
       "\n",
       "                                   Standardized_Text  \n",
       "0  doubt great bass great extent nois cancel dece...  \n",
       "1  earphon unreli bought day meanwhil right side ...  \n",
       "2  bought itfor purchas second time gift first on...  \n",
       "3  sound qualiti ador overal good week stop work ...  \n",
       "4  awesom good sound qualiti hrs batteri life waw...  "
      ]
     },
     "execution_count": 38,
     "metadata": {
      "tags": []
     },
     "output_type": "execute_result"
    }
   ],
   "source": [
    "data.head()"
   ]
  },
  {
   "cell_type": "markdown",
   "metadata": {
    "id": "gOYV3Bs8IY5p"
   },
   "source": [
    "**[EX 7]**\n",
    "\n",
    "Plot the frequency distribution for the standardized text and explain the differences you appreciate between this one and the one you did with the *dirty* text"
   ]
  },
  {
   "cell_type": "markdown",
   "metadata": {
    "id": "SELlYNd5IY5p"
   },
   "source": [
    "**Solution**"
   ]
  },
  {
   "cell_type": "code",
   "execution_count": 39,
   "metadata": {
    "colab": {
     "base_uri": "https://localhost:8080/",
     "height": 646
    },
    "executionInfo": {
     "elapsed": 16398,
     "status": "ok",
     "timestamp": 1607702327911,
     "user": {
      "displayName": "ARAN COLL",
      "photoUrl": "",
      "userId": "03516064002169547289"
     },
     "user_tz": -60
    },
    "id": "Rsr4YG7oIY5q",
    "outputId": "14ecdeed-4cdd-4175-e497-187b2da4cbe7"
   },
   "outputs": [
    {
     "data": {
      "image/png": "[encoded data removed]",
      "text/plain": [
       "<Figure size 1152x720 with 1 Axes>"
      ]
     },
     "metadata": {
      "needs_background": "light",
      "tags": []
     },
     "output_type": "display_data"
    }
   ],
   "source": [
    "plt.figure(figsize = (16, 10))\n",
    "nltk.FreqDist(standardized_nltk_text).plot(50)"
   ]
  },
  {
   "cell_type": "markdown",
   "metadata": {
    "id": "gbPdhzWRIY5q"
   },
   "source": [
    "We can appreciate that there are no meaningless words, and the ones we kept are the ones that indicates why people is satisfied/unsatisfied with the product"
   ]
  },
  {
   "cell_type": "markdown",
   "metadata": {
    "id": "1mCy7LR8IY5q"
   },
   "source": [
    "#### **1.2.2.4 Extracting the most important words and their context**\n",
    "\n",
    "One really powerfull tool when analizing text is to extract which are the most important words (main topics), due to this information will let us to know what our customer, mainly, thinks about our products. In case our product is good and customers like it, then the hypothesis is that the main words that they will use are positive words (good, fine, awesome, like ...). And in the opposite case, if customers are unsatisfied with the product, the main words should be negative words (awful, bad, ...).\n",
    "\n",
    "However, the main word itself does not provide a full description of what it happening. Therefore, you will need to describe the context in which the main word was used for. The words that describe the context of a given main words are called _related words_\n",
    "\n",
    "The way in which this is done using NLTK is by means of the Frequency Distribution object. This object provides an access to a Python tuple by its parameter *most_common*, which is composed by (word, word count)\n",
    "\n",
    "For example, if you want to know the top-50 most common words you should do the following "
   ]
  },
  {
   "cell_type": "code",
   "execution_count": 40,
   "metadata": {
    "colab": {
     "base_uri": "https://localhost:8080/"
    },
    "executionInfo": {
     "elapsed": 16394,
     "status": "ok",
     "timestamp": 1607702327912,
     "user": {
      "displayName": "ARAN COLL",
      "photoUrl": "",
      "userId": "03516064002169547289"
     },
     "user_tz": -60
    },
    "id": "7STh1HUoIY5q",
    "outputId": "095424c5-f11a-4b15-de7d-8af7e1168592"
   },
   "outputs": [
    {
     "data": {
      "text/plain": [
       "[('good', 6120),\n",
       " ('sound', 5546),\n",
       " ('qualiti', 5330),\n",
       " ('product', 4359),\n",
       " ('bass', 2411),\n",
       " ('earphon', 2314),\n",
       " ('use', 2235),\n",
       " ('work', 1795),\n",
       " ('one', 1724),\n",
       " ('batteri', 1700),\n",
       " ('price', 1450),\n",
       " ('ear', 1332),\n",
       " ('best', 1211),\n",
       " ('buy', 1150),\n",
       " ('great', 1096),\n",
       " ('awesom', 1063),\n",
       " ('also', 1062),\n",
       " ('month', 1038),\n",
       " ('headphon', 994),\n",
       " ('nois', 960),\n",
       " ('nice', 949),\n",
       " ('like', 916),\n",
       " ('music', 865),\n",
       " ('life', 819),\n",
       " ('get', 801),\n",
       " ('cancel', 790),\n",
       " ('call', 788),\n",
       " ('wire', 764),\n",
       " ('go', 758),\n",
       " ('better', 754),\n",
       " ('connect', 745),\n",
       " ('time', 733),\n",
       " ('bluetooth', 719),\n",
       " ('day', 713),\n",
       " ('dont', 713),\n",
       " ('realli', 706),\n",
       " ('money', 675),\n",
       " ('got', 673),\n",
       " ('phone', 664),\n",
       " ('rang', 642),\n",
       " ('worth', 635),\n",
       " ('even', 622),\n",
       " ('excel', 576),\n",
       " ('jbl', 575),\n",
       " ('stop', 570),\n",
       " ('mic', 565),\n",
       " ('boat', 546),\n",
       " ('expect', 539),\n",
       " ('much', 528),\n",
       " ('amaz', 525)]"
      ]
     },
     "execution_count": 40,
     "metadata": {
      "tags": []
     },
     "output_type": "execute_result"
    }
   ],
   "source": [
    "nltk.FreqDist(standardized_nltk_text).most_common(50)"
   ]
  },
  {
   "cell_type": "markdown",
   "metadata": {
    "id": "T9mwS-WxIY5r"
   },
   "source": [
    "Regarding to the context, NLTK provides a function called *concordance* that shows every occurence of a given word, together with some context. So, for example, if you want to know the context in which *good* was used, then you should the following"
   ]
  },
  {
   "cell_type": "code",
   "execution_count": 41,
   "metadata": {
    "colab": {
     "base_uri": "https://localhost:8080/"
    },
    "executionInfo": {
     "elapsed": 16960,
     "status": "ok",
     "timestamp": 1607702328483,
     "user": {
      "displayName": "ARAN COLL",
      "photoUrl": "",
      "userId": "03516064002169547289"
     },
     "user_tz": -60
    },
    "id": "Kg_yq4O0IY5r",
    "outputId": "e0c8ab47-d446-4b70-874f-faec11d4dcd8"
   },
   "outputs": [
    {
     "name": "stdout",
     "output_type": "stream",
     "text": [
      "Displaying 25 of 6120 matches:\n",
      "vid two part sound qualiti also much good ok one thing bass good boat earphone\n",
      "iti also much good ok one thing bass good boat earphonesguysalso proof attach \n",
      "t call switch mobilethi switch devic good price awesomebatteri stand hour use \n",
      "omfort ear sound qualiti ador overal good week stop work sinc never power clai\n",
      " claim warrenti still undergo awesom good sound qualiti hrs batteri life waww \n",
      " qualitybatteri life earphon qualiti good strong magnet lock strap good qualit\n",
      "ualiti good strong magnet lock strap good qualiti earphon wire good button qua\n",
      "lock strap good qualiti earphon wire good button qualiti good sound full punch\n",
      "iti earphon wire good button qualiti good sound full punchi bass balanc trebl \n",
      "chi bass balanc trebl sorrund effect good fit ear hope connect good bcz last b\n",
      "und effect good fit ear hope connect good bcz last boat bluetooth basshead con\n",
      "connect issu worth price hope packag good bubbl wrap one month usag review pro\n",
      "maz perfect music lover batteri life good enough keep go day fact connect lapt\n",
      "t site replac warranti sound qualiti good mean can't compar senheis bose worth\n",
      "hon im obvious audiophil know differ good sound nois concern found wire hang l\n",
      "sterday eveningsound qualiti perfect good combin bass trebl feel everi beatcon\n",
      "ck detect connect easilybatteri life good stay around hrsas receiv yesterday e\n",
      "goodearphon look solid build qualiti good magnat realli help hold earphon earp\n",
      "chnic problembut overal perform nice good experi sound bass qualiti good batte\n",
      " nice good experi sound bass qualiti good batteri life good nois cancel good w\n",
      "sound bass qualiti good batteri life good nois cancel good wire long uncomfort\n",
      "i good batteri life good nois cancel good wire long uncomfort look good wire s\n",
      "cancel good wire long uncomfort look good wire start top look bad anyway every\n",
      "p look bad anyway everyth ok product good buy look decent bluetooth earphon re\n",
      "phon reput brandsound qualiti pretti good good amount bassdur materi seem dura\n"
     ]
    }
   ],
   "source": [
    "standardized_nltk_text.concordance(\"good\")"
   ]
  },
  {
   "cell_type": "markdown",
   "metadata": {
    "id": "MCK_aPl-IY5r"
   },
   "source": [
    "But, as you could appreciate, this function only print information, so it is only used to display, not to process and get results. And, moreover, it is not readable/understandable which is the real context if we use the standardized text. In order to know it, this step must be performed over the original text, because after processing we know which is the most common word but at the same time we have removed information from text."
   ]
  },
  {
   "cell_type": "code",
   "execution_count": 42,
   "metadata": {
    "colab": {
     "base_uri": "https://localhost:8080/"
    },
    "executionInfo": {
     "elapsed": 16958,
     "status": "ok",
     "timestamp": 1607702328486,
     "user": {
      "displayName": "ARAN COLL",
      "photoUrl": "",
      "userId": "03516064002169547289"
     },
     "user_tz": -60
    },
    "id": "B6Z74V0_IY5r",
    "outputId": "a8a7433c-9494-40fa-fb08-94223bf8802c"
   },
   "outputs": [
    {
     "name": "stdout",
     "output_type": "stream",
     "text": [
      "Displaying 25 of 6118 matches:\n",
      " sound quality is also not that much good but ok one more thing bass is not go\n",
      "od but ok one more thing bass is not good as it is a boat earphonesguysalso fo\n",
      "ilethis switch between device is not good but again in this price its awesomeb\n",
      "d quality is adorable overall it was good but just for weeks after that it sto\n",
      "d it is still undergoing its awesome good sound quality hrs battery life just \n",
      "itybattery life earphones quality is good with strong magnetic lock straps is \n",
      " with strong magnetic lock straps is good quality and the earphones wires are \n",
      "lity and the earphones wires are too good buttons quality is good sound is ful\n",
      "ires are too good buttons quality is good sound is full of punchy bass and and\n",
      "lanced treble and has sorrund effect good fitting in ears hope connectivity is\n",
      "fitting in ears hope connectivity is good bcz my last boat bluetooth bassheads\n",
      "rth its price hope the packaging was good there was no bubble wrapping after o\n",
      "or a music lover the battery life is good enough to keep me going all day the \n",
      "nt and warranty the sound quality is good i mean it can't be compared with sen\n",
      " but i know the difference between a good sound and noise the only concern i f\n",
      "rday eveningsound quality is perfect good combination of bass and treble can f\n",
      "s and connects easilybattery life is good stayed around hrsas i received this \n",
      "rphones looks solid build quality is good the magnates are really helpful to h\n",
      "blembut overall performance was nice good experience this sound and bass quali\n",
      "ience this sound and bass quality is good battery life good noise cancelling i\n",
      "nd bass quality is good battery life good noise cancelling is good but its wir\n",
      "attery life good noise cancelling is good but its wire is too long and uncomfo\n",
      "d uncomfortable which is not looking good wire is starting from top its lookin\n",
      "ay everything is ok the product is a good buy if you are looking for a decent \n",
      " a reputed brandsound quality pretty good with good amount of bassdurability t\n"
     ]
    }
   ],
   "source": [
    "nltk_text.concordance(\"good\")"
   ]
  },
  {
   "cell_type": "markdown",
   "metadata": {
    "id": "74zeUKWPIY5r"
   },
   "source": [
    "### **1.2.3 Relating stars with sentiment**\n",
    "\n",
    "So far you have gotten a good understanding about what's going on with the text. In order to build up the sentimental analysis model, we need to transform *star* numbers into sentiments. To do this, we will match them as follows:\n",
    "\n",
    "- **Bad sentiment**: stars 1 and 2 --> bad\n",
    "- **Intermediate sentiment**: star 3 --> neutral\n",
    "- **Good sentiment**: stars 4 and 5 --> good\n",
    "\n",
    "[**EX 8**]\n",
    "\n",
    "Do the star-sentiment matching as explained above. Set this value into a new field named *Sentiment* and remove the *Star* field\n",
    "\n",
    "**Solution**"
   ]
  },
  {
   "cell_type": "code",
   "execution_count": 43,
   "metadata": {
    "executionInfo": {
     "elapsed": 16953,
     "status": "ok",
     "timestamp": 1607702328487,
     "user": {
      "displayName": "ARAN COLL",
      "photoUrl": "",
      "userId": "03516064002169547289"
     },
     "user_tz": -60
    },
    "id": "vqPXiUjhIY5s"
   },
   "outputs": [],
   "source": [
    "def star_sentiment_matching(value):\n",
    "    if value <= 2: \n",
    "        return 'bad'\n",
    "    elif value == 3: \n",
    "        return 'neutral'\n",
    "    else: \n",
    "        return 'good'   "
   ]
  },
  {
   "cell_type": "code",
   "execution_count": 44,
   "metadata": {
    "colab": {
     "base_uri": "https://localhost:8080/",
     "height": 194
    },
    "executionInfo": {
     "elapsed": 16951,
     "status": "ok",
     "timestamp": 1607702328490,
     "user": {
      "displayName": "ARAN COLL",
      "photoUrl": "",
      "userId": "03516064002169547289"
     },
     "user_tz": -60
    },
    "id": "r1QcYdQ0IY5s",
    "outputId": "8c0b99a2-eb94-4d78-e3f1-f84976ace5f1"
   },
   "outputs": [
    {
     "data": {
      "text/html": [
       "<div>\n",
       "<style scoped>\n",
       "    .dataframe tbody tr th:only-of-type {\n",
       "        vertical-align: middle;\n",
       "    }\n",
       "\n",
       "    .dataframe tbody tr th {\n",
       "        vertical-align: top;\n",
       "    }\n",
       "\n",
       "    .dataframe thead th {\n",
       "        text-align: right;\n",
       "    }\n",
       "</style>\n",
       "<table border=\"1\" class=\"dataframe\">\n",
       "  <thead>\n",
       "    <tr style=\"text-align: right;\">\n",
       "      <th></th>\n",
       "      <th>Product</th>\n",
       "      <th>Price</th>\n",
       "      <th>Text</th>\n",
       "      <th>id</th>\n",
       "      <th>Text_Clean</th>\n",
       "      <th>Standardized_Text</th>\n",
       "      <th>Sentiment</th>\n",
       "    </tr>\n",
       "  </thead>\n",
       "  <tbody>\n",
       "    <tr>\n",
       "      <th>0</th>\n",
       "      <td>boAt Rockerz 255</td>\n",
       "      <td>1399</td>\n",
       "      <td>No doubt it has a great bass and to a great ex...</td>\n",
       "      <td>0</td>\n",
       "      <td>no doubt it has a great bass and to a great ex...</td>\n",
       "      <td>doubt great bass great extent nois cancel dece...</td>\n",
       "      <td>neutral</td>\n",
       "    </tr>\n",
       "    <tr>\n",
       "      <th>1</th>\n",
       "      <td>boAt Rockerz 255</td>\n",
       "      <td>1399</td>\n",
       "      <td>This  earphones are unreliable, i bought it be...</td>\n",
       "      <td>1</td>\n",
       "      <td>this earphones are unreliable i bought it befo...</td>\n",
       "      <td>earphon unreli bought day meanwhil right side ...</td>\n",
       "      <td>bad</td>\n",
       "    </tr>\n",
       "    <tr>\n",
       "      <th>2</th>\n",
       "      <td>boAt Rockerz 255</td>\n",
       "      <td>1399</td>\n",
       "      <td>i bought itfor 999,I purchased it second time,...</td>\n",
       "      <td>2</td>\n",
       "      <td>i bought itfor i purchased it second time gift...</td>\n",
       "      <td>bought itfor purchas second time gift first on...</td>\n",
       "      <td>good</td>\n",
       "    </tr>\n",
       "    <tr>\n",
       "      <th>3</th>\n",
       "      <td>boAt Rockerz 255</td>\n",
       "      <td>1399</td>\n",
       "      <td>Its sound quality is adorable. overall it was ...</td>\n",
       "      <td>3</td>\n",
       "      <td>its sound quality is adorable overall it was g...</td>\n",
       "      <td>sound qualiti ador overal good week stop work ...</td>\n",
       "      <td>bad</td>\n",
       "    </tr>\n",
       "    <tr>\n",
       "      <th>4</th>\n",
       "      <td>boAt Rockerz 255</td>\n",
       "      <td>1399</td>\n",
       "      <td>Its Awesome... Good sound quality &amp; 8-9 hrs ba...</td>\n",
       "      <td>4</td>\n",
       "      <td>its awesome good sound quality hrs battery lif...</td>\n",
       "      <td>awesom good sound qualiti hrs batteri life waw...</td>\n",
       "      <td>good</td>\n",
       "    </tr>\n",
       "  </tbody>\n",
       "</table>\n",
       "</div>"
      ],
      "text/plain": [
       "            Product  Price                                               Text  \\\n",
       "0  boAt Rockerz 255   1399  No doubt it has a great bass and to a great ex...   \n",
       "1  boAt Rockerz 255   1399  This  earphones are unreliable, i bought it be...   \n",
       "2  boAt Rockerz 255   1399  i bought itfor 999,I purchased it second time,...   \n",
       "3  boAt Rockerz 255   1399  Its sound quality is adorable. overall it was ...   \n",
       "4  boAt Rockerz 255   1399  Its Awesome... Good sound quality & 8-9 hrs ba...   \n",
       "\n",
       "   id                                         Text_Clean  \\\n",
       "0   0  no doubt it has a great bass and to a great ex...   \n",
       "1   1  this earphones are unreliable i bought it befo...   \n",
       "2   2  i bought itfor i purchased it second time gift...   \n",
       "3   3  its sound quality is adorable overall it was g...   \n",
       "4   4  its awesome good sound quality hrs battery lif...   \n",
       "\n",
       "                                   Standardized_Text Sentiment  \n",
       "0  doubt great bass great extent nois cancel dece...   neutral  \n",
       "1  earphon unreli bought day meanwhil right side ...       bad  \n",
       "2  bought itfor purchas second time gift first on...      good  \n",
       "3  sound qualiti ador overal good week stop work ...       bad  \n",
       "4  awesom good sound qualiti hrs batteri life waw...      good  "
      ]
     },
     "execution_count": 44,
     "metadata": {
      "tags": []
     },
     "output_type": "execute_result"
    }
   ],
   "source": [
    "# Match the sentiment value\n",
    "data['Sentiment'] = data.Star.apply(lambda value: star_sentiment_matching(value))\n",
    "\n",
    "# Remove the star field\n",
    "data = data.drop(columns = [\"Star\"])\n",
    "data.head()"
   ]
  },
  {
   "cell_type": "markdown",
   "metadata": {
    "id": "U2r0lV7jIY5s"
   },
   "source": [
    "**[EX 9]**\n",
    "\n",
    "Plot the number of comments per sentiment and determine if the dataset is balanced or not\n",
    "\n",
    "**Solution**"
   ]
  },
  {
   "cell_type": "code",
   "execution_count": 45,
   "metadata": {
    "colab": {
     "base_uri": "https://localhost:8080/",
     "height": 313
    },
    "executionInfo": {
     "elapsed": 16948,
     "status": "ok",
     "timestamp": 1607702328491,
     "user": {
      "displayName": "ARAN COLL",
      "photoUrl": "",
      "userId": "03516064002169547289"
     },
     "user_tz": -60
    },
    "id": "sfFBmeLfIY5s",
    "outputId": "d4c89c13-84e7-40fc-9d42-a98bdc4b3ce8"
   },
   "outputs": [
    {
     "name": "stdout",
     "output_type": "stream",
     "text": [
      "AS we can observe, the dataset is unbalanced. There is much more good feedback, than both bad and neutral combined.\n"
     ]
    },
    {
     "data": {
      "image/png": "[encoded data removed]",
      "text/plain": [
       "<Figure size 432x288 with 1 Axes>"
      ]
     },
     "metadata": {
      "needs_background": "light",
      "tags": []
     },
     "output_type": "display_data"
    }
   ],
   "source": [
    "from collections import Counter\n",
    "sentiment_counter = Counter(data['Sentiment'])\n",
    "\n",
    "print(\"AS we can observe, the dataset is unbalanced. There is much more good feedback, than both bad and neutral combined.\")\n",
    "\n",
    "ax = sns.countplot(x=\"Sentiment\", data=data)\n",
    "plt.title('Sentiment bar plot')\n",
    "ratio_bad = round(sentiment_counter['bad']/(sentiment_counter['bad'] + sentiment_counter['neutral']+sentiment_counter['good']), 2) \n",
    "ratio_neutral = round(sentiment_counter['neutral']/(sentiment_counter['bad'] + sentiment_counter['neutral']+sentiment_counter['good']), 2)\n",
    "ratio_good = round(sentiment_counter['good']/(sentiment_counter['bad'] + sentiment_counter['neutral']+sentiment_counter['good']), 2)\n",
    "plt.text(1, sentiment_counter['bad'] + 50, str(ratio_bad) + '%')\n",
    "plt.text(0, sentiment_counter['neutral'] + 50, str(ratio_neutral) + '%')\n",
    "plt.text(2, sentiment_counter['good'] + 50, str(ratio_good) + '%')\n",
    "plt.show()"
   ]
  },
  {
   "cell_type": "markdown",
   "metadata": {
    "id": "3n68_K_lJmvB"
   },
   "source": [
    "# **2. Model Training: Building a sentimental analysis model**"
   ]
  },
  {
   "cell_type": "markdown",
   "metadata": {
    "id": "Y3CQ_oEBJmvC"
   },
   "source": [
    "Once the EDA is done, you are ready to build up the sentimental analysis model. The objective of this model is to be able to predict if a given customer is disgusted with our product, and in that case, be able to track its evolution and apply any business rule in order to avoid the churner ratio to increase.\n",
    "\n",
    "The model we are going to develop is based on [LSTMs](http://colah.github.io/posts/2015-08-Understanding-LSTMs/). It will take as input a given text and outputs the sentiment related to it. "
   ]
  },
  {
   "cell_type": "markdown",
   "metadata": {
    "id": "MBmCqoOvIY5t"
   },
   "source": [
    "### 2.1. Balancing the dataset \n",
    "\n",
    "**[EX 10]** \n",
    "\n",
    "Fill up the function *balance_dataset* (where is marked as TODO) in order to balance (or not) the dataset by keeping the same amount of data per class. The input parameters are:\n",
    "\n",
    "- dataset: dataset to be balanced\n",
    "- balance: flag that determines if the dataset must be balanced or not.\n",
    "- replace: flag that determines if random samples must be replaced when balancing\n",
    "\n",
    "**Solution**"
   ]
  },
  {
   "cell_type": "code",
   "execution_count": 46,
   "metadata": {
    "executionInfo": {
     "elapsed": 16943,
     "status": "ok",
     "timestamp": 1607702328492,
     "user": {
      "displayName": "ARAN COLL",
      "photoUrl": "",
      "userId": "03516064002169547289"
     },
     "user_tz": -60
    },
    "id": "AudoUsEzIY5t"
   },
   "outputs": [],
   "source": [
    "def balance_dataset(dataset: pd.DataFrame,\n",
    "                    sample_number: int,\n",
    "                    balance: bool = False,\n",
    "                    replace: bool = False):\n",
    "    \n",
    "    # TODO: implement the balancing process\n",
    "    if balance:\n",
    "        return dataset.groupby(\"Sentiment\", as_index=False).apply(lambda x: x.sample(n=sample_number, replace=replace))\n",
    "\n",
    "    return dataset\n",
    "    "
   ]
  },
  {
   "cell_type": "markdown",
   "metadata": {
    "id": "toqALk8QIY5t"
   },
   "source": [
    "Balance the dataset"
   ]
  },
  {
   "cell_type": "code",
   "execution_count": 47,
   "metadata": {
    "executionInfo": {
     "elapsed": 16938,
     "status": "ok",
     "timestamp": 1607702328493,
     "user": {
      "displayName": "ARAN COLL",
      "photoUrl": "",
      "userId": "03516064002169547289"
     },
     "user_tz": -60
    },
    "id": "yDbYjpnOIY5t"
   },
   "outputs": [],
   "source": [
    "# Define the parameters\n",
    "sample_number = 3000\n",
    "balance = True\n",
    "replace = True\n",
    "\n",
    "# And balance\n",
    "training = balance_dataset(dataset = data,\n",
    "                           sample_number = sample_number,\n",
    "                           balance = balance,\n",
    "                           replace = replace)"
   ]
  },
  {
   "cell_type": "code",
   "execution_count": 48,
   "metadata": {
    "colab": {
     "base_uri": "https://localhost:8080/",
     "height": 313
    },
    "executionInfo": {
     "elapsed": 17159,
     "status": "ok",
     "timestamp": 1607702328719,
     "user": {
      "displayName": "ARAN COLL",
      "photoUrl": "",
      "userId": "03516064002169547289"
     },
     "user_tz": -60
    },
    "id": "7lvJWeC2IY5t",
    "outputId": "a5816547-a6cd-4e0d-d8b1-398e7092a5fd"
   },
   "outputs": [
    {
     "data": {
      "image/png": "[encoded data removed]",
      "text/plain": [
       "<Figure size 432x288 with 1 Axes>"
      ]
     },
     "metadata": {
      "needs_background": "light",
      "tags": []
     },
     "output_type": "display_data"
    },
    {
     "name": "stdout",
     "output_type": "stream",
     "text": [
      "Now the dataset is balanced.\n"
     ]
    }
   ],
   "source": [
    "ax = sns.countplot(x=\"Sentiment\", data=training)\n",
    "plt.title('Sentiment bar plot balanced')\n",
    "plt.show()\n",
    "print(\"Now the dataset is balanced.\")"
   ]
  },
  {
   "cell_type": "markdown",
   "metadata": {
    "id": "Pq55_C2AIY5u"
   },
   "source": [
    "### 2.2. Converting text into numeric values\n",
    "\n",
    "When working with LSTMs (and almost with any other model) the input must be numerical. Therefore, we need to map our text into numerical values, and for this purpose we will tokenize the text and pad it."
   ]
  },
  {
   "cell_type": "code",
   "execution_count": 49,
   "metadata": {
    "executionInfo": {
     "elapsed": 17157,
     "status": "ok",
     "timestamp": 1607702328722,
     "user": {
      "displayName": "ARAN COLL",
      "photoUrl": "",
      "userId": "03516064002169547289"
     },
     "user_tz": -60
    },
    "id": "BN8138ZZIY5u"
   },
   "outputs": [],
   "source": [
    "# Define the text field to be used\n",
    "text_field = \"Standardized_Text\""
   ]
  },
  {
   "cell_type": "markdown",
   "metadata": {
    "id": "QKa3uTUsIY5u"
   },
   "source": [
    "There is a very important question here, and it is: how many words do I keep? In order to be able to answer this question, we will plot the distribution and box plot of the text length.\n",
    "\n",
    "**[EX 11]**\n",
    "\n",
    "Fill up the function *plot_text_length_distribution* (where is marked as TODO). This function will plot the distribution and box plot of the text length and define the vocabulary (future value of *max_num_words*) of the text.\n",
    "\n",
    "**Solution**"
   ]
  },
  {
   "cell_type": "code",
   "execution_count": 50,
   "metadata": {
    "executionInfo": {
     "elapsed": 17152,
     "status": "ok",
     "timestamp": 1607702328723,
     "user": {
      "displayName": "ARAN COLL",
      "photoUrl": "",
      "userId": "03516064002169547289"
     },
     "user_tz": -60
    },
    "id": "4cXEJnE-IY5u"
   },
   "outputs": [],
   "source": [
    "def plot_text_length_distribution(dataset: pd.DataFrame,\n",
    "                                  text_field: str):\n",
    "    # TODO: compute the vocabulary size for the given text field\n",
    "    vocabulary_size = len(np.unique(dataset[text_field].values))\n",
    "    print(\"\\nThe vocabulary is composed by {0} words \\n\".format(vocabulary_size))\n",
    "    \n",
    "    # TODO: compute the lengths\n",
    "    lengths = dataset[text_field].str.split(\" \").apply(len).value_counts()\n",
    "    \n",
    "    # Build the figures\n",
    "    plt.figure(figsize = (16, 10))\n",
    "    plt.subplot(211)\n",
    "    \n",
    "    # TODO: Plot the distribution\n",
    "    plt.bar(x=lengths.keys(), height=lengths.values)\n",
    "    \n",
    "    # Assign the title\n",
    "    plt.title(\"Distribución de la longitud de las frases\")\n",
    "    plt.xlabel(\"Longitud de la frase\")\n",
    "    plt.ylabel(\"Número de frases\")\n",
    "\n",
    "    # Set the second plot\n",
    "    plt.subplot(212)\n",
    "    \n",
    "    # TODO: plot the box plot\n",
    "    plt.boxplot(x=lengths.keys())\n",
    "    \n",
    "    # Show\n",
    "    plt.show()"
   ]
  },
  {
   "cell_type": "markdown",
   "metadata": {
    "id": "EPX691zUIY5u"
   },
   "source": [
    "Plot the distribution"
   ]
  },
  {
   "cell_type": "code",
   "execution_count": 51,
   "metadata": {
    "colab": {
     "base_uri": "https://localhost:8080/",
     "height": 660
    },
    "executionInfo": {
     "elapsed": 17995,
     "status": "ok",
     "timestamp": 1607702329574,
     "user": {
      "displayName": "ARAN COLL",
      "photoUrl": "",
      "userId": "03516064002169547289"
     },
     "user_tz": -60
    },
    "id": "7JM2J--BIY5u",
    "outputId": "fafae65a-b599-453f-db48-cf1ef9689d39"
   },
   "outputs": [
    {
     "name": "stdout",
     "output_type": "stream",
     "text": [
      "\n",
      "The vocabulary is composed by 5160 words \n",
      "\n"
     ]
    },
    {
     "data": {
      "image/png": "[encoded data removed]",
      "text/plain": [
       "<Figure size 1152x720 with 2 Axes>"
      ]
     },
     "metadata": {
      "needs_background": "light",
      "tags": []
     },
     "output_type": "display_data"
    }
   ],
   "source": [
    "plot_text_length_distribution(dataset = training,\n",
    "                              text_field = text_field)"
   ]
  },
  {
   "cell_type": "markdown",
   "metadata": {
    "id": "LpI3fq6bIY5v"
   },
   "source": [
    "**[EX 12]** \n",
    "\n",
    "Use the function *plot_text_length_distribution* to compare among all available text fields and describe what you appreciate.\n",
    "\n",
    "**Solution**"
   ]
  },
  {
   "cell_type": "code",
   "execution_count": 52,
   "metadata": {
    "colab": {
     "base_uri": "https://localhost:8080/"
    },
    "executionInfo": {
     "elapsed": 17987,
     "status": "ok",
     "timestamp": 1607702329576,
     "user": {
      "displayName": "ARAN COLL",
      "photoUrl": "",
      "userId": "03516064002169547289"
     },
     "user_tz": -60
    },
    "id": "lfpVTvQoIY5v",
    "outputId": "3f5281cf-dae7-42f3-de40-4183a65f4682"
   },
   "outputs": [
    {
     "name": "stdout",
     "output_type": "stream",
     "text": [
      "We appreciate that most of the feedback comments have rather short lengths, with a mean nearby the 50 words. \n"
     ]
    }
   ],
   "source": [
    "print('We appreciate that most of the feedback comments have rather short lengths, with a mean nearby the 50 words. ')"
   ]
  },
  {
   "cell_type": "markdown",
   "metadata": {
    "id": "cls3T8PeIY5v"
   },
   "source": []
  },
  {
   "cell_type": "markdown",
   "metadata": {
    "id": "vLpMIXN6IY5v"
   },
   "source": [
    "**[EX 13]** \n",
    "\n",
    "Define the *max_num_words* and explain why you have chose that number\n",
    "\n",
    "**Solution**"
   ]
  },
  {
   "cell_type": "code",
   "execution_count": 53,
   "metadata": {
    "colab": {
     "base_uri": "https://localhost:8080/"
    },
    "executionInfo": {
     "elapsed": 17981,
     "status": "ok",
     "timestamp": 1607702329579,
     "user": {
      "displayName": "ARAN COLL",
      "photoUrl": "",
      "userId": "03516064002169547289"
     },
     "user_tz": -60
    },
    "id": "b08PHy50IY5v",
    "outputId": "fca2dd1d-034a-4b1a-f2b7-e8ce4b45a43c"
   },
   "outputs": [
    {
     "name": "stdout",
     "output_type": "stream",
     "text": [
      "We take one thousand as max num words since its about the 20% of our total vocabulary length.\n"
     ]
    }
   ],
   "source": [
    "max_num_words = 1000\n",
    "print('We take one thousand as max num words since its about the 20% of our total vocabulary length.')"
   ]
  },
  {
   "cell_type": "markdown",
   "metadata": {
    "id": "3AX4TFvxIY5w"
   },
   "source": [
    "Once the vocabulary is defined, the next step is to convert the text into numerical values. To do this, we will use the already defined [*Tokenizer* function](https://www.tensorflow.org/api_docs/python/tf/keras/preprocessing/text/Tokenizer) and [*pad_sequences*](https://www.tensorflow.org/api_docs/python/tf/keras/preprocessing/sequence/pad_sequences) from Tensorflow - Keras"
   ]
  },
  {
   "cell_type": "code",
   "execution_count": 54,
   "metadata": {
    "executionInfo": {
     "elapsed": 17973,
     "status": "ok",
     "timestamp": 1607702329580,
     "user": {
      "displayName": "ARAN COLL",
      "photoUrl": "",
      "userId": "03516064002169547289"
     },
     "user_tz": -60
    },
    "id": "wxCXefpuIY5w"
   },
   "outputs": [],
   "source": [
    "def map_text_into_numerical_values(dataset: pd.DataFrame,\n",
    "                                   text_field: str,\n",
    "                                   max_num_words: int,\n",
    "                                   print_info: bool = True,\n",
    "                                   tokenizer_dict = {}):\n",
    "    # Tokenize the text\n",
    "    if tokenizer_dict.get(\"tokenizer\") is None:\n",
    "        tokenizer = Tokenizer(num_words = max_num_words, split = \" \")\n",
    "        tokenizer.fit_on_texts(dataset[text_field].values)\n",
    "        tokenizer_dict['tokenizer'] = tokenizer\n",
    "    else:\n",
    "        tokenizer = tokenizer_dict.get(\"tokenizer\")\n",
    "    tokens = tokenizer.texts_to_sequences(dataset[text_field].values)\n",
    "    \n",
    "    # Padd the values in order to get the same length\n",
    "    padded_tokens = pad_sequences(tokens, maxlen = tokenizer_dict.get(\"max_pad_sequence_length\"))\n",
    "    if tokenizer_dict.get(\"max_pad_sequence_length\") is None:\n",
    "        tokenizer_dict[\"max_pad_sequence_length\"] = len(padded_tokens[0])\n",
    "        \n",
    "    # Print some information\n",
    "    if print_info:\n",
    "        for index in range(0, 3):\n",
    "            print(\"\\n- Original token length: {} \\n- Padded token length: {} \\n- Text: {} \\n- Tokenized text: {} \\n- Padded tokenized text: {}\".format(len(tokens[index]), \n",
    "                                                                                                                                                       len(padded_tokens[index]),\n",
    "                                                                                                                                                       dataset[text_field].values[index], \n",
    "                                                                                                                                                       tokens[index],\n",
    "                                                                                                                                                       padded_tokens[index]))\n",
    "\n",
    "    return tokens, padded_tokens, tokenizer_dict"
   ]
  },
  {
   "cell_type": "code",
   "execution_count": 55,
   "metadata": {
    "colab": {
     "base_uri": "https://localhost:8080/"
    },
    "executionInfo": {
     "elapsed": 17965,
     "status": "ok",
     "timestamp": 1607702329581,
     "user": {
      "displayName": "ARAN COLL",
      "photoUrl": "",
      "userId": "03516064002169547289"
     },
     "user_tz": -60
    },
    "id": "oa2FNdh2IY5w",
    "outputId": "e811721d-548e-47f1-cecc-712636e3abeb"
   },
   "outputs": [
    {
     "name": "stdout",
     "output_type": "stream",
     "text": [
      "\n",
      "- Original token length: 8 \n",
      "- Padded token length: 356 \n",
      "- Text: dont purchas becauseaft one month right side earphon work \n",
      "- Tokenized text: [26, 54, 9, 12, 103, 37, 8, 6] \n",
      "- Padded tokenized text: [  0   0   0   0   0   0   0   0   0   0   0   0   0   0   0   0   0   0\n",
      "   0   0   0   0   0   0   0   0   0   0   0   0   0   0   0   0   0   0\n",
      "   0   0   0   0   0   0   0   0   0   0   0   0   0   0   0   0   0   0\n",
      "   0   0   0   0   0   0   0   0   0   0   0   0   0   0   0   0   0   0\n",
      "   0   0   0   0   0   0   0   0   0   0   0   0   0   0   0   0   0   0\n",
      "   0   0   0   0   0   0   0   0   0   0   0   0   0   0   0   0   0   0\n",
      "   0   0   0   0   0   0   0   0   0   0   0   0   0   0   0   0   0   0\n",
      "   0   0   0   0   0   0   0   0   0   0   0   0   0   0   0   0   0   0\n",
      "   0   0   0   0   0   0   0   0   0   0   0   0   0   0   0   0   0   0\n",
      "   0   0   0   0   0   0   0   0   0   0   0   0   0   0   0   0   0   0\n",
      "   0   0   0   0   0   0   0   0   0   0   0   0   0   0   0   0   0   0\n",
      "   0   0   0   0   0   0   0   0   0   0   0   0   0   0   0   0   0   0\n",
      "   0   0   0   0   0   0   0   0   0   0   0   0   0   0   0   0   0   0\n",
      "   0   0   0   0   0   0   0   0   0   0   0   0   0   0   0   0   0   0\n",
      "   0   0   0   0   0   0   0   0   0   0   0   0   0   0   0   0   0   0\n",
      "   0   0   0   0   0   0   0   0   0   0   0   0   0   0   0   0   0   0\n",
      "   0   0   0   0   0   0   0   0   0   0   0   0   0   0   0   0   0   0\n",
      "   0   0   0   0   0   0   0   0   0   0   0   0   0   0   0   0   0   0\n",
      "   0   0   0   0   0   0   0   0   0   0   0   0   0   0   0   0   0   0\n",
      "   0   0   0   0   0   0  26  54   9  12 103  37   8   6]\n",
      "\n",
      "- Original token length: 4 \n",
      "- Padded token length: 356 \n",
      "- Text: realli mark could better \n",
      "- Tokenized text: [48, 171, 146, 23] \n",
      "- Padded tokenized text: [  0   0   0   0   0   0   0   0   0   0   0   0   0   0   0   0   0   0\n",
      "   0   0   0   0   0   0   0   0   0   0   0   0   0   0   0   0   0   0\n",
      "   0   0   0   0   0   0   0   0   0   0   0   0   0   0   0   0   0   0\n",
      "   0   0   0   0   0   0   0   0   0   0   0   0   0   0   0   0   0   0\n",
      "   0   0   0   0   0   0   0   0   0   0   0   0   0   0   0   0   0   0\n",
      "   0   0   0   0   0   0   0   0   0   0   0   0   0   0   0   0   0   0\n",
      "   0   0   0   0   0   0   0   0   0   0   0   0   0   0   0   0   0   0\n",
      "   0   0   0   0   0   0   0   0   0   0   0   0   0   0   0   0   0   0\n",
      "   0   0   0   0   0   0   0   0   0   0   0   0   0   0   0   0   0   0\n",
      "   0   0   0   0   0   0   0   0   0   0   0   0   0   0   0   0   0   0\n",
      "   0   0   0   0   0   0   0   0   0   0   0   0   0   0   0   0   0   0\n",
      "   0   0   0   0   0   0   0   0   0   0   0   0   0   0   0   0   0   0\n",
      "   0   0   0   0   0   0   0   0   0   0   0   0   0   0   0   0   0   0\n",
      "   0   0   0   0   0   0   0   0   0   0   0   0   0   0   0   0   0   0\n",
      "   0   0   0   0   0   0   0   0   0   0   0   0   0   0   0   0   0   0\n",
      "   0   0   0   0   0   0   0   0   0   0   0   0   0   0   0   0   0   0\n",
      "   0   0   0   0   0   0   0   0   0   0   0   0   0   0   0   0   0   0\n",
      "   0   0   0   0   0   0   0   0   0   0   0   0   0   0   0   0   0   0\n",
      "   0   0   0   0   0   0   0   0   0   0   0   0   0   0   0   0   0   0\n",
      "   0   0   0   0   0   0   0   0   0   0  48 171 146  23]\n",
      "\n",
      "- Original token length: 12 \n",
      "- Padded token length: 356 \n",
      "- Text: qualiti product mark scale voic connect bluetooth clear irrit voic like burrrrri continu come \n",
      "- Tokenized text: [3, 4, 171, 58, 21, 30, 74, 360, 58, 18, 278, 70] \n",
      "- Padded tokenized text: [  0   0   0   0   0   0   0   0   0   0   0   0   0   0   0   0   0   0\n",
      "   0   0   0   0   0   0   0   0   0   0   0   0   0   0   0   0   0   0\n",
      "   0   0   0   0   0   0   0   0   0   0   0   0   0   0   0   0   0   0\n",
      "   0   0   0   0   0   0   0   0   0   0   0   0   0   0   0   0   0   0\n",
      "   0   0   0   0   0   0   0   0   0   0   0   0   0   0   0   0   0   0\n",
      "   0   0   0   0   0   0   0   0   0   0   0   0   0   0   0   0   0   0\n",
      "   0   0   0   0   0   0   0   0   0   0   0   0   0   0   0   0   0   0\n",
      "   0   0   0   0   0   0   0   0   0   0   0   0   0   0   0   0   0   0\n",
      "   0   0   0   0   0   0   0   0   0   0   0   0   0   0   0   0   0   0\n",
      "   0   0   0   0   0   0   0   0   0   0   0   0   0   0   0   0   0   0\n",
      "   0   0   0   0   0   0   0   0   0   0   0   0   0   0   0   0   0   0\n",
      "   0   0   0   0   0   0   0   0   0   0   0   0   0   0   0   0   0   0\n",
      "   0   0   0   0   0   0   0   0   0   0   0   0   0   0   0   0   0   0\n",
      "   0   0   0   0   0   0   0   0   0   0   0   0   0   0   0   0   0   0\n",
      "   0   0   0   0   0   0   0   0   0   0   0   0   0   0   0   0   0   0\n",
      "   0   0   0   0   0   0   0   0   0   0   0   0   0   0   0   0   0   0\n",
      "   0   0   0   0   0   0   0   0   0   0   0   0   0   0   0   0   0   0\n",
      "   0   0   0   0   0   0   0   0   0   0   0   0   0   0   0   0   0   0\n",
      "   0   0   0   0   0   0   0   0   0   0   0   0   0   0   0   0   0   0\n",
      "   0   0   3   4 171  58  21  30  74 360  58  18 278  70]\n"
     ]
    }
   ],
   "source": [
    "tokens, padded_tokens, tokenizer_dict = map_text_into_numerical_values(dataset = training,\n",
    "                                                       text_field = text_field,\n",
    "                                                       max_num_words = max_num_words)"
   ]
  },
  {
   "cell_type": "markdown",
   "metadata": {
    "id": "3YOFprP0IY5w"
   },
   "source": [
    "**[EX 14]**\n",
    "\n",
    "Fill up the function *map_labels_to_onehot* (where is marked as TODO). This function will encode the labels into one-hot encoding values. \n",
    "\n",
    "Tip: see [pd.get_dummies](https://pandas.pydata.org/docs/reference/api/pandas.get_dummies.html)\n",
    "\n",
    "**Solution**"
   ]
  },
  {
   "cell_type": "code",
   "execution_count": 56,
   "metadata": {
    "executionInfo": {
     "elapsed": 17959,
     "status": "ok",
     "timestamp": 1607702329582,
     "user": {
      "displayName": "ARAN COLL",
      "photoUrl": "",
      "userId": "03516064002169547289"
     },
     "user_tz": -60
    },
    "id": "a4Hn5gyFIY5w"
   },
   "outputs": [],
   "source": [
    "def map_labels_to_onehot(dataset: pd.DataFrame,\n",
    "                         label_field: str):\n",
    "    \n",
    "    # TODO: return the labels encoded as one-hot\n",
    "    return pd.get_dummies(dataset[label_field]).values\n"
   ]
  },
  {
   "cell_type": "code",
   "execution_count": 57,
   "metadata": {
    "colab": {
     "base_uri": "https://localhost:8080/"
    },
    "executionInfo": {
     "elapsed": 17956,
     "status": "ok",
     "timestamp": 1607702329585,
     "user": {
      "displayName": "ARAN COLL",
      "photoUrl": "",
      "userId": "03516064002169547289"
     },
     "user_tz": -60
    },
    "id": "JsK5hC7rIY5w",
    "outputId": "4b9f05a8-52e7-4f1e-c112-7af7cef5b5e6"
   },
   "outputs": [
    {
     "data": {
      "text/plain": [
       "array([[1, 0, 0],\n",
       "       [1, 0, 0],\n",
       "       [1, 0, 0],\n",
       "       ...,\n",
       "       [0, 0, 1],\n",
       "       [0, 0, 1],\n",
       "       [0, 0, 1]], dtype=uint8)"
      ]
     },
     "execution_count": 57,
     "metadata": {
      "tags": []
     },
     "output_type": "execute_result"
    }
   ],
   "source": [
    "labels = map_labels_to_onehot(dataset = training,\n",
    "                              label_field = \"Sentiment\")\n",
    "labels"
   ]
  },
  {
   "cell_type": "markdown",
   "metadata": {
    "id": "Gs4c_Bq7IY5x"
   },
   "source": [
    "### 2.3. Getting training, validation and test datasets\n",
    "\n",
    "At this point you have already defined the feature values (*padded_tokens*) and the target ones (*labels*), so the next step is to split them into training, validation and test datasets in order to be able to train and validate the model.\n",
    "\n",
    "**[EX 15]**\n",
    "\n",
    "Fill up the function *get_datasets* (where is marked as TODO). This function will return the training, validation and test datasets, all of them composed by features and labels.\n",
    "\n",
    "**Solution**"
   ]
  },
  {
   "cell_type": "code",
   "execution_count": 58,
   "metadata": {
    "executionInfo": {
     "elapsed": 17949,
     "status": "ok",
     "timestamp": 1607702329587,
     "user": {
      "displayName": "ARAN COLL",
      "photoUrl": "",
      "userId": "03516064002169547289"
     },
     "user_tz": -60
    },
    "id": "jqolZACcIY5x"
   },
   "outputs": [],
   "source": [
    "def get_datasets(x, y, train_percentage = 0.9, validation_precentage = 0.5):\n",
    "    #X_train, X_val, X_test, y_train, y_val, y_test = None, None, None, None, None, None\n",
    "    \n",
    "    # TODO: Get training dataset\n",
    "    x_train, x_valtest, y_train, y_valtest = train_test_split(x, y, train_size = train_percentage, random_state=1)\n",
    "\n",
    "    # TODO: Get test and validation datasets\n",
    "    x_val, x_test, y_val, y_test = train_test_split(x_valtest, y_valtest, train_size = validation_precentage, random_state = 1)\n",
    "\n",
    "    # Return\n",
    "    return x_train, x_val, x_test, y_train, y_val, y_test\n"
   ]
  },
  {
   "cell_type": "code",
   "execution_count": 59,
   "metadata": {
    "executionInfo": {
     "elapsed": 17941,
     "status": "ok",
     "timestamp": 1607702329588,
     "user": {
      "displayName": "ARAN COLL",
      "photoUrl": "",
      "userId": "03516064002169547289"
     },
     "user_tz": -60
    },
    "id": "a_BFOfvNIY5x"
   },
   "outputs": [],
   "source": [
    "X_train, X_val, X_test, y_train, y_val, y_test = get_datasets(x = padded_tokens,\n",
    "                                                              y = labels)"
   ]
  },
  {
   "cell_type": "markdown",
   "metadata": {
    "id": "SKbKPLq1IY5x"
   },
   "source": [
    "# 2.4. Build up the model"
   ]
  },
  {
   "cell_type": "markdown",
   "metadata": {
    "id": "yWVk0BraIY5x"
   },
   "source": [
    "**[EX 16]**\n",
    "\n",
    "Fill up the functions *build_model* and *train_model* to build and train up your own model (you can use whatever model you desire) and plot the main model metrics and defend, on the report, why you have chosen that model (from model selection to hyperparameters selection) based on graphics and metrics. \n",
    "\n",
    "**Solution**"
   ]
  },
  {
   "cell_type": "code",
   "execution_count": 60,
   "metadata": {
    "executionInfo": {
     "elapsed": 18536,
     "status": "ok",
     "timestamp": 1607702330194,
     "user": {
      "displayName": "ARAN COLL",
      "photoUrl": "",
      "userId": "03516064002169547289"
     },
     "user_tz": -60
    },
    "id": "07S1zg_eIY5x"
   },
   "outputs": [],
   "source": [
    "import os\n",
    "import numpy as np\n",
    "import keras\n",
    "from keras.models import Sequential\n",
    "from keras.layers import Dense, LSTM\n",
    "from keras.layers import Flatten\n",
    "from keras.layers.embeddings import Embedding\n",
    "from keras.preprocessing import sequence\n",
    "from keras.layers import Dropout\n",
    "from keras.models import model_from_json\n",
    "from keras.models import load_model\n",
    "from tensorflow.keras import regularizers\n",
    "\n",
    "def build_model(**params):\n",
    "    # TODO: Build up the model  \n",
    "    number_classes=labels.shape[1]\n",
    "\n",
    "    model1 = Sequential()\n",
    "    model1.add(keras.layers.Embedding(input_dim=max_num_words, output_dim = 128)) #The embedding layer\n",
    "    model1.add(keras.layers.LSTM(32,dropout=0.5)) #Our LSTM layer\n",
    "    model1.add(keras.layers.Dense(16,activation='relu'))\n",
    "    model1.add(keras.layers.Dense(number_classes,activation='softmax'))\n",
    "\n",
    "\n",
    "    model1.compile(optimizer='adam',loss='categorical_crossentropy', metrics=['accuracy'])\n",
    "    model1.summary()\n",
    "    \n",
    "    return model1\n",
    "    \n",
    "\n",
    "def train_model(model, **params):\n",
    "    # TODO: train the model\n",
    "    history = model.fit(X_train, y_train, epochs=epochs,validation_data=(X_test, y_test))\n",
    "\n",
    "    return model, history"
   ]
  },
  {
   "cell_type": "markdown",
   "metadata": {
    "id": "Xs9S-SwnIY5y"
   },
   "source": [
    "Build and train the model"
   ]
  },
  {
   "cell_type": "code",
   "execution_count": 61,
   "metadata": {
    "colab": {
     "base_uri": "https://localhost:8080/"
    },
    "executionInfo": {
     "elapsed": 135939,
     "status": "ok",
     "timestamp": 1607703324124,
     "user": {
      "displayName": "ARAN COLL",
      "photoUrl": "",
      "userId": "03516064002169547289"
     },
     "user_tz": -60
    },
    "id": "3tz63g7DIY5y",
    "outputId": "ef5675f4-b514-4432-db92-9d3d92bba104"
   },
   "outputs": [
    {
     "name": "stdout",
     "output_type": "stream",
     "text": [
      "Model: \"sequential\"\n",
      "_________________________________________________________________\n",
      "Layer (type)                 Output Shape              Param #   \n",
      "=================================================================\n",
      "embedding (Embedding)        (None, None, 128)         128000    \n",
      "_________________________________________________________________\n",
      "lstm (LSTM)                  (None, 32)                20608     \n",
      "_________________________________________________________________\n",
      "dense (Dense)                (None, 16)                528       \n",
      "_________________________________________________________________\n",
      "dense_1 (Dense)              (None, 3)                 51        \n",
      "=================================================================\n",
      "Total params: 149,187\n",
      "Trainable params: 149,187\n",
      "Non-trainable params: 0\n",
      "_________________________________________________________________\n",
      "Epoch 1/20\n",
      "254/254 [==============================] - 49s 191ms/step - loss: 0.9213 - accuracy: 0.5449 - val_loss: 0.7786 - val_accuracy: 0.6600\n",
      "Epoch 2/20\n",
      "254/254 [==============================] - 50s 198ms/step - loss: 0.6849 - accuracy: 0.7064 - val_loss: 0.7000 - val_accuracy: 0.6978\n",
      "Epoch 3/20\n",
      "254/254 [==============================] - 51s 200ms/step - loss: 0.6112 - accuracy: 0.7520 - val_loss: 0.7012 - val_accuracy: 0.6867\n",
      "Epoch 4/20\n",
      "254/254 [==============================] - 49s 194ms/step - loss: 0.5637 - accuracy: 0.7727 - val_loss: 0.6683 - val_accuracy: 0.7156\n",
      "Epoch 5/20\n",
      "254/254 [==============================] - 49s 193ms/step - loss: 0.5206 - accuracy: 0.7963 - val_loss: 0.6641 - val_accuracy: 0.7267\n",
      "Epoch 6/20\n",
      "254/254 [==============================] - 48s 191ms/step - loss: 0.4913 - accuracy: 0.8079 - val_loss: 0.6520 - val_accuracy: 0.7267\n",
      "Epoch 7/20\n",
      "254/254 [==============================] - 51s 200ms/step - loss: 0.4635 - accuracy: 0.8172 - val_loss: 0.6251 - val_accuracy: 0.7667\n",
      "Epoch 8/20\n",
      "254/254 [==============================] - 49s 194ms/step - loss: 0.4349 - accuracy: 0.8286 - val_loss: 0.6292 - val_accuracy: 0.7467\n",
      "Epoch 9/20\n",
      "254/254 [==============================] - 48s 188ms/step - loss: 0.4170 - accuracy: 0.8389 - val_loss: 0.6399 - val_accuracy: 0.7489\n",
      "Epoch 10/20\n",
      "254/254 [==============================] - 49s 194ms/step - loss: 0.3947 - accuracy: 0.8453 - val_loss: 0.6368 - val_accuracy: 0.7489\n",
      "Epoch 11/20\n",
      "254/254 [==============================] - 50s 196ms/step - loss: 0.3889 - accuracy: 0.8417 - val_loss: 0.6531 - val_accuracy: 0.7511\n",
      "Epoch 12/20\n",
      "254/254 [==============================] - 48s 189ms/step - loss: 0.3651 - accuracy: 0.8553 - val_loss: 0.6824 - val_accuracy: 0.7489\n",
      "Epoch 13/20\n",
      "254/254 [==============================] - 50s 198ms/step - loss: 0.3505 - accuracy: 0.8569 - val_loss: 0.6721 - val_accuracy: 0.7622\n",
      "Epoch 14/20\n",
      "254/254 [==============================] - 49s 194ms/step - loss: 0.3285 - accuracy: 0.8695 - val_loss: 0.6809 - val_accuracy: 0.7578\n",
      "Epoch 15/20\n",
      "254/254 [==============================] - 50s 195ms/step - loss: 0.3212 - accuracy: 0.8720 - val_loss: 0.6954 - val_accuracy: 0.7667\n",
      "Epoch 16/20\n",
      "254/254 [==============================] - 49s 192ms/step - loss: 0.3092 - accuracy: 0.8756 - val_loss: 0.7915 - val_accuracy: 0.7711\n",
      "Epoch 17/20\n",
      "254/254 [==============================] - 49s 192ms/step - loss: 0.3022 - accuracy: 0.8775 - val_loss: 0.7248 - val_accuracy: 0.7756\n",
      "Epoch 18/20\n",
      "254/254 [==============================] - 50s 198ms/step - loss: 0.2891 - accuracy: 0.8817 - val_loss: 0.7276 - val_accuracy: 0.7733\n",
      "Epoch 19/20\n",
      "254/254 [==============================] - 49s 194ms/step - loss: 0.2753 - accuracy: 0.8851 - val_loss: 0.7649 - val_accuracy: 0.7733\n",
      "Epoch 20/20\n",
      "254/254 [==============================] - 49s 195ms/step - loss: 0.2714 - accuracy: 0.8909 - val_loss: 0.7802 - val_accuracy: 0.7778\n"
     ]
    }
   ],
   "source": [
    "# Build the model\n",
    "model = build_model(max_num_words = max_num_words, labels=labels)\n",
    "\n",
    "# Train the model\n",
    "epochs=20\n",
    "model, history = train_model(model = model, X_train=X_train, y_train=y_train, epochs = epochs)"
   ]
  },
  {
   "cell_type": "code",
   "execution_count": 62,
   "metadata": {
    "colab": {
     "base_uri": "https://localhost:8080/"
    },
    "executionInfo": {
     "elapsed": 672,
     "status": "ok",
     "timestamp": 1607703324737,
     "user": {
      "displayName": "ARAN COLL",
      "photoUrl": "",
      "userId": "03516064002169547289"
     },
     "user_tz": -60
    },
    "id": "BPxbU4vNIY5y",
    "outputId": "8e01429c-8f2b-460a-bd6a-3a5c64f16285"
   },
   "outputs": [
    {
     "name": "stdout",
     "output_type": "stream",
     "text": [
      "15/15 [==============================] - 0s 30ms/step - loss: 0.6111 - accuracy: 0.8289\n"
     ]
    }
   ],
   "source": [
    "score = model.evaluate(X_val, y_val)"
   ]
  },
  {
   "cell_type": "markdown",
   "metadata": {
    "id": "5Ndc5ynsIY5y"
   },
   "source": [
    "**[EX 17]**\n",
    "\n",
    "Predict the sentiment over the test dataset"
   ]
  },
  {
   "cell_type": "markdown",
   "metadata": {
    "id": "I97CFo3KJmu3"
   },
   "source": [
    "**Solution**"
   ]
  },
  {
   "cell_type": "code",
   "execution_count": 63,
   "metadata": {
    "executionInfo": {
     "elapsed": 47,
     "status": "ok",
     "timestamp": 1607703324740,
     "user": {
      "displayName": "ARAN COLL",
      "photoUrl": "",
      "userId": "03516064002169547289"
     },
     "user_tz": -60
    },
    "id": "zULGeVmPIY5z"
   },
   "outputs": [],
   "source": [
    "def get_prediction(model, \n",
    "                   data):\n",
    "    # TODO: predict \n",
    "    predictions = model.predict(data).argmax(axis=1)\n",
    "    return predictions\n",
    "\n",
    "def map_prediction(prediction_array):\n",
    "    # Define the sentiment dictionary\n",
    "    sentiment_dictionary = {\n",
    "        0: \"bad\", \n",
    "        1: \"good\",\n",
    "        2: \"neutral\"\n",
    "    }\n",
    "    \n",
    "    return list(map(sentiment_dictionary.get, prediction_array))"
   ]
  },
  {
   "cell_type": "code",
   "execution_count": 64,
   "metadata": {
    "colab": {
     "base_uri": "https://localhost:8080/"
    },
    "executionInfo": {
     "elapsed": 1166,
     "status": "ok",
     "timestamp": 1607703325884,
     "user": {
      "displayName": "ARAN COLL",
      "photoUrl": "",
      "userId": "03516064002169547289"
     },
     "user_tz": -60
    },
    "id": "YXf9XpyHIY5z",
    "outputId": "fb714fc1-8a01-4dd1-9cc0-6cf8d799762e"
   },
   "outputs": [
    {
     "data": {
      "text/plain": [
       "['neutral',\n",
       " 'good',\n",
       " 'neutral',\n",
       " 'good',\n",
       " 'bad',\n",
       " 'good',\n",
       " 'bad',\n",
       " 'neutral',\n",
       " 'good',\n",
       " 'neutral']"
      ]
     },
     "execution_count": 64,
     "metadata": {
      "tags": []
     },
     "output_type": "execute_result"
    }
   ],
   "source": [
    "# Predict\n",
    "predictions = get_prediction(model, data=X_test)\n",
    "\n",
    "# And map to understandable format\n",
    "map_prediction(predictions)[:10]"
   ]
  },
  {
   "cell_type": "markdown",
   "metadata": {
    "id": "_FsMhtliIY5z"
   },
   "source": [
    "**[EX 18]**\n",
    "\n",
    "Fill up the function *do_text_transformations* in order to performs all text transformations seen above to a given text "
   ]
  },
  {
   "cell_type": "markdown",
   "metadata": {
    "id": "BpG71no5IY5z"
   },
   "source": [
    "**Solution**"
   ]
  },
  {
   "cell_type": "code",
   "execution_count": 65,
   "metadata": {
    "executionInfo": {
     "elapsed": 101,
     "status": "ok",
     "timestamp": 1607703325888,
     "user": {
      "displayName": "ARAN COLL",
      "photoUrl": "",
      "userId": "03516064002169547289"
     },
     "user_tz": -60
    },
    "id": "1ouhTT6cIY5z"
   },
   "outputs": [],
   "source": [
    "def do_text_transformations(data: pd.DataFrame,\n",
    "                            text_field: str,\n",
    "                            max_num_words: int,\n",
    "                            tokenizer_dict: dict,\n",
    "                            language: str = \"english\"):\n",
    "    # TODO: Clean the text\n",
    "    data['Text_Clean'] = data[text_field].apply(lambda text: clean_text(text))\n",
    "    \n",
    "    # TODO: Standardize the text\n",
    "    data['Standardized_Text'] = data[\"Text_Clean\"].apply(lambda text: standardize_text(text, language))\n",
    "    \n",
    "    # TODO: Map text to numerical values\n",
    "    tokens, padded_tokens, tokenizer = map_text_into_numerical_values(dataset = data, text_field = text_field, max_num_words = max_num_words, tokenizer_dict=tokenizer_dict)\n",
    "    \n",
    "    # TODO: Assing the mapped text to dataset\n",
    "    data['Padded_Text'] = padded_tokens.tolist()\n",
    "    print(f'{type(data.Padded_Text)}')\n",
    "    return data, padded_tokens"
   ]
  },
  {
   "cell_type": "code",
   "execution_count": 66,
   "metadata": {
    "colab": {
     "base_uri": "https://localhost:8080/"
    },
    "executionInfo": {
     "elapsed": 568,
     "status": "ok",
     "timestamp": 1607703326427,
     "user": {
      "displayName": "ARAN COLL",
      "photoUrl": "",
      "userId": "03516064002169547289"
     },
     "user_tz": -60
    },
    "id": "yIUL_psVIY5z",
    "outputId": "2368fda2-a930-423a-e4bd-e9f3e5b82697",
    "scrolled": true
   },
   "outputs": [
    {
     "name": "stdout",
     "output_type": "stream",
     "text": [
      "\n",
      "- Original token length: 6 \n",
      "- Padded token length: 356 \n",
      "- Text: If u are looking for decent thing under 2k go for them, but there is nill noise cancelation. Sometimes the noise is more than the person talking.\n",
      " \n",
      "- Tokenized text: [67, 145, 129, 34, 558, 156] \n",
      "- Padded tokenized text: [  0   0   0   0   0   0   0   0   0   0   0   0   0   0   0   0   0   0\n",
      "   0   0   0   0   0   0   0   0   0   0   0   0   0   0   0   0   0   0\n",
      "   0   0   0   0   0   0   0   0   0   0   0   0   0   0   0   0   0   0\n",
      "   0   0   0   0   0   0   0   0   0   0   0   0   0   0   0   0   0   0\n",
      "   0   0   0   0   0   0   0   0   0   0   0   0   0   0   0   0   0   0\n",
      "   0   0   0   0   0   0   0   0   0   0   0   0   0   0   0   0   0   0\n",
      "   0   0   0   0   0   0   0   0   0   0   0   0   0   0   0   0   0   0\n",
      "   0   0   0   0   0   0   0   0   0   0   0   0   0   0   0   0   0   0\n",
      "   0   0   0   0   0   0   0   0   0   0   0   0   0   0   0   0   0   0\n",
      "   0   0   0   0   0   0   0   0   0   0   0   0   0   0   0   0   0   0\n",
      "   0   0   0   0   0   0   0   0   0   0   0   0   0   0   0   0   0   0\n",
      "   0   0   0   0   0   0   0   0   0   0   0   0   0   0   0   0   0   0\n",
      "   0   0   0   0   0   0   0   0   0   0   0   0   0   0   0   0   0   0\n",
      "   0   0   0   0   0   0   0   0   0   0   0   0   0   0   0   0   0   0\n",
      "   0   0   0   0   0   0   0   0   0   0   0   0   0   0   0   0   0   0\n",
      "   0   0   0   0   0   0   0   0   0   0   0   0   0   0   0   0   0   0\n",
      "   0   0   0   0   0   0   0   0   0   0   0   0   0   0   0   0   0   0\n",
      "   0   0   0   0   0   0   0   0   0   0   0   0   0   0   0   0   0   0\n",
      "   0   0   0   0   0   0   0   0   0   0   0   0   0   0   0   0   0   0\n",
      "   0   0   0   0   0   0   0   0  67 145 129  34 558 156]\n",
      "\n",
      "- Original token length: 1 \n",
      "- Padded token length: 356 \n",
      "- Text: Good\n",
      " \n",
      "- Tokenized text: [1] \n",
      "- Padded tokenized text: [0 0 0 0 0 0 0 0 0 0 0 0 0 0 0 0 0 0 0 0 0 0 0 0 0 0 0 0 0 0 0 0 0 0 0 0 0\n",
      " 0 0 0 0 0 0 0 0 0 0 0 0 0 0 0 0 0 0 0 0 0 0 0 0 0 0 0 0 0 0 0 0 0 0 0 0 0\n",
      " 0 0 0 0 0 0 0 0 0 0 0 0 0 0 0 0 0 0 0 0 0 0 0 0 0 0 0 0 0 0 0 0 0 0 0 0 0\n",
      " 0 0 0 0 0 0 0 0 0 0 0 0 0 0 0 0 0 0 0 0 0 0 0 0 0 0 0 0 0 0 0 0 0 0 0 0 0\n",
      " 0 0 0 0 0 0 0 0 0 0 0 0 0 0 0 0 0 0 0 0 0 0 0 0 0 0 0 0 0 0 0 0 0 0 0 0 0\n",
      " 0 0 0 0 0 0 0 0 0 0 0 0 0 0 0 0 0 0 0 0 0 0 0 0 0 0 0 0 0 0 0 0 0 0 0 0 0\n",
      " 0 0 0 0 0 0 0 0 0 0 0 0 0 0 0 0 0 0 0 0 0 0 0 0 0 0 0 0 0 0 0 0 0 0 0 0 0\n",
      " 0 0 0 0 0 0 0 0 0 0 0 0 0 0 0 0 0 0 0 0 0 0 0 0 0 0 0 0 0 0 0 0 0 0 0 0 0\n",
      " 0 0 0 0 0 0 0 0 0 0 0 0 0 0 0 0 0 0 0 0 0 0 0 0 0 0 0 0 0 0 0 0 0 0 0 0 0\n",
      " 0 0 0 0 0 0 0 0 0 0 0 0 0 0 0 0 0 0 0 0 0 0 1]\n",
      "\n",
      "- Original token length: 5 \n",
      "- Padded token length: 356 \n",
      "- Text: The sound is good. Ut there is a problem with the connector\n",
      " \n",
      "- Tokenized text: [2, 1, 558, 76, 721] \n",
      "- Padded tokenized text: [  0   0   0   0   0   0   0   0   0   0   0   0   0   0   0   0   0   0\n",
      "   0   0   0   0   0   0   0   0   0   0   0   0   0   0   0   0   0   0\n",
      "   0   0   0   0   0   0   0   0   0   0   0   0   0   0   0   0   0   0\n",
      "   0   0   0   0   0   0   0   0   0   0   0   0   0   0   0   0   0   0\n",
      "   0   0   0   0   0   0   0   0   0   0   0   0   0   0   0   0   0   0\n",
      "   0   0   0   0   0   0   0   0   0   0   0   0   0   0   0   0   0   0\n",
      "   0   0   0   0   0   0   0   0   0   0   0   0   0   0   0   0   0   0\n",
      "   0   0   0   0   0   0   0   0   0   0   0   0   0   0   0   0   0   0\n",
      "   0   0   0   0   0   0   0   0   0   0   0   0   0   0   0   0   0   0\n",
      "   0   0   0   0   0   0   0   0   0   0   0   0   0   0   0   0   0   0\n",
      "   0   0   0   0   0   0   0   0   0   0   0   0   0   0   0   0   0   0\n",
      "   0   0   0   0   0   0   0   0   0   0   0   0   0   0   0   0   0   0\n",
      "   0   0   0   0   0   0   0   0   0   0   0   0   0   0   0   0   0   0\n",
      "   0   0   0   0   0   0   0   0   0   0   0   0   0   0   0   0   0   0\n",
      "   0   0   0   0   0   0   0   0   0   0   0   0   0   0   0   0   0   0\n",
      "   0   0   0   0   0   0   0   0   0   0   0   0   0   0   0   0   0   0\n",
      "   0   0   0   0   0   0   0   0   0   0   0   0   0   0   0   0   0   0\n",
      "   0   0   0   0   0   0   0   0   0   0   0   0   0   0   0   0   0   0\n",
      "   0   0   0   0   0   0   0   0   0   0   0   0   0   0   0   0   0   0\n",
      "   0   0   0   0   0   0   0   0   0   2   1 558  76 721]\n",
      "<class 'pandas.core.series.Series'>\n"
     ]
    }
   ],
   "source": [
    "data_report, padded_tokens = do_text_transformations(data = data_report,\n",
    "                                      text_field = \"Text\",\n",
    "                                      tokenizer_dict = tokenizer_dict,\n",
    "                                      max_num_words = max_num_words)"
   ]
  },
  {
   "cell_type": "code",
   "execution_count": 67,
   "metadata": {
    "colab": {
     "base_uri": "https://localhost:8080/",
     "height": 399
    },
    "executionInfo": {
     "elapsed": 25,
     "status": "ok",
     "timestamp": 1607703326432,
     "user": {
      "displayName": "ARAN COLL",
      "photoUrl": "",
      "userId": "03516064002169547289"
     },
     "user_tz": -60
    },
    "id": "VyfpOX_eIY50",
    "outputId": "8dc34be9-4e96-413b-b49c-1a38aef1c175"
   },
   "outputs": [
    {
     "data": {
      "text/html": [
       "<div>\n",
       "<style scoped>\n",
       "    .dataframe tbody tr th:only-of-type {\n",
       "        vertical-align: middle;\n",
       "    }\n",
       "\n",
       "    .dataframe tbody tr th {\n",
       "        vertical-align: top;\n",
       "    }\n",
       "\n",
       "    .dataframe thead th {\n",
       "        text-align: right;\n",
       "    }\n",
       "</style>\n",
       "<table border=\"1\" class=\"dataframe\">\n",
       "  <thead>\n",
       "    <tr style=\"text-align: right;\">\n",
       "      <th></th>\n",
       "      <th>Product</th>\n",
       "      <th>Price</th>\n",
       "      <th>Text</th>\n",
       "      <th>Star</th>\n",
       "      <th>id</th>\n",
       "      <th>Text_Clean</th>\n",
       "      <th>Standardized_Text</th>\n",
       "      <th>Padded_Text</th>\n",
       "    </tr>\n",
       "  </thead>\n",
       "  <tbody>\n",
       "    <tr>\n",
       "      <th>1033</th>\n",
       "      <td>boAt Rockerz 255</td>\n",
       "      <td>1399</td>\n",
       "      <td>If u are looking for decent thing under 2k go ...</td>\n",
       "      <td>3</td>\n",
       "      <td>1033</td>\n",
       "      <td>if u are looking for decent thing under k go f...</td>\n",
       "      <td>u look decent thing k go nill nois cancel some...</td>\n",
       "      <td>[0, 0, 0, 0, 0, 0, 0, 0, 0, 0, 0, 0, 0, 0, 0, ...</td>\n",
       "    </tr>\n",
       "    <tr>\n",
       "      <th>13493</th>\n",
       "      <td>JBL T110BT</td>\n",
       "      <td>2000</td>\n",
       "      <td>Good\\n</td>\n",
       "      <td>4</td>\n",
       "      <td>13493</td>\n",
       "      <td>good</td>\n",
       "      <td>good</td>\n",
       "      <td>[0, 0, 0, 0, 0, 0, 0, 0, 0, 0, 0, 0, 0, 0, 0, ...</td>\n",
       "    </tr>\n",
       "    <tr>\n",
       "      <th>8852</th>\n",
       "      <td>Sennheiser CX 6.0BT</td>\n",
       "      <td>6499</td>\n",
       "      <td>The sound is good. Ut there is a problem with ...</td>\n",
       "      <td>2</td>\n",
       "      <td>8852</td>\n",
       "      <td>the sound is good ut there is a problem with t...</td>\n",
       "      <td>sound good ut problem connector</td>\n",
       "      <td>[0, 0, 0, 0, 0, 0, 0, 0, 0, 0, 0, 0, 0, 0, 0, ...</td>\n",
       "    </tr>\n",
       "    <tr>\n",
       "      <th>8125</th>\n",
       "      <td>Sennheiser CX 6.0BT</td>\n",
       "      <td>6499</td>\n",
       "      <td>The sound is very good, though I am no pro wit...</td>\n",
       "      <td>4</td>\n",
       "      <td>8125</td>\n",
       "      <td>the sound is very good though i am no pro with...</td>\n",
       "      <td>sound good though pro sound like samsung soni ...</td>\n",
       "      <td>[0, 0, 0, 0, 0, 0, 0, 0, 0, 0, 0, 0, 0, 0, 0, ...</td>\n",
       "    </tr>\n",
       "    <tr>\n",
       "      <th>255</th>\n",
       "      <td>boAt Rockerz 255</td>\n",
       "      <td>1399</td>\n",
       "      <td>The product is good.Sound is almost acceptable...</td>\n",
       "      <td>4</td>\n",
       "      <td>255</td>\n",
       "      <td>the product is goodsound is almost acceptable ...</td>\n",
       "      <td>product goodsound almost accept pricegood bass...</td>\n",
       "      <td>[0, 0, 0, 0, 0, 0, 0, 0, 0, 0, 0, 0, 0, 0, 0, ...</td>\n",
       "    </tr>\n",
       "    <tr>\n",
       "      <th>...</th>\n",
       "      <td>...</td>\n",
       "      <td>...</td>\n",
       "      <td>...</td>\n",
       "      <td>...</td>\n",
       "      <td>...</td>\n",
       "      <td>...</td>\n",
       "      <td>...</td>\n",
       "      <td>...</td>\n",
       "    </tr>\n",
       "    <tr>\n",
       "      <th>92</th>\n",
       "      <td>boAt Rockerz 255</td>\n",
       "      <td>1399</td>\n",
       "      <td>Amazon packaging : Not up to the mark, only co...</td>\n",
       "      <td>4</td>\n",
       "      <td>92</td>\n",
       "      <td>amazon packaging not up to the mark only comes...</td>\n",
       "      <td>amazon packag mark come plastic ploybag outer ...</td>\n",
       "      <td>[0, 0, 0, 0, 0, 0, 0, 0, 0, 0, 0, 0, 0, 0, 0, ...</td>\n",
       "    </tr>\n",
       "    <tr>\n",
       "      <th>2055</th>\n",
       "      <td>boAt Rockerz 255</td>\n",
       "      <td>1399</td>\n",
       "      <td>Good Battery, Sound. Cons- Bluetooth disconnec...</td>\n",
       "      <td>4</td>\n",
       "      <td>2055</td>\n",
       "      <td>good battery sound cons bluetooth disconnectin...</td>\n",
       "      <td>good batteri sound con bluetooth disconnect mo...</td>\n",
       "      <td>[0, 0, 0, 0, 0, 0, 0, 0, 0, 0, 0, 0, 0, 0, 0, ...</td>\n",
       "    </tr>\n",
       "    <tr>\n",
       "      <th>3045</th>\n",
       "      <td>boAt Rockerz 255</td>\n",
       "      <td>1399</td>\n",
       "      <td>Right side not working!!!!? 😖\\n</td>\n",
       "      <td>1</td>\n",
       "      <td>3045</td>\n",
       "      <td>right side not working</td>\n",
       "      <td>right side work</td>\n",
       "      <td>[0, 0, 0, 0, 0, 0, 0, 0, 0, 0, 0, 0, 0, 0, 0, ...</td>\n",
       "    </tr>\n",
       "    <tr>\n",
       "      <th>5251</th>\n",
       "      <td>Flybot Boom</td>\n",
       "      <td>1099</td>\n",
       "      <td>Very happy to buy this product,Good quality , ...</td>\n",
       "      <td>5</td>\n",
       "      <td>5251</td>\n",
       "      <td>very happy to buy this productgood quality eve...</td>\n",
       "      <td>happi buy productgood qualiti everyth awesom t...</td>\n",
       "      <td>[0, 0, 0, 0, 0, 0, 0, 0, 0, 0, 0, 0, 0, 0, 0, ...</td>\n",
       "    </tr>\n",
       "    <tr>\n",
       "      <th>11876</th>\n",
       "      <td>Sennheiser CX 6.0BT</td>\n",
       "      <td>6499</td>\n",
       "      <td>Have been using for more than a year even with...</td>\n",
       "      <td>4</td>\n",
       "      <td>11876</td>\n",
       "      <td>have been using for more than a year even with...</td>\n",
       "      <td>use year even rough usag work fine</td>\n",
       "      <td>[0, 0, 0, 0, 0, 0, 0, 0, 0, 0, 0, 0, 0, 0, 0, ...</td>\n",
       "    </tr>\n",
       "  </tbody>\n",
       "</table>\n",
       "<p>1434 rows × 8 columns</p>\n",
       "</div>"
      ],
      "text/plain": [
       "                   Product  Price  \\\n",
       "1033      boAt Rockerz 255   1399   \n",
       "13493           JBL T110BT   2000   \n",
       "8852   Sennheiser CX 6.0BT   6499   \n",
       "8125   Sennheiser CX 6.0BT   6499   \n",
       "255       boAt Rockerz 255   1399   \n",
       "...                    ...    ...   \n",
       "92        boAt Rockerz 255   1399   \n",
       "2055      boAt Rockerz 255   1399   \n",
       "3045      boAt Rockerz 255   1399   \n",
       "5251           Flybot Boom   1099   \n",
       "11876  Sennheiser CX 6.0BT   6499   \n",
       "\n",
       "                                                    Text  Star     id  \\\n",
       "1033   If u are looking for decent thing under 2k go ...     3   1033   \n",
       "13493                                             Good\\n     4  13493   \n",
       "8852   The sound is good. Ut there is a problem with ...     2   8852   \n",
       "8125   The sound is very good, though I am no pro wit...     4   8125   \n",
       "255    The product is good.Sound is almost acceptable...     4    255   \n",
       "...                                                  ...   ...    ...   \n",
       "92     Amazon packaging : Not up to the mark, only co...     4     92   \n",
       "2055   Good Battery, Sound. Cons- Bluetooth disconnec...     4   2055   \n",
       "3045                     Right side not working!!!!? 😖\\n     1   3045   \n",
       "5251   Very happy to buy this product,Good quality , ...     5   5251   \n",
       "11876  Have been using for more than a year even with...     4  11876   \n",
       "\n",
       "                                              Text_Clean  \\\n",
       "1033   if u are looking for decent thing under k go f...   \n",
       "13493                                               good   \n",
       "8852   the sound is good ut there is a problem with t...   \n",
       "8125   the sound is very good though i am no pro with...   \n",
       "255    the product is goodsound is almost acceptable ...   \n",
       "...                                                  ...   \n",
       "92     amazon packaging not up to the mark only comes...   \n",
       "2055   good battery sound cons bluetooth disconnectin...   \n",
       "3045                             right side not working    \n",
       "5251   very happy to buy this productgood quality eve...   \n",
       "11876  have been using for more than a year even with...   \n",
       "\n",
       "                                       Standardized_Text  \\\n",
       "1033   u look decent thing k go nill nois cancel some...   \n",
       "13493                                               good   \n",
       "8852                     sound good ut problem connector   \n",
       "8125   sound good though pro sound like samsung soni ...   \n",
       "255    product goodsound almost accept pricegood bass...   \n",
       "...                                                  ...   \n",
       "92     amazon packag mark come plastic ploybag outer ...   \n",
       "2055   good batteri sound con bluetooth disconnect mo...   \n",
       "3045                                    right side work    \n",
       "5251   happi buy productgood qualiti everyth awesom t...   \n",
       "11876                 use year even rough usag work fine   \n",
       "\n",
       "                                             Padded_Text  \n",
       "1033   [0, 0, 0, 0, 0, 0, 0, 0, 0, 0, 0, 0, 0, 0, 0, ...  \n",
       "13493  [0, 0, 0, 0, 0, 0, 0, 0, 0, 0, 0, 0, 0, 0, 0, ...  \n",
       "8852   [0, 0, 0, 0, 0, 0, 0, 0, 0, 0, 0, 0, 0, 0, 0, ...  \n",
       "8125   [0, 0, 0, 0, 0, 0, 0, 0, 0, 0, 0, 0, 0, 0, 0, ...  \n",
       "255    [0, 0, 0, 0, 0, 0, 0, 0, 0, 0, 0, 0, 0, 0, 0, ...  \n",
       "...                                                  ...  \n",
       "92     [0, 0, 0, 0, 0, 0, 0, 0, 0, 0, 0, 0, 0, 0, 0, ...  \n",
       "2055   [0, 0, 0, 0, 0, 0, 0, 0, 0, 0, 0, 0, 0, 0, 0, ...  \n",
       "3045   [0, 0, 0, 0, 0, 0, 0, 0, 0, 0, 0, 0, 0, 0, 0, ...  \n",
       "5251   [0, 0, 0, 0, 0, 0, 0, 0, 0, 0, 0, 0, 0, 0, 0, ...  \n",
       "11876  [0, 0, 0, 0, 0, 0, 0, 0, 0, 0, 0, 0, 0, 0, 0, ...  \n",
       "\n",
       "[1434 rows x 8 columns]"
      ]
     },
     "execution_count": 67,
     "metadata": {
      "tags": []
     },
     "output_type": "execute_result"
    }
   ],
   "source": [
    "data_report"
   ]
  },
  {
   "cell_type": "markdown",
   "metadata": {
    "id": "krqmj50_IY50"
   },
   "source": [
    "**[EX 19]**\n",
    "\n",
    "Fill up the function *predict_sentiment* in order to predict the sentiment for a given text"
   ]
  },
  {
   "cell_type": "markdown",
   "metadata": {
    "id": "ADkxlIpXIY50"
   },
   "source": [
    "**Solution**"
   ]
  },
  {
   "cell_type": "code",
   "execution_count": 68,
   "metadata": {
    "executionInfo": {
     "elapsed": 2660,
     "status": "ok",
     "timestamp": 1607703329082,
     "user": {
      "displayName": "ARAN COLL",
      "photoUrl": "",
      "userId": "03516064002169547289"
     },
     "user_tz": -60
    },
    "id": "WwCyBVRnIY50"
   },
   "outputs": [],
   "source": [
    "import torch\n",
    "def predict_sentiment(model,\n",
    "                      data: pd.DataFrame,\n",
    "                      max_num_words: int,\n",
    "                      tokenizer_dict: dict,\n",
    "                      field_to_use: str):\n",
    "    # TODO: Predict the sentiment for the given text\n",
    "    #_, padded_tokens, _ = map_text_into_numerical_values(dataset = data, text_field = \"Text\", max_num_words = max_num_words, tokenizer_dict=tokenizer_dict)\n",
    "    data['Sentiment_Prediction_Raw'] = get_prediction(model, padded_tokens)\n",
    "    \n",
    "    # TODO: Map the prediction\n",
    "    data['Sentiment_Prediction'] = map_prediction(data[\"Sentiment_Prediction_Raw\"])\n",
    "    \n",
    "    return data"
   ]
  },
  {
   "cell_type": "code",
   "execution_count": 69,
   "metadata": {
    "executionInfo": {
     "elapsed": 1545,
     "status": "ok",
     "timestamp": 1607703330620,
     "user": {
      "displayName": "ARAN COLL",
      "photoUrl": "",
      "userId": "03516064002169547289"
     },
     "user_tz": -60
    },
    "id": "vYxddQXsIY50",
    "scrolled": true
   },
   "outputs": [],
   "source": [
    "data_report = predict_sentiment(model, data = data_report, tokenizer_dict = tokenizer_dict,\n",
    "                                      max_num_words = max_num_words,field_to_use = \"Padded_Text\")"
   ]
  },
  {
   "cell_type": "code",
   "execution_count": 79,
   "metadata": {
    "colab": {
     "base_uri": "https://localhost:8080/",
     "height": 186
    },
    "executionInfo": {
     "elapsed": 545,
     "status": "ok",
     "timestamp": 1607703446344,
     "user": {
      "displayName": "ARAN COLL",
      "photoUrl": "",
      "userId": "03516064002169547289"
     },
     "user_tz": -60
    },
    "id": "JnH-R_ioIY51",
    "outputId": "b7d4948b-cfb7-4885-bff0-0031868b6ded"
   },
   "outputs": [
    {
     "data": {
      "text/html": [
       "<div>\n",
       "<style scoped>\n",
       "    .dataframe tbody tr th:only-of-type {\n",
       "        vertical-align: middle;\n",
       "    }\n",
       "\n",
       "    .dataframe tbody tr th {\n",
       "        vertical-align: top;\n",
       "    }\n",
       "\n",
       "    .dataframe thead th {\n",
       "        text-align: right;\n",
       "    }\n",
       "</style>\n",
       "<table border=\"1\" class=\"dataframe\">\n",
       "  <thead>\n",
       "    <tr style=\"text-align: right;\">\n",
       "      <th></th>\n",
       "      <th>Product</th>\n",
       "      <th>Price</th>\n",
       "      <th>Text</th>\n",
       "      <th>Star</th>\n",
       "      <th>id</th>\n",
       "      <th>Text_Clean</th>\n",
       "      <th>Standardized_Text</th>\n",
       "      <th>Padded_Text</th>\n",
       "      <th>Sentiment_Prediction_Raw</th>\n",
       "      <th>Sentiment_Prediction</th>\n",
       "    </tr>\n",
       "  </thead>\n",
       "  <tbody>\n",
       "    <tr>\n",
       "      <th>1033</th>\n",
       "      <td>boAt Rockerz 255</td>\n",
       "      <td>1399</td>\n",
       "      <td>If u are looking for decent thing under 2k go ...</td>\n",
       "      <td>3</td>\n",
       "      <td>1033</td>\n",
       "      <td>if u are looking for decent thing under k go f...</td>\n",
       "      <td>u look decent thing k go nill nois cancel some...</td>\n",
       "      <td>[0, 0, 0, 0, 0, 0, 0, 0, 0, 0, 0, 0, 0, 0, 0, ...</td>\n",
       "      <td>2</td>\n",
       "      <td>neutral</td>\n",
       "    </tr>\n",
       "    <tr>\n",
       "      <th>13493</th>\n",
       "      <td>JBL T110BT</td>\n",
       "      <td>2000</td>\n",
       "      <td>Good\\n</td>\n",
       "      <td>4</td>\n",
       "      <td>13493</td>\n",
       "      <td>good</td>\n",
       "      <td>good</td>\n",
       "      <td>[0, 0, 0, 0, 0, 0, 0, 0, 0, 0, 0, 0, 0, 0, 0, ...</td>\n",
       "      <td>1</td>\n",
       "      <td>good</td>\n",
       "    </tr>\n",
       "    <tr>\n",
       "      <th>8852</th>\n",
       "      <td>Sennheiser CX 6.0BT</td>\n",
       "      <td>6499</td>\n",
       "      <td>The sound is good. Ut there is a problem with ...</td>\n",
       "      <td>2</td>\n",
       "      <td>8852</td>\n",
       "      <td>the sound is good ut there is a problem with t...</td>\n",
       "      <td>sound good ut problem connector</td>\n",
       "      <td>[0, 0, 0, 0, 0, 0, 0, 0, 0, 0, 0, 0, 0, 0, 0, ...</td>\n",
       "      <td>1</td>\n",
       "      <td>good</td>\n",
       "    </tr>\n",
       "  </tbody>\n",
       "</table>\n",
       "</div>"
      ],
      "text/plain": [
       "                   Product  Price  \\\n",
       "1033      boAt Rockerz 255   1399   \n",
       "13493           JBL T110BT   2000   \n",
       "8852   Sennheiser CX 6.0BT   6499   \n",
       "\n",
       "                                                    Text  Star     id  \\\n",
       "1033   If u are looking for decent thing under 2k go ...     3   1033   \n",
       "13493                                             Good\\n     4  13493   \n",
       "8852   The sound is good. Ut there is a problem with ...     2   8852   \n",
       "\n",
       "                                              Text_Clean  \\\n",
       "1033   if u are looking for decent thing under k go f...   \n",
       "13493                                               good   \n",
       "8852   the sound is good ut there is a problem with t...   \n",
       "\n",
       "                                       Standardized_Text  \\\n",
       "1033   u look decent thing k go nill nois cancel some...   \n",
       "13493                                               good   \n",
       "8852                     sound good ut problem connector   \n",
       "\n",
       "                                             Padded_Text  \\\n",
       "1033   [0, 0, 0, 0, 0, 0, 0, 0, 0, 0, 0, 0, 0, 0, 0, ...   \n",
       "13493  [0, 0, 0, 0, 0, 0, 0, 0, 0, 0, 0, 0, 0, 0, 0, ...   \n",
       "8852   [0, 0, 0, 0, 0, 0, 0, 0, 0, 0, 0, 0, 0, 0, 0, ...   \n",
       "\n",
       "       Sentiment_Prediction_Raw Sentiment_Prediction  \n",
       "1033                          2              neutral  \n",
       "13493                         1                 good  \n",
       "8852                          1                 good  "
      ]
     },
     "execution_count": 79,
     "metadata": {
      "tags": []
     },
     "output_type": "execute_result"
    }
   ],
   "source": [
    "data_report.head(3)"
   ]
  },
  {
   "cell_type": "markdown",
   "metadata": {
    "id": "tbHIoXmuIY51"
   },
   "source": [
    "**[EX 20]**\n",
    "\n",
    "Fill up the functions *get_top_n_most_common_words*, *get_top_n_mainwords*, *get_main_and_related_words* that extracts a dataframe that indicates the main and related words per sentiment, and indicates which customer has used that words\n",
    "\n",
    "**Solution**"
   ]
  },
  {
   "cell_type": "code",
   "execution_count": 71,
   "metadata": {
    "executionInfo": {
     "elapsed": 37,
     "status": "ok",
     "timestamp": 1607703330636,
     "user": {
      "displayName": "ARAN COLL",
      "photoUrl": "",
      "userId": "03516064002169547289"
     },
     "user_tz": -60
    },
    "id": "r1cqNyYeIY51"
   },
   "outputs": [],
   "source": [
    "def get_top_n_most_common_words(nltk_text: nltk.Text,\n",
    "                                n: int):\n",
    "    # TODO: Extract the top n most common words from a given text \n",
    "    dictionary = {}\n",
    "    freq = nltk.FreqDist(samples = nltk_text.tokens)\n",
    "    dictionary = {word: counter for word, counter in freq.most_common(n)}\n",
    "\n",
    "       \n",
    "    # Return\n",
    "    return dictionary\n",
    "\n",
    "def get_top_n_mainwords(data: pd.DataFrame,\n",
    "                        text_field: str,\n",
    "                        n: int):\n",
    "    # Initialize the dataframes to be returned\n",
    "    mainwords_count_df = pd.DataFrame(columns = [\"MainWord\", \"MainWordCount\"])\n",
    "    mainwords_conversation_df = pd.DataFrame(columns=[\"MainWord\", \"Id\"])    \n",
    "    \n",
    "    # TODO: Get the top n mainwords counts and review ids where the mainwords are presented\n",
    "    nltk_text=data[text_field]\n",
    "    most_common_words_dict =  get_top_n_most_common_words(nltk_text=convert_to_nltk_text(data, text_field), n=n)\n",
    "    mainwords_count_df=mainwords_count_df.append(pd.DataFrame({\"MainWord\": most_common_words_dict.keys() ,\n",
    "                                                               \"MainWordCount\": most_common_words_dict.values()}),\n",
    "                                                 ignore_index = True, sort=False)\n",
    "       \n",
    "\n",
    "\n",
    "    print(f\"Main words: {list(most_common_words_dict.keys())}\")\n",
    "\n",
    "    if most_common_words_dict:\n",
    "          for mainword in most_common_words_dict.keys():\n",
    "            aux_df = data[data[text_field].str.contains(mainword) == True]\n",
    "            mainwords_conversation_df = mainwords_conversation_df.append(pd.DataFrame({\"MainWord\": mainword ,\n",
    "                                                               \"Id\": aux_df[\"id\"]}),\n",
    "                                                             ignore_index=True, sort=False)\n",
    "    \n",
    "                \n",
    "    return mainwords_count_df, mainwords_conversation_df\n",
    "\n",
    "\n",
    "\n",
    "def get_main_and_related_words_per_sentiment(data: pd.DataFrame,\n",
    "                                             n_mainwords: int,\n",
    "                                             n_relatedwords: int,\n",
    "                                             field_to_use: str,\n",
    "                                             sentiment_field: str):\n",
    "    # Initialize the dataframes to be returned\n",
    "    mainwords_count_df = pd.DataFrame(columns = [\"MainWord\", \"MainWordCount\", \"Sentiment\"])\n",
    "    mainwords_conversation_df = pd.DataFrame(columns=[\"MainWord\", \"Id\", \"Sentiment\"])\n",
    "    relatedword_per_mainword_df = pd.DataFrame(columns=[\"MainWord\", \"RelatedWord\", \"RelatedWordCount\", \"Sentiment\"])\n",
    "\n",
    "    # TODO: Get the mainwords and its related words per sentiment group.\n",
    "    sentiment_groups=data.groupby(by=[sentiment_field], as_index=False)\n",
    "    for group_date, grouped_df in sentiment_groups:\n",
    "        sentiment=grouped_df[sentiment_field].values[0]\n",
    "        print(f\"Mainwords for sentiment: {sentiment}.\") \n",
    "        mainwords_count_df_out, mainwords_conversation_df_out = get_top_n_mainwords(grouped_df, field_to_use, n_mainwords)\n",
    "\n",
    "        for mainword in mainwords_count_df_out.MainWord.unique():\n",
    "            aux_df=data[data[field_to_use].str.contains(mainword)==True]                                                                 \n",
    "            if not aux_df.empty:\n",
    "                most_common_words_dict = get_top_n_most_common_words(nltk_text=convert_to_nltk_text(aux_df, field_to_use), n=n_relatedwords)\n",
    "              \n",
    "                if most_common_words_dict:\n",
    "                    relatedword_per_mainword_df_out = pd.DataFrame({\"MainWord\": mainword, \"RelatedWord\": most_common_words_dict.keys(), \"RelatedWordCount\": most_common_words_dict.values(), \"Sentiment\": sentiment})   \n",
    "                    relatedword_per_mainword_df_out[\"Sentiment\"]=sentiment       \n",
    "                    relatedword_per_mainword_df = relatedword_per_mainword_df.append(relatedword_per_mainword_df_out)\n",
    "\n",
    "\n",
    "        mainwords_count_df_out[\"Sentiment\"]=sentiment\n",
    "        mainwords_conversation_df_out[\"Sentiment\"]=sentiment\n",
    "\n",
    "        mainwords_count_df =mainwords_count_df.append(mainwords_count_df_out,ignore_index=True, sort=False)                                                                 \n",
    "        mainwords_conversation_df = mainwords_conversation_df.append(mainwords_conversation_df_out, ignore_index=True, sort=False)  \n",
    "     \n",
    "        relatedword_per_mainword_df = relatedword_per_mainword_df[relatedword_per_mainword_df['MainWord'] != relatedword_per_mainword_df['RelatedWord']]                            \n",
    "\n",
    "    return mainwords_count_df, mainwords_conversation_df, relatedword_per_mainword_df\n",
    "\n"
   ]
  },
  {
   "cell_type": "code",
   "execution_count": 72,
   "metadata": {
    "colab": {
     "base_uri": "https://localhost:8080/"
    },
    "executionInfo": {
     "elapsed": 466,
     "status": "ok",
     "timestamp": 1607703331079,
     "user": {
      "displayName": "ARAN COLL",
      "photoUrl": "",
      "userId": "03516064002169547289"
     },
     "user_tz": -60
    },
    "id": "8mf2yTtuIY51",
    "outputId": "cc3756f4-23c7-4e10-e5ce-67a6332799d8"
   },
   "outputs": [
    {
     "name": "stdout",
     "output_type": "stream",
     "text": [
      "Mainwords for sentiment: bad.\n",
      "Main words: ['product', 'sound', 'qualiti', 'work', 'bass', 'month', 'one', 'good', 'earphon', 'use']\n",
      "Mainwords for sentiment: good.\n",
      "Main words: ['good', 'sound', 'qualiti', 'product', 'bass', 'use', 'best', 'earphon', 'batteri', 'one']\n",
      "Mainwords for sentiment: neutral.\n",
      "Main words: ['good', 'sound', 'qualiti', 'product', 'bass', 'use', 'batteri', 'earphon', 'work', 'ear']\n"
     ]
    }
   ],
   "source": [
    "mainwords_count_df, mainwords_conversation_df, relatedword_per_mainword_df = get_main_and_related_words_per_sentiment(data = data_report, \n",
    "                                                                                                                      n_mainwords = 10,\n",
    "                                                                                                                      n_relatedwords = 10,\n",
    "                                                                                                                      sentiment_field = \"Sentiment_Prediction\",\n",
    "                                                                                                                      field_to_use = \"Standardized_Text\")"
   ]
  },
  {
   "cell_type": "code",
   "execution_count": 73,
   "metadata": {
    "colab": {
     "base_uri": "https://localhost:8080/",
     "height": 135
    },
    "executionInfo": {
     "elapsed": 83,
     "status": "ok",
     "timestamp": 1607703331081,
     "user": {
      "displayName": "ARAN COLL",
      "photoUrl": "",
      "userId": "03516064002169547289"
     },
     "user_tz": -60
    },
    "id": "Ns4cq-ghIY51",
    "outputId": "1e8f62e0-06db-464e-d46d-5d667ef64ac5"
   },
   "outputs": [
    {
     "data": {
      "text/html": [
       "<div>\n",
       "<style scoped>\n",
       "    .dataframe tbody tr th:only-of-type {\n",
       "        vertical-align: middle;\n",
       "    }\n",
       "\n",
       "    .dataframe tbody tr th {\n",
       "        vertical-align: top;\n",
       "    }\n",
       "\n",
       "    .dataframe thead th {\n",
       "        text-align: right;\n",
       "    }\n",
       "</style>\n",
       "<table border=\"1\" class=\"dataframe\">\n",
       "  <thead>\n",
       "    <tr style=\"text-align: right;\">\n",
       "      <th></th>\n",
       "      <th>MainWord</th>\n",
       "      <th>MainWordCount</th>\n",
       "      <th>Sentiment</th>\n",
       "    </tr>\n",
       "  </thead>\n",
       "  <tbody>\n",
       "    <tr>\n",
       "      <th>0</th>\n",
       "      <td>product</td>\n",
       "      <td>107</td>\n",
       "      <td>bad</td>\n",
       "    </tr>\n",
       "    <tr>\n",
       "      <th>1</th>\n",
       "      <td>sound</td>\n",
       "      <td>94</td>\n",
       "      <td>bad</td>\n",
       "    </tr>\n",
       "    <tr>\n",
       "      <th>2</th>\n",
       "      <td>qualiti</td>\n",
       "      <td>90</td>\n",
       "      <td>bad</td>\n",
       "    </tr>\n",
       "  </tbody>\n",
       "</table>\n",
       "</div>"
      ],
      "text/plain": [
       "  MainWord MainWordCount Sentiment\n",
       "0  product           107       bad\n",
       "1    sound            94       bad\n",
       "2  qualiti            90       bad"
      ]
     },
     "execution_count": 73,
     "metadata": {
      "tags": []
     },
     "output_type": "execute_result"
    }
   ],
   "source": [
    "mainwords_count_df.head(3)"
   ]
  },
  {
   "cell_type": "code",
   "execution_count": 74,
   "metadata": {
    "colab": {
     "base_uri": "https://localhost:8080/",
     "height": 135
    },
    "executionInfo": {
     "elapsed": 65,
     "status": "ok",
     "timestamp": 1607703331082,
     "user": {
      "displayName": "ARAN COLL",
      "photoUrl": "",
      "userId": "03516064002169547289"
     },
     "user_tz": -60
    },
    "id": "KfUlPdsSIY52",
    "outputId": "9fa29037-fbd2-409a-dd9f-f7d5a135709a"
   },
   "outputs": [
    {
     "data": {
      "text/html": [
       "<div>\n",
       "<style scoped>\n",
       "    .dataframe tbody tr th:only-of-type {\n",
       "        vertical-align: middle;\n",
       "    }\n",
       "\n",
       "    .dataframe tbody tr th {\n",
       "        vertical-align: top;\n",
       "    }\n",
       "\n",
       "    .dataframe thead th {\n",
       "        text-align: right;\n",
       "    }\n",
       "</style>\n",
       "<table border=\"1\" class=\"dataframe\">\n",
       "  <thead>\n",
       "    <tr style=\"text-align: right;\">\n",
       "      <th></th>\n",
       "      <th>MainWord</th>\n",
       "      <th>Id</th>\n",
       "      <th>Sentiment</th>\n",
       "    </tr>\n",
       "  </thead>\n",
       "  <tbody>\n",
       "    <tr>\n",
       "      <th>0</th>\n",
       "      <td>product</td>\n",
       "      <td>4817</td>\n",
       "      <td>bad</td>\n",
       "    </tr>\n",
       "    <tr>\n",
       "      <th>1</th>\n",
       "      <td>product</td>\n",
       "      <td>1448</td>\n",
       "      <td>bad</td>\n",
       "    </tr>\n",
       "    <tr>\n",
       "      <th>2</th>\n",
       "      <td>product</td>\n",
       "      <td>5832</td>\n",
       "      <td>bad</td>\n",
       "    </tr>\n",
       "  </tbody>\n",
       "</table>\n",
       "</div>"
      ],
      "text/plain": [
       "  MainWord    Id Sentiment\n",
       "0  product  4817       bad\n",
       "1  product  1448       bad\n",
       "2  product  5832       bad"
      ]
     },
     "execution_count": 74,
     "metadata": {
      "tags": []
     },
     "output_type": "execute_result"
    }
   ],
   "source": [
    "mainwords_conversation_df.head(3)"
   ]
  },
  {
   "cell_type": "code",
   "execution_count": 75,
   "metadata": {
    "colab": {
     "base_uri": "https://localhost:8080/",
     "height": 135
    },
    "executionInfo": {
     "elapsed": 49,
     "status": "ok",
     "timestamp": 1607703331083,
     "user": {
      "displayName": "ARAN COLL",
      "photoUrl": "",
      "userId": "03516064002169547289"
     },
     "user_tz": -60
    },
    "id": "hPFB2eYCIY52",
    "outputId": "d66373c4-4f7b-4400-d1a8-e32cbadb0785"
   },
   "outputs": [
    {
     "data": {
      "text/html": [
       "<div>\n",
       "<style scoped>\n",
       "    .dataframe tbody tr th:only-of-type {\n",
       "        vertical-align: middle;\n",
       "    }\n",
       "\n",
       "    .dataframe tbody tr th {\n",
       "        vertical-align: top;\n",
       "    }\n",
       "\n",
       "    .dataframe thead th {\n",
       "        text-align: right;\n",
       "    }\n",
       "</style>\n",
       "<table border=\"1\" class=\"dataframe\">\n",
       "  <thead>\n",
       "    <tr style=\"text-align: right;\">\n",
       "      <th></th>\n",
       "      <th>MainWord</th>\n",
       "      <th>RelatedWord</th>\n",
       "      <th>RelatedWordCount</th>\n",
       "      <th>Sentiment</th>\n",
       "    </tr>\n",
       "  </thead>\n",
       "  <tbody>\n",
       "    <tr>\n",
       "      <th>1</th>\n",
       "      <td>product</td>\n",
       "      <td>good</td>\n",
       "      <td>210</td>\n",
       "      <td>bad</td>\n",
       "    </tr>\n",
       "    <tr>\n",
       "      <th>2</th>\n",
       "      <td>product</td>\n",
       "      <td>qualiti</td>\n",
       "      <td>173</td>\n",
       "      <td>bad</td>\n",
       "    </tr>\n",
       "    <tr>\n",
       "      <th>3</th>\n",
       "      <td>product</td>\n",
       "      <td>sound</td>\n",
       "      <td>170</td>\n",
       "      <td>bad</td>\n",
       "    </tr>\n",
       "  </tbody>\n",
       "</table>\n",
       "</div>"
      ],
      "text/plain": [
       "  MainWord RelatedWord RelatedWordCount Sentiment\n",
       "1  product        good              210       bad\n",
       "2  product     qualiti              173       bad\n",
       "3  product       sound              170       bad"
      ]
     },
     "execution_count": 75,
     "metadata": {
      "tags": []
     },
     "output_type": "execute_result"
    }
   ],
   "source": [
    "relatedword_per_mainword_df.head(3)"
   ]
  },
  {
   "cell_type": "code",
   "execution_count": 76,
   "metadata": {
    "colab": {
     "base_uri": "https://localhost:8080/",
     "height": 186
    },
    "executionInfo": {
     "elapsed": 36,
     "status": "ok",
     "timestamp": 1607703331084,
     "user": {
      "displayName": "ARAN COLL",
      "photoUrl": "",
      "userId": "03516064002169547289"
     },
     "user_tz": -60
    },
    "id": "Jd1A_JJZIY52",
    "outputId": "ced699ae-6450-4023-de34-e5e560599838"
   },
   "outputs": [
    {
     "data": {
      "text/html": [
       "<div>\n",
       "<style scoped>\n",
       "    .dataframe tbody tr th:only-of-type {\n",
       "        vertical-align: middle;\n",
       "    }\n",
       "\n",
       "    .dataframe tbody tr th {\n",
       "        vertical-align: top;\n",
       "    }\n",
       "\n",
       "    .dataframe thead th {\n",
       "        text-align: right;\n",
       "    }\n",
       "</style>\n",
       "<table border=\"1\" class=\"dataframe\">\n",
       "  <thead>\n",
       "    <tr style=\"text-align: right;\">\n",
       "      <th></th>\n",
       "      <th>Product</th>\n",
       "      <th>Price</th>\n",
       "      <th>Text</th>\n",
       "      <th>Star</th>\n",
       "      <th>id</th>\n",
       "      <th>Text_Clean</th>\n",
       "      <th>Standardized_Text</th>\n",
       "      <th>Padded_Text</th>\n",
       "      <th>Sentiment_Prediction_Raw</th>\n",
       "      <th>Sentiment_Prediction</th>\n",
       "    </tr>\n",
       "  </thead>\n",
       "  <tbody>\n",
       "    <tr>\n",
       "      <th>1033</th>\n",
       "      <td>boAt Rockerz 255</td>\n",
       "      <td>1399</td>\n",
       "      <td>If u are looking for decent thing under 2k go ...</td>\n",
       "      <td>3</td>\n",
       "      <td>1033</td>\n",
       "      <td>if u are looking for decent thing under k go f...</td>\n",
       "      <td>u look decent thing k go nill nois cancel some...</td>\n",
       "      <td>[0, 0, 0, 0, 0, 0, 0, 0, 0, 0, 0, 0, 0, 0, 0, ...</td>\n",
       "      <td>2</td>\n",
       "      <td>neutral</td>\n",
       "    </tr>\n",
       "    <tr>\n",
       "      <th>13493</th>\n",
       "      <td>JBL T110BT</td>\n",
       "      <td>2000</td>\n",
       "      <td>Good\\n</td>\n",
       "      <td>4</td>\n",
       "      <td>13493</td>\n",
       "      <td>good</td>\n",
       "      <td>good</td>\n",
       "      <td>[0, 0, 0, 0, 0, 0, 0, 0, 0, 0, 0, 0, 0, 0, 0, ...</td>\n",
       "      <td>1</td>\n",
       "      <td>good</td>\n",
       "    </tr>\n",
       "    <tr>\n",
       "      <th>8852</th>\n",
       "      <td>Sennheiser CX 6.0BT</td>\n",
       "      <td>6499</td>\n",
       "      <td>The sound is good. Ut there is a problem with ...</td>\n",
       "      <td>2</td>\n",
       "      <td>8852</td>\n",
       "      <td>the sound is good ut there is a problem with t...</td>\n",
       "      <td>sound good ut problem connector</td>\n",
       "      <td>[0, 0, 0, 0, 0, 0, 0, 0, 0, 0, 0, 0, 0, 0, 0, ...</td>\n",
       "      <td>1</td>\n",
       "      <td>good</td>\n",
       "    </tr>\n",
       "  </tbody>\n",
       "</table>\n",
       "</div>"
      ],
      "text/plain": [
       "                   Product  Price  \\\n",
       "1033      boAt Rockerz 255   1399   \n",
       "13493           JBL T110BT   2000   \n",
       "8852   Sennheiser CX 6.0BT   6499   \n",
       "\n",
       "                                                    Text  Star     id  \\\n",
       "1033   If u are looking for decent thing under 2k go ...     3   1033   \n",
       "13493                                             Good\\n     4  13493   \n",
       "8852   The sound is good. Ut there is a problem with ...     2   8852   \n",
       "\n",
       "                                              Text_Clean  \\\n",
       "1033   if u are looking for decent thing under k go f...   \n",
       "13493                                               good   \n",
       "8852   the sound is good ut there is a problem with t...   \n",
       "\n",
       "                                       Standardized_Text  \\\n",
       "1033   u look decent thing k go nill nois cancel some...   \n",
       "13493                                               good   \n",
       "8852                     sound good ut problem connector   \n",
       "\n",
       "                                             Padded_Text  \\\n",
       "1033   [0, 0, 0, 0, 0, 0, 0, 0, 0, 0, 0, 0, 0, 0, 0, ...   \n",
       "13493  [0, 0, 0, 0, 0, 0, 0, 0, 0, 0, 0, 0, 0, 0, 0, ...   \n",
       "8852   [0, 0, 0, 0, 0, 0, 0, 0, 0, 0, 0, 0, 0, 0, 0, ...   \n",
       "\n",
       "       Sentiment_Prediction_Raw Sentiment_Prediction  \n",
       "1033                          2              neutral  \n",
       "13493                         1                 good  \n",
       "8852                          1                 good  "
      ]
     },
     "execution_count": 76,
     "metadata": {
      "tags": []
     },
     "output_type": "execute_result"
    }
   ],
   "source": [
    "data_report.head(3)"
   ]
  },
  {
   "cell_type": "markdown",
   "metadata": {
    "id": "degs6j1VIY52"
   },
   "source": [
    "**[EX 21]**\n",
    "\n",
    "Save the *data_report*, *mainwords_count_df*, *mainwords_conversation_df*, *relatedword_per_mainword_df* and build up a dashboard with the idea of help to Customer Service to quickly understand what customers think about their product, identify those unsatisfied customers and see the main and related words"
   ]
  },
  {
   "cell_type": "code",
   "execution_count": 80,
   "metadata": {
    "executionInfo": {
     "elapsed": 3142,
     "status": "ok",
     "timestamp": 1607703601926,
     "user": {
      "displayName": "ARAN COLL",
      "photoUrl": "",
      "userId": "03516064002169547289"
     },
     "user_tz": -60
    },
    "id": "Fch1Fm5lIY53"
   },
   "outputs": [],
   "source": [
    "data_report.to_csv(\"outcomes/data_report.csv\", sep=';')\n",
    "mainwords_count_df.to_csv(\"outcomes/mainwords_count_df.csv\", sep=';')\n",
    "mainwords_conversation_df.to_csv(\"outcomes/mainwords_conversation_df.csv\", sep=';')\n",
    "relatedword_per_mainword_df.to_csv(\"outcomes/relatedword_per_mainword_df.csv\", sep=';')"
   ]
  }
 ],
 "metadata": {
  "colab": {
   "collapsed_sections": [],
   "name": "P9_AranColl.ipynb",
   "provenance": []
  },
  "kernelspec": {
   "display_name": "Python 3",
   "language": "python",
   "name": "python3"
  },
  "language_info": {
   "codemirror_mode": {
    "name": "ipython",
    "version": 3
   },
   "file_extension": ".py",
   "mimetype": "text/x-python",
   "name": "python",
   "nbconvert_exporter": "python",
   "pygments_lexer": "ipython3",
   "version": "3.8.3"
  }
 },
 "nbformat": 4,
 "nbformat_minor": 1
}
